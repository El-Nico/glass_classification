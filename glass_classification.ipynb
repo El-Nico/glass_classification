{
 "cells": [
  {
   "cell_type": "code",
   "execution_count": 200,
   "id": "b1edfc0d",
   "metadata": {},
   "outputs": [],
   "source": [
    "import pandas as pd"
   ]
  },
  {
   "cell_type": "code",
   "execution_count": 201,
   "id": "e397489c",
   "metadata": {},
   "outputs": [
    {
     "data": {
      "text/html": [
       "<div>\n",
       "<style scoped>\n",
       "    .dataframe tbody tr th:only-of-type {\n",
       "        vertical-align: middle;\n",
       "    }\n",
       "\n",
       "    .dataframe tbody tr th {\n",
       "        vertical-align: top;\n",
       "    }\n",
       "\n",
       "    .dataframe thead th {\n",
       "        text-align: right;\n",
       "    }\n",
       "</style>\n",
       "<table border=\"1\" class=\"dataframe\">\n",
       "  <thead>\n",
       "    <tr style=\"text-align: right;\">\n",
       "      <th></th>\n",
       "      <th>1</th>\n",
       "      <th>1.52101</th>\n",
       "      <th>13.64</th>\n",
       "      <th>4.49</th>\n",
       "      <th>1.10</th>\n",
       "      <th>71.78</th>\n",
       "      <th>0.06</th>\n",
       "      <th>8.75</th>\n",
       "      <th>0.00</th>\n",
       "      <th>0.00.1</th>\n",
       "      <th>1.1</th>\n",
       "    </tr>\n",
       "  </thead>\n",
       "  <tbody>\n",
       "    <tr>\n",
       "      <th>0</th>\n",
       "      <td>2</td>\n",
       "      <td>1.51761</td>\n",
       "      <td>13.89</td>\n",
       "      <td>3.60</td>\n",
       "      <td>1.36</td>\n",
       "      <td>72.73</td>\n",
       "      <td>0.48</td>\n",
       "      <td>7.83</td>\n",
       "      <td>0.00</td>\n",
       "      <td>0.00</td>\n",
       "      <td>1</td>\n",
       "    </tr>\n",
       "    <tr>\n",
       "      <th>1</th>\n",
       "      <td>3</td>\n",
       "      <td>1.51618</td>\n",
       "      <td>13.53</td>\n",
       "      <td>3.55</td>\n",
       "      <td>1.54</td>\n",
       "      <td>72.99</td>\n",
       "      <td>0.39</td>\n",
       "      <td>7.78</td>\n",
       "      <td>0.00</td>\n",
       "      <td>0.00</td>\n",
       "      <td>1</td>\n",
       "    </tr>\n",
       "    <tr>\n",
       "      <th>2</th>\n",
       "      <td>4</td>\n",
       "      <td>1.51766</td>\n",
       "      <td>13.21</td>\n",
       "      <td>3.69</td>\n",
       "      <td>1.29</td>\n",
       "      <td>72.61</td>\n",
       "      <td>0.57</td>\n",
       "      <td>8.22</td>\n",
       "      <td>0.00</td>\n",
       "      <td>0.00</td>\n",
       "      <td>1</td>\n",
       "    </tr>\n",
       "    <tr>\n",
       "      <th>3</th>\n",
       "      <td>5</td>\n",
       "      <td>1.51742</td>\n",
       "      <td>13.27</td>\n",
       "      <td>3.62</td>\n",
       "      <td>1.24</td>\n",
       "      <td>73.08</td>\n",
       "      <td>0.55</td>\n",
       "      <td>8.07</td>\n",
       "      <td>0.00</td>\n",
       "      <td>0.00</td>\n",
       "      <td>1</td>\n",
       "    </tr>\n",
       "    <tr>\n",
       "      <th>4</th>\n",
       "      <td>6</td>\n",
       "      <td>1.51596</td>\n",
       "      <td>12.79</td>\n",
       "      <td>3.61</td>\n",
       "      <td>1.62</td>\n",
       "      <td>72.97</td>\n",
       "      <td>0.64</td>\n",
       "      <td>8.07</td>\n",
       "      <td>0.00</td>\n",
       "      <td>0.26</td>\n",
       "      <td>1</td>\n",
       "    </tr>\n",
       "    <tr>\n",
       "      <th>...</th>\n",
       "      <td>...</td>\n",
       "      <td>...</td>\n",
       "      <td>...</td>\n",
       "      <td>...</td>\n",
       "      <td>...</td>\n",
       "      <td>...</td>\n",
       "      <td>...</td>\n",
       "      <td>...</td>\n",
       "      <td>...</td>\n",
       "      <td>...</td>\n",
       "      <td>...</td>\n",
       "    </tr>\n",
       "    <tr>\n",
       "      <th>208</th>\n",
       "      <td>210</td>\n",
       "      <td>1.51623</td>\n",
       "      <td>14.14</td>\n",
       "      <td>0.00</td>\n",
       "      <td>2.88</td>\n",
       "      <td>72.61</td>\n",
       "      <td>0.08</td>\n",
       "      <td>9.18</td>\n",
       "      <td>1.06</td>\n",
       "      <td>0.00</td>\n",
       "      <td>7</td>\n",
       "    </tr>\n",
       "    <tr>\n",
       "      <th>209</th>\n",
       "      <td>211</td>\n",
       "      <td>1.51685</td>\n",
       "      <td>14.92</td>\n",
       "      <td>0.00</td>\n",
       "      <td>1.99</td>\n",
       "      <td>73.06</td>\n",
       "      <td>0.00</td>\n",
       "      <td>8.40</td>\n",
       "      <td>1.59</td>\n",
       "      <td>0.00</td>\n",
       "      <td>7</td>\n",
       "    </tr>\n",
       "    <tr>\n",
       "      <th>210</th>\n",
       "      <td>212</td>\n",
       "      <td>1.52065</td>\n",
       "      <td>14.36</td>\n",
       "      <td>0.00</td>\n",
       "      <td>2.02</td>\n",
       "      <td>73.42</td>\n",
       "      <td>0.00</td>\n",
       "      <td>8.44</td>\n",
       "      <td>1.64</td>\n",
       "      <td>0.00</td>\n",
       "      <td>7</td>\n",
       "    </tr>\n",
       "    <tr>\n",
       "      <th>211</th>\n",
       "      <td>213</td>\n",
       "      <td>1.51651</td>\n",
       "      <td>14.38</td>\n",
       "      <td>0.00</td>\n",
       "      <td>1.94</td>\n",
       "      <td>73.61</td>\n",
       "      <td>0.00</td>\n",
       "      <td>8.48</td>\n",
       "      <td>1.57</td>\n",
       "      <td>0.00</td>\n",
       "      <td>7</td>\n",
       "    </tr>\n",
       "    <tr>\n",
       "      <th>212</th>\n",
       "      <td>214</td>\n",
       "      <td>1.51711</td>\n",
       "      <td>14.23</td>\n",
       "      <td>0.00</td>\n",
       "      <td>2.08</td>\n",
       "      <td>73.36</td>\n",
       "      <td>0.00</td>\n",
       "      <td>8.62</td>\n",
       "      <td>1.67</td>\n",
       "      <td>0.00</td>\n",
       "      <td>7</td>\n",
       "    </tr>\n",
       "  </tbody>\n",
       "</table>\n",
       "<p>213 rows × 11 columns</p>\n",
       "</div>"
      ],
      "text/plain": [
       "       1  1.52101  13.64  4.49  1.10  71.78  0.06  8.75  0.00  0.00.1  1.1\n",
       "0      2  1.51761  13.89  3.60  1.36  72.73  0.48  7.83  0.00    0.00    1\n",
       "1      3  1.51618  13.53  3.55  1.54  72.99  0.39  7.78  0.00    0.00    1\n",
       "2      4  1.51766  13.21  3.69  1.29  72.61  0.57  8.22  0.00    0.00    1\n",
       "3      5  1.51742  13.27  3.62  1.24  73.08  0.55  8.07  0.00    0.00    1\n",
       "4      6  1.51596  12.79  3.61  1.62  72.97  0.64  8.07  0.00    0.26    1\n",
       "..   ...      ...    ...   ...   ...    ...   ...   ...   ...     ...  ...\n",
       "208  210  1.51623  14.14  0.00  2.88  72.61  0.08  9.18  1.06    0.00    7\n",
       "209  211  1.51685  14.92  0.00  1.99  73.06  0.00  8.40  1.59    0.00    7\n",
       "210  212  1.52065  14.36  0.00  2.02  73.42  0.00  8.44  1.64    0.00    7\n",
       "211  213  1.51651  14.38  0.00  1.94  73.61  0.00  8.48  1.57    0.00    7\n",
       "212  214  1.51711  14.23  0.00  2.08  73.36  0.00  8.62  1.67    0.00    7\n",
       "\n",
       "[213 rows x 11 columns]"
      ]
     },
     "execution_count": 201,
     "metadata": {},
     "output_type": "execute_result"
    }
   ],
   "source": [
    "df = pd.read_csv(\"glass_data.csv\")\n",
    "df"
   ]
  },
  {
   "cell_type": "code",
   "execution_count": 202,
   "id": "844a2d2f",
   "metadata": {},
   "outputs": [
    {
     "data": {
      "text/html": [
       "<div>\n",
       "<style scoped>\n",
       "    .dataframe tbody tr th:only-of-type {\n",
       "        vertical-align: middle;\n",
       "    }\n",
       "\n",
       "    .dataframe tbody tr th {\n",
       "        vertical-align: top;\n",
       "    }\n",
       "\n",
       "    .dataframe thead th {\n",
       "        text-align: right;\n",
       "    }\n",
       "</style>\n",
       "<table border=\"1\" class=\"dataframe\">\n",
       "  <thead>\n",
       "    <tr style=\"text-align: right;\">\n",
       "      <th></th>\n",
       "      <th>1.52101</th>\n",
       "      <th>13.64</th>\n",
       "      <th>4.49</th>\n",
       "      <th>1.10</th>\n",
       "      <th>71.78</th>\n",
       "      <th>0.06</th>\n",
       "      <th>8.75</th>\n",
       "      <th>0.00</th>\n",
       "      <th>0.00.1</th>\n",
       "      <th>1.1</th>\n",
       "    </tr>\n",
       "  </thead>\n",
       "  <tbody>\n",
       "    <tr>\n",
       "      <th>0</th>\n",
       "      <td>1.51761</td>\n",
       "      <td>13.89</td>\n",
       "      <td>3.60</td>\n",
       "      <td>1.36</td>\n",
       "      <td>72.73</td>\n",
       "      <td>0.48</td>\n",
       "      <td>7.83</td>\n",
       "      <td>0.00</td>\n",
       "      <td>0.00</td>\n",
       "      <td>1</td>\n",
       "    </tr>\n",
       "    <tr>\n",
       "      <th>1</th>\n",
       "      <td>1.51618</td>\n",
       "      <td>13.53</td>\n",
       "      <td>3.55</td>\n",
       "      <td>1.54</td>\n",
       "      <td>72.99</td>\n",
       "      <td>0.39</td>\n",
       "      <td>7.78</td>\n",
       "      <td>0.00</td>\n",
       "      <td>0.00</td>\n",
       "      <td>1</td>\n",
       "    </tr>\n",
       "    <tr>\n",
       "      <th>2</th>\n",
       "      <td>1.51766</td>\n",
       "      <td>13.21</td>\n",
       "      <td>3.69</td>\n",
       "      <td>1.29</td>\n",
       "      <td>72.61</td>\n",
       "      <td>0.57</td>\n",
       "      <td>8.22</td>\n",
       "      <td>0.00</td>\n",
       "      <td>0.00</td>\n",
       "      <td>1</td>\n",
       "    </tr>\n",
       "    <tr>\n",
       "      <th>3</th>\n",
       "      <td>1.51742</td>\n",
       "      <td>13.27</td>\n",
       "      <td>3.62</td>\n",
       "      <td>1.24</td>\n",
       "      <td>73.08</td>\n",
       "      <td>0.55</td>\n",
       "      <td>8.07</td>\n",
       "      <td>0.00</td>\n",
       "      <td>0.00</td>\n",
       "      <td>1</td>\n",
       "    </tr>\n",
       "    <tr>\n",
       "      <th>4</th>\n",
       "      <td>1.51596</td>\n",
       "      <td>12.79</td>\n",
       "      <td>3.61</td>\n",
       "      <td>1.62</td>\n",
       "      <td>72.97</td>\n",
       "      <td>0.64</td>\n",
       "      <td>8.07</td>\n",
       "      <td>0.00</td>\n",
       "      <td>0.26</td>\n",
       "      <td>1</td>\n",
       "    </tr>\n",
       "    <tr>\n",
       "      <th>...</th>\n",
       "      <td>...</td>\n",
       "      <td>...</td>\n",
       "      <td>...</td>\n",
       "      <td>...</td>\n",
       "      <td>...</td>\n",
       "      <td>...</td>\n",
       "      <td>...</td>\n",
       "      <td>...</td>\n",
       "      <td>...</td>\n",
       "      <td>...</td>\n",
       "    </tr>\n",
       "    <tr>\n",
       "      <th>208</th>\n",
       "      <td>1.51623</td>\n",
       "      <td>14.14</td>\n",
       "      <td>0.00</td>\n",
       "      <td>2.88</td>\n",
       "      <td>72.61</td>\n",
       "      <td>0.08</td>\n",
       "      <td>9.18</td>\n",
       "      <td>1.06</td>\n",
       "      <td>0.00</td>\n",
       "      <td>7</td>\n",
       "    </tr>\n",
       "    <tr>\n",
       "      <th>209</th>\n",
       "      <td>1.51685</td>\n",
       "      <td>14.92</td>\n",
       "      <td>0.00</td>\n",
       "      <td>1.99</td>\n",
       "      <td>73.06</td>\n",
       "      <td>0.00</td>\n",
       "      <td>8.40</td>\n",
       "      <td>1.59</td>\n",
       "      <td>0.00</td>\n",
       "      <td>7</td>\n",
       "    </tr>\n",
       "    <tr>\n",
       "      <th>210</th>\n",
       "      <td>1.52065</td>\n",
       "      <td>14.36</td>\n",
       "      <td>0.00</td>\n",
       "      <td>2.02</td>\n",
       "      <td>73.42</td>\n",
       "      <td>0.00</td>\n",
       "      <td>8.44</td>\n",
       "      <td>1.64</td>\n",
       "      <td>0.00</td>\n",
       "      <td>7</td>\n",
       "    </tr>\n",
       "    <tr>\n",
       "      <th>211</th>\n",
       "      <td>1.51651</td>\n",
       "      <td>14.38</td>\n",
       "      <td>0.00</td>\n",
       "      <td>1.94</td>\n",
       "      <td>73.61</td>\n",
       "      <td>0.00</td>\n",
       "      <td>8.48</td>\n",
       "      <td>1.57</td>\n",
       "      <td>0.00</td>\n",
       "      <td>7</td>\n",
       "    </tr>\n",
       "    <tr>\n",
       "      <th>212</th>\n",
       "      <td>1.51711</td>\n",
       "      <td>14.23</td>\n",
       "      <td>0.00</td>\n",
       "      <td>2.08</td>\n",
       "      <td>73.36</td>\n",
       "      <td>0.00</td>\n",
       "      <td>8.62</td>\n",
       "      <td>1.67</td>\n",
       "      <td>0.00</td>\n",
       "      <td>7</td>\n",
       "    </tr>\n",
       "  </tbody>\n",
       "</table>\n",
       "<p>213 rows × 10 columns</p>\n",
       "</div>"
      ],
      "text/plain": [
       "     1.52101  13.64  4.49  1.10  71.78  0.06  8.75  0.00  0.00.1  1.1\n",
       "0    1.51761  13.89  3.60  1.36  72.73  0.48  7.83  0.00    0.00    1\n",
       "1    1.51618  13.53  3.55  1.54  72.99  0.39  7.78  0.00    0.00    1\n",
       "2    1.51766  13.21  3.69  1.29  72.61  0.57  8.22  0.00    0.00    1\n",
       "3    1.51742  13.27  3.62  1.24  73.08  0.55  8.07  0.00    0.00    1\n",
       "4    1.51596  12.79  3.61  1.62  72.97  0.64  8.07  0.00    0.26    1\n",
       "..       ...    ...   ...   ...    ...   ...   ...   ...     ...  ...\n",
       "208  1.51623  14.14  0.00  2.88  72.61  0.08  9.18  1.06    0.00    7\n",
       "209  1.51685  14.92  0.00  1.99  73.06  0.00  8.40  1.59    0.00    7\n",
       "210  1.52065  14.36  0.00  2.02  73.42  0.00  8.44  1.64    0.00    7\n",
       "211  1.51651  14.38  0.00  1.94  73.61  0.00  8.48  1.57    0.00    7\n",
       "212  1.51711  14.23  0.00  2.08  73.36  0.00  8.62  1.67    0.00    7\n",
       "\n",
       "[213 rows x 10 columns]"
      ]
     },
     "execution_count": 202,
     "metadata": {},
     "output_type": "execute_result"
    }
   ],
   "source": [
    "# Drop first column of dataframe\n",
    "df = df.iloc[: , 1:]\n",
    "df"
   ]
  },
  {
   "cell_type": "code",
   "execution_count": 203,
   "id": "21ce5d98",
   "metadata": {},
   "outputs": [
    {
     "data": {
      "text/plain": [
       "(['r_index', 'na', 'mg', 'al', 'si', 'k', 'ca', 'ba', 'fe', 'glass_type'],\n",
       " ['building_windows_float_processed',\n",
       "  'building_windows_non_float_processed',\n",
       "  'vehicle_windows_float_processed',\n",
       "  'vehicle_windows_non_float_processed',\n",
       "  'containers',\n",
       "  'tableware',\n",
       "  'headlamps'])"
      ]
     },
     "execution_count": 203,
     "metadata": {},
     "output_type": "execute_result"
    }
   ],
   "source": [
    "cols=[\"r_index\",\"na\",\"mg\",\"al\",\"si\",\"k\",\"ca\",\"ba\",\"fe\",\"glass_type\"]\n",
    "\n",
    "labels=[\"building_windows_float_processed\",\n",
    "        \"building_windows_non_float_processed\",\n",
    "      \"vehicle_windows_float_processed\",\n",
    "      \"vehicle_windows_non_float_processed\",\n",
    "      \"containers\",\n",
    "      \"tableware\",\n",
    "      \"headlamps\"\n",
    "]\n",
    "cols, labels"
   ]
  },
  {
   "cell_type": "code",
   "execution_count": 205,
   "id": "0dfe0921",
   "metadata": {},
   "outputs": [
    {
     "data": {
      "text/html": [
       "<div>\n",
       "<style scoped>\n",
       "    .dataframe tbody tr th:only-of-type {\n",
       "        vertical-align: middle;\n",
       "    }\n",
       "\n",
       "    .dataframe tbody tr th {\n",
       "        vertical-align: top;\n",
       "    }\n",
       "\n",
       "    .dataframe thead th {\n",
       "        text-align: right;\n",
       "    }\n",
       "</style>\n",
       "<table border=\"1\" class=\"dataframe\">\n",
       "  <thead>\n",
       "    <tr style=\"text-align: right;\">\n",
       "      <th></th>\n",
       "      <th>r_index</th>\n",
       "      <th>na</th>\n",
       "      <th>mg</th>\n",
       "      <th>al</th>\n",
       "      <th>si</th>\n",
       "      <th>k</th>\n",
       "      <th>ca</th>\n",
       "      <th>ba</th>\n",
       "      <th>fe</th>\n",
       "      <th>glass_type</th>\n",
       "    </tr>\n",
       "  </thead>\n",
       "  <tbody>\n",
       "    <tr>\n",
       "      <th>0</th>\n",
       "      <td>1.51761</td>\n",
       "      <td>13.89</td>\n",
       "      <td>3.60</td>\n",
       "      <td>1.36</td>\n",
       "      <td>72.73</td>\n",
       "      <td>0.48</td>\n",
       "      <td>7.83</td>\n",
       "      <td>0.0</td>\n",
       "      <td>0.00</td>\n",
       "      <td>1</td>\n",
       "    </tr>\n",
       "    <tr>\n",
       "      <th>1</th>\n",
       "      <td>1.51618</td>\n",
       "      <td>13.53</td>\n",
       "      <td>3.55</td>\n",
       "      <td>1.54</td>\n",
       "      <td>72.99</td>\n",
       "      <td>0.39</td>\n",
       "      <td>7.78</td>\n",
       "      <td>0.0</td>\n",
       "      <td>0.00</td>\n",
       "      <td>1</td>\n",
       "    </tr>\n",
       "    <tr>\n",
       "      <th>2</th>\n",
       "      <td>1.51766</td>\n",
       "      <td>13.21</td>\n",
       "      <td>3.69</td>\n",
       "      <td>1.29</td>\n",
       "      <td>72.61</td>\n",
       "      <td>0.57</td>\n",
       "      <td>8.22</td>\n",
       "      <td>0.0</td>\n",
       "      <td>0.00</td>\n",
       "      <td>1</td>\n",
       "    </tr>\n",
       "    <tr>\n",
       "      <th>3</th>\n",
       "      <td>1.51742</td>\n",
       "      <td>13.27</td>\n",
       "      <td>3.62</td>\n",
       "      <td>1.24</td>\n",
       "      <td>73.08</td>\n",
       "      <td>0.55</td>\n",
       "      <td>8.07</td>\n",
       "      <td>0.0</td>\n",
       "      <td>0.00</td>\n",
       "      <td>1</td>\n",
       "    </tr>\n",
       "    <tr>\n",
       "      <th>4</th>\n",
       "      <td>1.51596</td>\n",
       "      <td>12.79</td>\n",
       "      <td>3.61</td>\n",
       "      <td>1.62</td>\n",
       "      <td>72.97</td>\n",
       "      <td>0.64</td>\n",
       "      <td>8.07</td>\n",
       "      <td>0.0</td>\n",
       "      <td>0.26</td>\n",
       "      <td>1</td>\n",
       "    </tr>\n",
       "  </tbody>\n",
       "</table>\n",
       "</div>"
      ],
      "text/plain": [
       "   r_index     na    mg    al     si     k    ca   ba    fe  glass_type\n",
       "0  1.51761  13.89  3.60  1.36  72.73  0.48  7.83  0.0  0.00           1\n",
       "1  1.51618  13.53  3.55  1.54  72.99  0.39  7.78  0.0  0.00           1\n",
       "2  1.51766  13.21  3.69  1.29  72.61  0.57  8.22  0.0  0.00           1\n",
       "3  1.51742  13.27  3.62  1.24  73.08  0.55  8.07  0.0  0.00           1\n",
       "4  1.51596  12.79  3.61  1.62  72.97  0.64  8.07  0.0  0.26           1"
      ]
     },
     "execution_count": 205,
     "metadata": {},
     "output_type": "execute_result"
    }
   ],
   "source": [
    "df.columns=cols\n",
    "df.head()"
   ]
  },
  {
   "cell_type": "code",
   "execution_count": 206,
   "id": "79302da4",
   "metadata": {
    "scrolled": true
   },
   "outputs": [
    {
     "data": {
      "text/plain": [
       "False"
      ]
     },
     "execution_count": 206,
     "metadata": {},
     "output_type": "execute_result"
    }
   ],
   "source": [
    "4 in df.glass_type.values"
   ]
  },
  {
   "cell_type": "code",
   "execution_count": 207,
   "id": "89683329",
   "metadata": {},
   "outputs": [
    {
     "data": {
      "text/plain": [
       "2    76\n",
       "1    69\n",
       "7    29\n",
       "3    17\n",
       "5    13\n",
       "6     9\n",
       "Name: glass_type, dtype: int64"
      ]
     },
     "execution_count": 207,
     "metadata": {},
     "output_type": "execute_result"
    }
   ],
   "source": [
    "df[\"glass_type\"].value_counts()"
   ]
  },
  {
   "cell_type": "code",
   "execution_count": 208,
   "id": "b9abf2a3",
   "metadata": {},
   "outputs": [
    {
     "data": {
      "text/plain": [
       "['building_windows_float_processed',\n",
       " 'building_windows_non_float_processed',\n",
       " 'vehicle_windows_float_processed',\n",
       " 'containers',\n",
       " 'tableware',\n",
       " 'headlamps']"
      ]
     },
     "execution_count": 208,
     "metadata": {},
     "output_type": "execute_result"
    }
   ],
   "source": [
    "del labels[3]\n",
    "labels"
   ]
  },
  {
   "cell_type": "code",
   "execution_count": 209,
   "id": "4f683945",
   "metadata": {},
   "outputs": [
    {
     "data": {
      "text/plain": [
       "1    76\n",
       "0    69\n",
       "5    29\n",
       "2    17\n",
       "3    13\n",
       "4     9\n",
       "Name: glass_type, dtype: int64"
      ]
     },
     "execution_count": 209,
     "metadata": {},
     "output_type": "execute_result"
    }
   ],
   "source": [
    "df.loc[df.glass_type <4, \"glass_type\"]-=1\n",
    "df.loc[df.glass_type >4, \"glass_type\"]-=2\n",
    "df[\"glass_type\"].value_counts()"
   ]
  },
  {
   "cell_type": "code",
   "execution_count": 210,
   "id": "d984615d",
   "metadata": {},
   "outputs": [
    {
     "data": {
      "text/html": [
       "<div>\n",
       "<style scoped>\n",
       "    .dataframe tbody tr th:only-of-type {\n",
       "        vertical-align: middle;\n",
       "    }\n",
       "\n",
       "    .dataframe tbody tr th {\n",
       "        vertical-align: top;\n",
       "    }\n",
       "\n",
       "    .dataframe thead th {\n",
       "        text-align: right;\n",
       "    }\n",
       "</style>\n",
       "<table border=\"1\" class=\"dataframe\">\n",
       "  <thead>\n",
       "    <tr style=\"text-align: right;\">\n",
       "      <th></th>\n",
       "      <th>r_index</th>\n",
       "      <th>na</th>\n",
       "      <th>mg</th>\n",
       "      <th>al</th>\n",
       "      <th>si</th>\n",
       "      <th>k</th>\n",
       "      <th>ca</th>\n",
       "      <th>ba</th>\n",
       "      <th>fe</th>\n",
       "      <th>glass_type</th>\n",
       "    </tr>\n",
       "  </thead>\n",
       "  <tbody>\n",
       "    <tr>\n",
       "      <th>count</th>\n",
       "      <td>213.000000</td>\n",
       "      <td>213.000000</td>\n",
       "      <td>213.000000</td>\n",
       "      <td>213.000000</td>\n",
       "      <td>213.000000</td>\n",
       "      <td>213.000000</td>\n",
       "      <td>213.000000</td>\n",
       "      <td>213.000000</td>\n",
       "      <td>213.000000</td>\n",
       "      <td>213.000000</td>\n",
       "    </tr>\n",
       "    <tr>\n",
       "      <th>mean</th>\n",
       "      <td>1.518353</td>\n",
       "      <td>13.406761</td>\n",
       "      <td>2.676056</td>\n",
       "      <td>1.446526</td>\n",
       "      <td>72.655023</td>\n",
       "      <td>0.499108</td>\n",
       "      <td>8.957934</td>\n",
       "      <td>0.175869</td>\n",
       "      <td>0.057277</td>\n",
       "      <td>1.549296</td>\n",
       "    </tr>\n",
       "    <tr>\n",
       "      <th>std</th>\n",
       "      <td>0.003039</td>\n",
       "      <td>0.818371</td>\n",
       "      <td>1.440453</td>\n",
       "      <td>0.499882</td>\n",
       "      <td>0.774052</td>\n",
       "      <td>0.653035</td>\n",
       "      <td>1.426435</td>\n",
       "      <td>0.498245</td>\n",
       "      <td>0.097589</td>\n",
       "      <td>1.708376</td>\n",
       "    </tr>\n",
       "    <tr>\n",
       "      <th>min</th>\n",
       "      <td>1.511150</td>\n",
       "      <td>10.730000</td>\n",
       "      <td>0.000000</td>\n",
       "      <td>0.290000</td>\n",
       "      <td>69.810000</td>\n",
       "      <td>0.000000</td>\n",
       "      <td>5.430000</td>\n",
       "      <td>0.000000</td>\n",
       "      <td>0.000000</td>\n",
       "      <td>0.000000</td>\n",
       "    </tr>\n",
       "    <tr>\n",
       "      <th>25%</th>\n",
       "      <td>1.516520</td>\n",
       "      <td>12.900000</td>\n",
       "      <td>2.090000</td>\n",
       "      <td>1.190000</td>\n",
       "      <td>72.280000</td>\n",
       "      <td>0.130000</td>\n",
       "      <td>8.240000</td>\n",
       "      <td>0.000000</td>\n",
       "      <td>0.000000</td>\n",
       "      <td>0.000000</td>\n",
       "    </tr>\n",
       "    <tr>\n",
       "      <th>50%</th>\n",
       "      <td>1.517680</td>\n",
       "      <td>13.300000</td>\n",
       "      <td>3.480000</td>\n",
       "      <td>1.360000</td>\n",
       "      <td>72.790000</td>\n",
       "      <td>0.560000</td>\n",
       "      <td>8.600000</td>\n",
       "      <td>0.000000</td>\n",
       "      <td>0.000000</td>\n",
       "      <td>1.000000</td>\n",
       "    </tr>\n",
       "    <tr>\n",
       "      <th>75%</th>\n",
       "      <td>1.519150</td>\n",
       "      <td>13.830000</td>\n",
       "      <td>3.600000</td>\n",
       "      <td>1.630000</td>\n",
       "      <td>73.090000</td>\n",
       "      <td>0.610000</td>\n",
       "      <td>9.180000</td>\n",
       "      <td>0.000000</td>\n",
       "      <td>0.100000</td>\n",
       "      <td>2.000000</td>\n",
       "    </tr>\n",
       "    <tr>\n",
       "      <th>max</th>\n",
       "      <td>1.533930</td>\n",
       "      <td>17.380000</td>\n",
       "      <td>3.980000</td>\n",
       "      <td>3.500000</td>\n",
       "      <td>75.410000</td>\n",
       "      <td>6.210000</td>\n",
       "      <td>16.190000</td>\n",
       "      <td>3.150000</td>\n",
       "      <td>0.510000</td>\n",
       "      <td>5.000000</td>\n",
       "    </tr>\n",
       "  </tbody>\n",
       "</table>\n",
       "</div>"
      ],
      "text/plain": [
       "          r_index          na          mg          al          si           k  \\\n",
       "count  213.000000  213.000000  213.000000  213.000000  213.000000  213.000000   \n",
       "mean     1.518353   13.406761    2.676056    1.446526   72.655023    0.499108   \n",
       "std      0.003039    0.818371    1.440453    0.499882    0.774052    0.653035   \n",
       "min      1.511150   10.730000    0.000000    0.290000   69.810000    0.000000   \n",
       "25%      1.516520   12.900000    2.090000    1.190000   72.280000    0.130000   \n",
       "50%      1.517680   13.300000    3.480000    1.360000   72.790000    0.560000   \n",
       "75%      1.519150   13.830000    3.600000    1.630000   73.090000    0.610000   \n",
       "max      1.533930   17.380000    3.980000    3.500000   75.410000    6.210000   \n",
       "\n",
       "               ca          ba          fe  glass_type  \n",
       "count  213.000000  213.000000  213.000000  213.000000  \n",
       "mean     8.957934    0.175869    0.057277    1.549296  \n",
       "std      1.426435    0.498245    0.097589    1.708376  \n",
       "min      5.430000    0.000000    0.000000    0.000000  \n",
       "25%      8.240000    0.000000    0.000000    0.000000  \n",
       "50%      8.600000    0.000000    0.000000    1.000000  \n",
       "75%      9.180000    0.000000    0.100000    2.000000  \n",
       "max     16.190000    3.150000    0.510000    5.000000  "
      ]
     },
     "execution_count": 210,
     "metadata": {},
     "output_type": "execute_result"
    }
   ],
   "source": [
    "df.describe()"
   ]
  },
  {
   "cell_type": "code",
   "execution_count": 211,
   "id": "11fc434e",
   "metadata": {},
   "outputs": [],
   "source": [
    "import matplotlib.pyplot as plt\n",
    "import seaborn as sns"
   ]
  },
  {
   "cell_type": "code",
   "execution_count": 212,
   "id": "dcffb169",
   "metadata": {},
   "outputs": [
    {
     "data": {
      "image/png": "[encoded data removed]",
      "text/plain": [
       "<Figure size 1440x576 with 10 Axes>"
      ]
     },
     "metadata": {
      "needs_background": "light"
     },
     "output_type": "display_data"
    }
   ],
   "source": [
    "fig, axes = plt.subplots(nrows=2, ncols=5, figsize=(20,8))\n",
    "for i, column in enumerate(df.columns, 1):\n",
    "    plt.subplot(2,5,i)\n",
    "    sns.histplot(df[column],)\n",
    "    \n",
    "fig.tight_layout()"
   ]
  },
  {
   "cell_type": "code",
   "execution_count": 213,
   "id": "c357a610",
   "metadata": {},
   "outputs": [
    {
     "data": {
      "image/png": "[encoded data removed]",
      "text/plain": [
       "<Figure size 432x288 with 1 Axes>"
      ]
     },
     "metadata": {
      "needs_background": "light"
     },
     "output_type": "display_data"
    }
   ],
   "source": [
    "ax = sns.boxplot(data=df, orient=\"h\", palette=\"Set2\")"
   ]
  },
  {
   "cell_type": "code",
   "execution_count": 214,
   "id": "a2f0267c",
   "metadata": {},
   "outputs": [
    {
     "data": {
      "text/plain": [
       "Text(0.5, 0, 'k')"
      ]
     },
     "execution_count": 214,
     "metadata": {},
     "output_type": "execute_result"
    },
    {
     "data": {
      "image/png": "[encoded data removed]",
      "text/plain": [
       "<Figure size 432x288 with 1 Axes>"
      ]
     },
     "metadata": {
      "needs_background": "light"
     },
     "output_type": "display_data"
    }
   ],
   "source": [
    "ax = sns.boxplot(x=df[\"k\"])\n",
    "ax.set_xlabel('k')"
   ]
  },
  {
   "cell_type": "code",
   "execution_count": 217,
   "id": "4ef5bc46",
   "metadata": {},
   "outputs": [
    {
     "data": {
      "text/html": [
       "<div>\n",
       "<style scoped>\n",
       "    .dataframe tbody tr th:only-of-type {\n",
       "        vertical-align: middle;\n",
       "    }\n",
       "\n",
       "    .dataframe tbody tr th {\n",
       "        vertical-align: top;\n",
       "    }\n",
       "\n",
       "    .dataframe thead th {\n",
       "        text-align: right;\n",
       "    }\n",
       "</style>\n",
       "<table border=\"1\" class=\"dataframe\">\n",
       "  <thead>\n",
       "    <tr style=\"text-align: right;\">\n",
       "      <th></th>\n",
       "      <th>r_index</th>\n",
       "      <th>na</th>\n",
       "      <th>mg</th>\n",
       "      <th>al</th>\n",
       "      <th>si</th>\n",
       "      <th>k</th>\n",
       "      <th>ca</th>\n",
       "      <th>ba</th>\n",
       "      <th>fe</th>\n",
       "      <th>glass_type</th>\n",
       "    </tr>\n",
       "  </thead>\n",
       "  <tbody>\n",
       "    <tr>\n",
       "      <th>170</th>\n",
       "      <td>1.51316</td>\n",
       "      <td>13.02</td>\n",
       "      <td>0.0</td>\n",
       "      <td>3.04</td>\n",
       "      <td>70.48</td>\n",
       "      <td>6.21</td>\n",
       "      <td>6.96</td>\n",
       "      <td>0.0</td>\n",
       "      <td>0.0</td>\n",
       "      <td>3</td>\n",
       "    </tr>\n",
       "    <tr>\n",
       "      <th>171</th>\n",
       "      <td>1.51321</td>\n",
       "      <td>13.00</td>\n",
       "      <td>0.0</td>\n",
       "      <td>3.02</td>\n",
       "      <td>70.70</td>\n",
       "      <td>6.21</td>\n",
       "      <td>6.93</td>\n",
       "      <td>0.0</td>\n",
       "      <td>0.0</td>\n",
       "      <td>3</td>\n",
       "    </tr>\n",
       "    <tr>\n",
       "      <th>200</th>\n",
       "      <td>1.51653</td>\n",
       "      <td>11.95</td>\n",
       "      <td>0.0</td>\n",
       "      <td>1.19</td>\n",
       "      <td>75.18</td>\n",
       "      <td>2.70</td>\n",
       "      <td>8.93</td>\n",
       "      <td>0.0</td>\n",
       "      <td>0.0</td>\n",
       "      <td>5</td>\n",
       "    </tr>\n",
       "  </tbody>\n",
       "</table>\n",
       "</div>"
      ],
      "text/plain": [
       "     r_index     na   mg    al     si     k    ca   ba   fe  glass_type\n",
       "170  1.51316  13.02  0.0  3.04  70.48  6.21  6.96  0.0  0.0           3\n",
       "171  1.51321  13.00  0.0  3.02  70.70  6.21  6.93  0.0  0.0           3\n",
       "200  1.51653  11.95  0.0  1.19  75.18  2.70  8.93  0.0  0.0           5"
      ]
     },
     "execution_count": 217,
     "metadata": {},
     "output_type": "execute_result"
    }
   ],
   "source": [
    "df[df.k>=2]"
   ]
  },
  {
   "cell_type": "code",
   "execution_count": 216,
   "id": "a4869850",
   "metadata": {},
   "outputs": [
    {
     "data": {
      "text/plain": [
       "1    76\n",
       "0    69\n",
       "5    29\n",
       "2    17\n",
       "3    13\n",
       "4     9\n",
       "Name: glass_type, dtype: int64"
      ]
     },
     "execution_count": 216,
     "metadata": {},
     "output_type": "execute_result"
    }
   ],
   "source": [
    "df.glass_type.value_counts()"
   ]
  },
  {
   "cell_type": "code",
   "execution_count": 218,
   "id": "33c654e4",
   "metadata": {},
   "outputs": [
    {
     "data": {
      "text/html": [
       "<div>\n",
       "<style scoped>\n",
       "    .dataframe tbody tr th:only-of-type {\n",
       "        vertical-align: middle;\n",
       "    }\n",
       "\n",
       "    .dataframe tbody tr th {\n",
       "        vertical-align: top;\n",
       "    }\n",
       "\n",
       "    .dataframe thead th {\n",
       "        text-align: right;\n",
       "    }\n",
       "</style>\n",
       "<table border=\"1\" class=\"dataframe\">\n",
       "  <thead>\n",
       "    <tr style=\"text-align: right;\">\n",
       "      <th></th>\n",
       "      <th>r_index</th>\n",
       "      <th>na</th>\n",
       "      <th>mg</th>\n",
       "      <th>al</th>\n",
       "      <th>si</th>\n",
       "      <th>k</th>\n",
       "      <th>ca</th>\n",
       "      <th>ba</th>\n",
       "      <th>fe</th>\n",
       "      <th>glass_type</th>\n",
       "    </tr>\n",
       "  </thead>\n",
       "  <tbody>\n",
       "    <tr>\n",
       "      <th>0</th>\n",
       "      <td>1.51761</td>\n",
       "      <td>13.89</td>\n",
       "      <td>3.60</td>\n",
       "      <td>1.36</td>\n",
       "      <td>72.73</td>\n",
       "      <td>0.48</td>\n",
       "      <td>7.83</td>\n",
       "      <td>0.00</td>\n",
       "      <td>0.00</td>\n",
       "      <td>0</td>\n",
       "    </tr>\n",
       "    <tr>\n",
       "      <th>1</th>\n",
       "      <td>1.51618</td>\n",
       "      <td>13.53</td>\n",
       "      <td>3.55</td>\n",
       "      <td>1.54</td>\n",
       "      <td>72.99</td>\n",
       "      <td>0.39</td>\n",
       "      <td>7.78</td>\n",
       "      <td>0.00</td>\n",
       "      <td>0.00</td>\n",
       "      <td>0</td>\n",
       "    </tr>\n",
       "    <tr>\n",
       "      <th>2</th>\n",
       "      <td>1.51766</td>\n",
       "      <td>13.21</td>\n",
       "      <td>3.69</td>\n",
       "      <td>1.29</td>\n",
       "      <td>72.61</td>\n",
       "      <td>0.57</td>\n",
       "      <td>8.22</td>\n",
       "      <td>0.00</td>\n",
       "      <td>0.00</td>\n",
       "      <td>0</td>\n",
       "    </tr>\n",
       "    <tr>\n",
       "      <th>3</th>\n",
       "      <td>1.51742</td>\n",
       "      <td>13.27</td>\n",
       "      <td>3.62</td>\n",
       "      <td>1.24</td>\n",
       "      <td>73.08</td>\n",
       "      <td>0.55</td>\n",
       "      <td>8.07</td>\n",
       "      <td>0.00</td>\n",
       "      <td>0.00</td>\n",
       "      <td>0</td>\n",
       "    </tr>\n",
       "    <tr>\n",
       "      <th>4</th>\n",
       "      <td>1.51596</td>\n",
       "      <td>12.79</td>\n",
       "      <td>3.61</td>\n",
       "      <td>1.62</td>\n",
       "      <td>72.97</td>\n",
       "      <td>0.64</td>\n",
       "      <td>8.07</td>\n",
       "      <td>0.00</td>\n",
       "      <td>0.26</td>\n",
       "      <td>0</td>\n",
       "    </tr>\n",
       "    <tr>\n",
       "      <th>...</th>\n",
       "      <td>...</td>\n",
       "      <td>...</td>\n",
       "      <td>...</td>\n",
       "      <td>...</td>\n",
       "      <td>...</td>\n",
       "      <td>...</td>\n",
       "      <td>...</td>\n",
       "      <td>...</td>\n",
       "      <td>...</td>\n",
       "      <td>...</td>\n",
       "    </tr>\n",
       "    <tr>\n",
       "      <th>205</th>\n",
       "      <td>1.51623</td>\n",
       "      <td>14.14</td>\n",
       "      <td>0.00</td>\n",
       "      <td>2.88</td>\n",
       "      <td>72.61</td>\n",
       "      <td>0.08</td>\n",
       "      <td>9.18</td>\n",
       "      <td>1.06</td>\n",
       "      <td>0.00</td>\n",
       "      <td>5</td>\n",
       "    </tr>\n",
       "    <tr>\n",
       "      <th>206</th>\n",
       "      <td>1.51685</td>\n",
       "      <td>14.92</td>\n",
       "      <td>0.00</td>\n",
       "      <td>1.99</td>\n",
       "      <td>73.06</td>\n",
       "      <td>0.00</td>\n",
       "      <td>8.40</td>\n",
       "      <td>1.59</td>\n",
       "      <td>0.00</td>\n",
       "      <td>5</td>\n",
       "    </tr>\n",
       "    <tr>\n",
       "      <th>207</th>\n",
       "      <td>1.52065</td>\n",
       "      <td>14.36</td>\n",
       "      <td>0.00</td>\n",
       "      <td>2.02</td>\n",
       "      <td>73.42</td>\n",
       "      <td>0.00</td>\n",
       "      <td>8.44</td>\n",
       "      <td>1.64</td>\n",
       "      <td>0.00</td>\n",
       "      <td>5</td>\n",
       "    </tr>\n",
       "    <tr>\n",
       "      <th>208</th>\n",
       "      <td>1.51651</td>\n",
       "      <td>14.38</td>\n",
       "      <td>0.00</td>\n",
       "      <td>1.94</td>\n",
       "      <td>73.61</td>\n",
       "      <td>0.00</td>\n",
       "      <td>8.48</td>\n",
       "      <td>1.57</td>\n",
       "      <td>0.00</td>\n",
       "      <td>5</td>\n",
       "    </tr>\n",
       "    <tr>\n",
       "      <th>209</th>\n",
       "      <td>1.51711</td>\n",
       "      <td>14.23</td>\n",
       "      <td>0.00</td>\n",
       "      <td>2.08</td>\n",
       "      <td>73.36</td>\n",
       "      <td>0.00</td>\n",
       "      <td>8.62</td>\n",
       "      <td>1.67</td>\n",
       "      <td>0.00</td>\n",
       "      <td>5</td>\n",
       "    </tr>\n",
       "  </tbody>\n",
       "</table>\n",
       "<p>210 rows × 10 columns</p>\n",
       "</div>"
      ],
      "text/plain": [
       "     r_index     na    mg    al     si     k    ca    ba    fe  glass_type\n",
       "0    1.51761  13.89  3.60  1.36  72.73  0.48  7.83  0.00  0.00           0\n",
       "1    1.51618  13.53  3.55  1.54  72.99  0.39  7.78  0.00  0.00           0\n",
       "2    1.51766  13.21  3.69  1.29  72.61  0.57  8.22  0.00  0.00           0\n",
       "3    1.51742  13.27  3.62  1.24  73.08  0.55  8.07  0.00  0.00           0\n",
       "4    1.51596  12.79  3.61  1.62  72.97  0.64  8.07  0.00  0.26           0\n",
       "..       ...    ...   ...   ...    ...   ...   ...   ...   ...         ...\n",
       "205  1.51623  14.14  0.00  2.88  72.61  0.08  9.18  1.06  0.00           5\n",
       "206  1.51685  14.92  0.00  1.99  73.06  0.00  8.40  1.59  0.00           5\n",
       "207  1.52065  14.36  0.00  2.02  73.42  0.00  8.44  1.64  0.00           5\n",
       "208  1.51651  14.38  0.00  1.94  73.61  0.00  8.48  1.57  0.00           5\n",
       "209  1.51711  14.23  0.00  2.08  73.36  0.00  8.62  1.67  0.00           5\n",
       "\n",
       "[210 rows x 10 columns]"
      ]
     },
     "execution_count": 218,
     "metadata": {},
     "output_type": "execute_result"
    }
   ],
   "source": [
    "df=df[df.k<2].reset_index(drop=True)\n",
    "df"
   ]
  },
  {
   "cell_type": "code",
   "execution_count": 219,
   "id": "5f97a11d",
   "metadata": {},
   "outputs": [
    {
     "data": {
      "text/plain": [
       "r_index       False\n",
       "na            False\n",
       "mg            False\n",
       "al            False\n",
       "si            False\n",
       "k             False\n",
       "ca            False\n",
       "ba            False\n",
       "fe            False\n",
       "glass_type    False\n",
       "dtype: bool"
      ]
     },
     "execution_count": 219,
     "metadata": {},
     "output_type": "execute_result"
    }
   ],
   "source": [
    "df.isnull().any()"
   ]
  },
  {
   "cell_type": "code",
   "execution_count": 220,
   "id": "9cbdfa4e",
   "metadata": {},
   "outputs": [
    {
     "data": {
      "text/html": [
       "<div>\n",
       "<style scoped>\n",
       "    .dataframe tbody tr th:only-of-type {\n",
       "        vertical-align: middle;\n",
       "    }\n",
       "\n",
       "    .dataframe tbody tr th {\n",
       "        vertical-align: top;\n",
       "    }\n",
       "\n",
       "    .dataframe thead th {\n",
       "        text-align: right;\n",
       "    }\n",
       "</style>\n",
       "<table border=\"1\" class=\"dataframe\">\n",
       "  <thead>\n",
       "    <tr style=\"text-align: right;\">\n",
       "      <th></th>\n",
       "      <th>r_index</th>\n",
       "      <th>na</th>\n",
       "      <th>mg</th>\n",
       "      <th>al</th>\n",
       "      <th>si</th>\n",
       "      <th>k</th>\n",
       "      <th>ca</th>\n",
       "      <th>ba</th>\n",
       "      <th>fe</th>\n",
       "      <th>glass_type</th>\n",
       "      <th>0</th>\n",
       "      <th>1</th>\n",
       "      <th>2</th>\n",
       "      <th>3</th>\n",
       "      <th>4</th>\n",
       "      <th>5</th>\n",
       "    </tr>\n",
       "  </thead>\n",
       "  <tbody>\n",
       "    <tr>\n",
       "      <th>205</th>\n",
       "      <td>1.51623</td>\n",
       "      <td>14.14</td>\n",
       "      <td>0.0</td>\n",
       "      <td>2.88</td>\n",
       "      <td>72.61</td>\n",
       "      <td>0.08</td>\n",
       "      <td>9.18</td>\n",
       "      <td>1.06</td>\n",
       "      <td>0.0</td>\n",
       "      <td>5</td>\n",
       "      <td>0</td>\n",
       "      <td>0</td>\n",
       "      <td>0</td>\n",
       "      <td>0</td>\n",
       "      <td>0</td>\n",
       "      <td>1</td>\n",
       "    </tr>\n",
       "    <tr>\n",
       "      <th>206</th>\n",
       "      <td>1.51685</td>\n",
       "      <td>14.92</td>\n",
       "      <td>0.0</td>\n",
       "      <td>1.99</td>\n",
       "      <td>73.06</td>\n",
       "      <td>0.00</td>\n",
       "      <td>8.40</td>\n",
       "      <td>1.59</td>\n",
       "      <td>0.0</td>\n",
       "      <td>5</td>\n",
       "      <td>0</td>\n",
       "      <td>0</td>\n",
       "      <td>0</td>\n",
       "      <td>0</td>\n",
       "      <td>0</td>\n",
       "      <td>1</td>\n",
       "    </tr>\n",
       "    <tr>\n",
       "      <th>207</th>\n",
       "      <td>1.52065</td>\n",
       "      <td>14.36</td>\n",
       "      <td>0.0</td>\n",
       "      <td>2.02</td>\n",
       "      <td>73.42</td>\n",
       "      <td>0.00</td>\n",
       "      <td>8.44</td>\n",
       "      <td>1.64</td>\n",
       "      <td>0.0</td>\n",
       "      <td>5</td>\n",
       "      <td>0</td>\n",
       "      <td>0</td>\n",
       "      <td>0</td>\n",
       "      <td>0</td>\n",
       "      <td>0</td>\n",
       "      <td>1</td>\n",
       "    </tr>\n",
       "    <tr>\n",
       "      <th>208</th>\n",
       "      <td>1.51651</td>\n",
       "      <td>14.38</td>\n",
       "      <td>0.0</td>\n",
       "      <td>1.94</td>\n",
       "      <td>73.61</td>\n",
       "      <td>0.00</td>\n",
       "      <td>8.48</td>\n",
       "      <td>1.57</td>\n",
       "      <td>0.0</td>\n",
       "      <td>5</td>\n",
       "      <td>0</td>\n",
       "      <td>0</td>\n",
       "      <td>0</td>\n",
       "      <td>0</td>\n",
       "      <td>0</td>\n",
       "      <td>1</td>\n",
       "    </tr>\n",
       "    <tr>\n",
       "      <th>209</th>\n",
       "      <td>1.51711</td>\n",
       "      <td>14.23</td>\n",
       "      <td>0.0</td>\n",
       "      <td>2.08</td>\n",
       "      <td>73.36</td>\n",
       "      <td>0.00</td>\n",
       "      <td>8.62</td>\n",
       "      <td>1.67</td>\n",
       "      <td>0.0</td>\n",
       "      <td>5</td>\n",
       "      <td>0</td>\n",
       "      <td>0</td>\n",
       "      <td>0</td>\n",
       "      <td>0</td>\n",
       "      <td>0</td>\n",
       "      <td>1</td>\n",
       "    </tr>\n",
       "  </tbody>\n",
       "</table>\n",
       "</div>"
      ],
      "text/plain": [
       "     r_index     na   mg    al     si     k    ca    ba   fe  glass_type  0  \\\n",
       "205  1.51623  14.14  0.0  2.88  72.61  0.08  9.18  1.06  0.0           5  0   \n",
       "206  1.51685  14.92  0.0  1.99  73.06  0.00  8.40  1.59  0.0           5  0   \n",
       "207  1.52065  14.36  0.0  2.02  73.42  0.00  8.44  1.64  0.0           5  0   \n",
       "208  1.51651  14.38  0.0  1.94  73.61  0.00  8.48  1.57  0.0           5  0   \n",
       "209  1.51711  14.23  0.0  2.08  73.36  0.00  8.62  1.67  0.0           5  0   \n",
       "\n",
       "     1  2  3  4  5  \n",
       "205  0  0  0  0  1  \n",
       "206  0  0  0  0  1  \n",
       "207  0  0  0  0  1  \n",
       "208  0  0  0  0  1  \n",
       "209  0  0  0  0  1  "
      ]
     },
     "execution_count": 220,
     "metadata": {},
     "output_type": "execute_result"
    }
   ],
   "source": [
    "df_copy=df\n",
    "one_hot_df=pd.get_dummies(df_copy['glass_type'])\n",
    "df_copy.drop('glass_type', axis=1)\n",
    "one_hot_df=df_copy.join(one_hot_df)\n",
    "one_hot_df.tail()"
   ]
  },
  {
   "cell_type": "code",
   "execution_count": 221,
   "id": "59ab6ab9",
   "metadata": {},
   "outputs": [
    {
     "data": {
      "image/png": "[encoded data removed]",
      "text/plain": [
       "<Figure size 2520x1080 with 2 Axes>"
      ]
     },
     "metadata": {
      "needs_background": "light"
     },
     "output_type": "display_data"
    }
   ],
   "source": [
    "corrMatrix = one_hot_df.corr()\n",
    "plt.figure(figsize = (35,15))\n",
    "sns.heatmap(corrMatrix, annot=True)\n",
    "plt.show()"
   ]
  },
  {
   "cell_type": "code",
   "execution_count": 95,
   "id": "1de39d7c",
   "metadata": {},
   "outputs": [],
   "source": [
    "#k-nearest, svm, kernel svm, naive bayes, decision tree, random forest"
   ]
  },
  {
   "cell_type": "code",
   "execution_count": 222,
   "id": "fd5b517d",
   "metadata": {},
   "outputs": [],
   "source": [
    "import numpy as np"
   ]
  },
  {
   "cell_type": "code",
   "execution_count": 223,
   "id": "64c1c093",
   "metadata": {},
   "outputs": [
    {
     "data": {
      "text/html": [
       "<div>\n",
       "<style scoped>\n",
       "    .dataframe tbody tr th:only-of-type {\n",
       "        vertical-align: middle;\n",
       "    }\n",
       "\n",
       "    .dataframe tbody tr th {\n",
       "        vertical-align: top;\n",
       "    }\n",
       "\n",
       "    .dataframe thead th {\n",
       "        text-align: right;\n",
       "    }\n",
       "</style>\n",
       "<table border=\"1\" class=\"dataframe\">\n",
       "  <thead>\n",
       "    <tr style=\"text-align: right;\">\n",
       "      <th></th>\n",
       "      <th>r_index</th>\n",
       "      <th>na</th>\n",
       "      <th>mg</th>\n",
       "      <th>al</th>\n",
       "      <th>si</th>\n",
       "      <th>k</th>\n",
       "      <th>ca</th>\n",
       "      <th>ba</th>\n",
       "      <th>fe</th>\n",
       "      <th>glass_type</th>\n",
       "    </tr>\n",
       "  </thead>\n",
       "  <tbody>\n",
       "    <tr>\n",
       "      <th>0</th>\n",
       "      <td>1.51667</td>\n",
       "      <td>12.94</td>\n",
       "      <td>3.61</td>\n",
       "      <td>1.26</td>\n",
       "      <td>72.75</td>\n",
       "      <td>0.56</td>\n",
       "      <td>8.60</td>\n",
       "      <td>0.00</td>\n",
       "      <td>0.00</td>\n",
       "      <td>1</td>\n",
       "    </tr>\n",
       "    <tr>\n",
       "      <th>1</th>\n",
       "      <td>1.52300</td>\n",
       "      <td>13.31</td>\n",
       "      <td>3.58</td>\n",
       "      <td>0.82</td>\n",
       "      <td>71.99</td>\n",
       "      <td>0.12</td>\n",
       "      <td>10.17</td>\n",
       "      <td>0.00</td>\n",
       "      <td>0.03</td>\n",
       "      <td>0</td>\n",
       "    </tr>\n",
       "    <tr>\n",
       "      <th>2</th>\n",
       "      <td>1.51589</td>\n",
       "      <td>12.88</td>\n",
       "      <td>3.43</td>\n",
       "      <td>1.40</td>\n",
       "      <td>73.28</td>\n",
       "      <td>0.69</td>\n",
       "      <td>8.05</td>\n",
       "      <td>0.00</td>\n",
       "      <td>0.24</td>\n",
       "      <td>0</td>\n",
       "    </tr>\n",
       "    <tr>\n",
       "      <th>3</th>\n",
       "      <td>1.51685</td>\n",
       "      <td>14.92</td>\n",
       "      <td>0.00</td>\n",
       "      <td>1.99</td>\n",
       "      <td>73.06</td>\n",
       "      <td>0.00</td>\n",
       "      <td>8.40</td>\n",
       "      <td>1.59</td>\n",
       "      <td>0.00</td>\n",
       "      <td>5</td>\n",
       "    </tr>\n",
       "    <tr>\n",
       "      <th>4</th>\n",
       "      <td>1.52667</td>\n",
       "      <td>13.99</td>\n",
       "      <td>3.70</td>\n",
       "      <td>0.71</td>\n",
       "      <td>71.57</td>\n",
       "      <td>0.02</td>\n",
       "      <td>9.82</td>\n",
       "      <td>0.00</td>\n",
       "      <td>0.10</td>\n",
       "      <td>0</td>\n",
       "    </tr>\n",
       "    <tr>\n",
       "      <th>...</th>\n",
       "      <td>...</td>\n",
       "      <td>...</td>\n",
       "      <td>...</td>\n",
       "      <td>...</td>\n",
       "      <td>...</td>\n",
       "      <td>...</td>\n",
       "      <td>...</td>\n",
       "      <td>...</td>\n",
       "      <td>...</td>\n",
       "      <td>...</td>\n",
       "    </tr>\n",
       "    <tr>\n",
       "      <th>205</th>\n",
       "      <td>1.51784</td>\n",
       "      <td>12.68</td>\n",
       "      <td>3.67</td>\n",
       "      <td>1.16</td>\n",
       "      <td>73.11</td>\n",
       "      <td>0.61</td>\n",
       "      <td>8.70</td>\n",
       "      <td>0.00</td>\n",
       "      <td>0.00</td>\n",
       "      <td>0</td>\n",
       "    </tr>\n",
       "    <tr>\n",
       "      <th>206</th>\n",
       "      <td>1.51711</td>\n",
       "      <td>14.23</td>\n",
       "      <td>0.00</td>\n",
       "      <td>2.08</td>\n",
       "      <td>73.36</td>\n",
       "      <td>0.00</td>\n",
       "      <td>8.62</td>\n",
       "      <td>1.67</td>\n",
       "      <td>0.00</td>\n",
       "      <td>5</td>\n",
       "    </tr>\n",
       "    <tr>\n",
       "      <th>207</th>\n",
       "      <td>1.51824</td>\n",
       "      <td>12.87</td>\n",
       "      <td>3.48</td>\n",
       "      <td>1.29</td>\n",
       "      <td>72.95</td>\n",
       "      <td>0.60</td>\n",
       "      <td>8.43</td>\n",
       "      <td>0.00</td>\n",
       "      <td>0.00</td>\n",
       "      <td>0</td>\n",
       "    </tr>\n",
       "    <tr>\n",
       "      <th>208</th>\n",
       "      <td>1.51574</td>\n",
       "      <td>14.86</td>\n",
       "      <td>3.67</td>\n",
       "      <td>1.74</td>\n",
       "      <td>71.87</td>\n",
       "      <td>0.16</td>\n",
       "      <td>7.36</td>\n",
       "      <td>0.00</td>\n",
       "      <td>0.12</td>\n",
       "      <td>1</td>\n",
       "    </tr>\n",
       "    <tr>\n",
       "      <th>209</th>\n",
       "      <td>1.51592</td>\n",
       "      <td>12.86</td>\n",
       "      <td>3.52</td>\n",
       "      <td>2.12</td>\n",
       "      <td>72.66</td>\n",
       "      <td>0.69</td>\n",
       "      <td>7.97</td>\n",
       "      <td>0.00</td>\n",
       "      <td>0.00</td>\n",
       "      <td>1</td>\n",
       "    </tr>\n",
       "  </tbody>\n",
       "</table>\n",
       "<p>210 rows × 10 columns</p>\n",
       "</div>"
      ],
      "text/plain": [
       "     r_index     na    mg    al     si     k     ca    ba    fe  glass_type\n",
       "0    1.51667  12.94  3.61  1.26  72.75  0.56   8.60  0.00  0.00           1\n",
       "1    1.52300  13.31  3.58  0.82  71.99  0.12  10.17  0.00  0.03           0\n",
       "2    1.51589  12.88  3.43  1.40  73.28  0.69   8.05  0.00  0.24           0\n",
       "3    1.51685  14.92  0.00  1.99  73.06  0.00   8.40  1.59  0.00           5\n",
       "4    1.52667  13.99  3.70  0.71  71.57  0.02   9.82  0.00  0.10           0\n",
       "..       ...    ...   ...   ...    ...   ...    ...   ...   ...         ...\n",
       "205  1.51784  12.68  3.67  1.16  73.11  0.61   8.70  0.00  0.00           0\n",
       "206  1.51711  14.23  0.00  2.08  73.36  0.00   8.62  1.67  0.00           5\n",
       "207  1.51824  12.87  3.48  1.29  72.95  0.60   8.43  0.00  0.00           0\n",
       "208  1.51574  14.86  3.67  1.74  71.87  0.16   7.36  0.00  0.12           1\n",
       "209  1.51592  12.86  3.52  2.12  72.66  0.69   7.97  0.00  0.00           1\n",
       "\n",
       "[210 rows x 10 columns]"
      ]
     },
     "execution_count": 223,
     "metadata": {},
     "output_type": "execute_result"
    }
   ],
   "source": [
    "df=df.sample(frac=1).reset_index(drop=True)\n",
    "df"
   ]
  },
  {
   "cell_type": "code",
   "execution_count": 224,
   "id": "a973c7cf",
   "metadata": {},
   "outputs": [
    {
     "data": {
      "text/plain": [
       "array([1, 0, 5, 4, 3, 2], dtype=int64)"
      ]
     },
     "execution_count": 224,
     "metadata": {},
     "output_type": "execute_result"
    }
   ],
   "source": [
    "df.glass_type.unique()"
   ]
  },
  {
   "cell_type": "code",
   "execution_count": 225,
   "id": "1344189f",
   "metadata": {},
   "outputs": [
    {
     "data": {
      "text/plain": [
       "((210, 9),\n",
       " array([1, 0, 0, 5, 0, 1, 0, 0, 1, 1, 0, 1, 4, 1, 0, 3, 1, 1, 0, 0, 0, 0,\n",
       "        1, 2, 2, 1, 1, 5, 0, 4, 5, 1, 0, 1, 0, 0, 1, 2, 0, 0, 1, 1, 1, 2,\n",
       "        0, 0, 1, 0, 1, 1, 1, 1, 1, 3, 1, 2, 5, 0, 1, 5, 1, 1, 3, 5, 2, 0,\n",
       "        4, 4, 1, 0, 1, 4, 3, 0, 0, 1, 2, 2, 0, 1, 0, 1, 0, 1, 1, 0, 2, 1,\n",
       "        5, 5, 0, 1, 5, 0, 1, 1, 0, 3, 1, 1, 5, 0, 0, 1, 0, 1, 2, 0, 2, 1,\n",
       "        0, 1, 1, 0, 0, 0, 1, 0, 1, 1, 0, 4, 2, 0, 3, 0, 1, 2, 0, 5, 3, 1,\n",
       "        0, 0, 0, 1, 1, 3, 1, 1, 2, 1, 1, 5, 2, 0, 1, 0, 0, 0, 1, 4, 5, 0,\n",
       "        5, 1, 5, 0, 5, 3, 1, 5, 4, 1, 5, 1, 0, 5, 0, 1, 0, 1, 5, 4, 5, 0,\n",
       "        1, 0, 1, 5, 0, 1, 2, 3, 1, 1, 0, 1, 1, 5, 5, 0, 0, 3, 0, 1, 5, 5,\n",
       "        0, 0, 1, 1, 2, 0, 5, 0, 5, 0, 1, 1], dtype=int64))"
      ]
     },
     "execution_count": 225,
     "metadata": {},
     "output_type": "execute_result"
    }
   ],
   "source": [
    "X = df.iloc[:, :-1].values\n",
    "y = df.iloc[:, -1].values\n",
    "X.shape, y"
   ]
  },
  {
   "cell_type": "code",
   "execution_count": 226,
   "id": "140d81a7",
   "metadata": {},
   "outputs": [],
   "source": [
    "from sklearn.preprocessing import MinMaxScaler, StandardScaler\n",
    "#sc = MinMaxScaler()\n",
    "sc=StandardScaler()\n",
    "x_pca = sc.fit_transform(X)"
   ]
  },
  {
   "cell_type": "code",
   "execution_count": 227,
   "id": "8ac58408",
   "metadata": {},
   "outputs": [],
   "source": [
    "from sklearn.decomposition import PCA\n",
    "pca_breast = PCA(n_components=2)\n",
    "principalComponents_breast = pca_breast.fit_transform(x_pca)"
   ]
  },
  {
   "cell_type": "code",
   "execution_count": 228,
   "id": "34b71b83",
   "metadata": {},
   "outputs": [],
   "source": [
    "principal_breast_Df = pd.DataFrame(data = principalComponents_breast\n",
    "             , columns = ['principal component 1', 'principal component 2'])"
   ]
  },
  {
   "cell_type": "code",
   "execution_count": 229,
   "id": "21f85008",
   "metadata": {},
   "outputs": [
    {
     "data": {
      "text/html": [
       "<div>\n",
       "<style scoped>\n",
       "    .dataframe tbody tr th:only-of-type {\n",
       "        vertical-align: middle;\n",
       "    }\n",
       "\n",
       "    .dataframe tbody tr th {\n",
       "        vertical-align: top;\n",
       "    }\n",
       "\n",
       "    .dataframe thead th {\n",
       "        text-align: right;\n",
       "    }\n",
       "</style>\n",
       "<table border=\"1\" class=\"dataframe\">\n",
       "  <thead>\n",
       "    <tr style=\"text-align: right;\">\n",
       "      <th></th>\n",
       "      <th>principal component 1</th>\n",
       "      <th>principal component 2</th>\n",
       "    </tr>\n",
       "  </thead>\n",
       "  <tbody>\n",
       "    <tr>\n",
       "      <th>205</th>\n",
       "      <td>-0.335623</td>\n",
       "      <td>-1.250062</td>\n",
       "    </tr>\n",
       "    <tr>\n",
       "      <th>206</th>\n",
       "      <td>-1.215191</td>\n",
       "      <td>3.900094</td>\n",
       "    </tr>\n",
       "    <tr>\n",
       "      <th>207</th>\n",
       "      <td>-0.396728</td>\n",
       "      <td>-1.000349</td>\n",
       "    </tr>\n",
       "    <tr>\n",
       "      <th>208</th>\n",
       "      <td>-1.011298</td>\n",
       "      <td>0.335882</td>\n",
       "    </tr>\n",
       "    <tr>\n",
       "      <th>209</th>\n",
       "      <td>-1.524031</td>\n",
       "      <td>-0.614510</td>\n",
       "    </tr>\n",
       "  </tbody>\n",
       "</table>\n",
       "</div>"
      ],
      "text/plain": [
       "     principal component 1  principal component 2\n",
       "205              -0.335623              -1.250062\n",
       "206              -1.215191               3.900094\n",
       "207              -0.396728              -1.000349\n",
       "208              -1.011298               0.335882\n",
       "209              -1.524031              -0.614510"
      ]
     },
     "execution_count": 229,
     "metadata": {},
     "output_type": "execute_result"
    }
   ],
   "source": [
    "principal_breast_Df.tail()"
   ]
  },
  {
   "cell_type": "code",
   "execution_count": 230,
   "id": "9140014b",
   "metadata": {},
   "outputs": [
    {
     "name": "stdout",
     "output_type": "stream",
     "text": [
      "Explained variation per principal component: [0.28402799 0.25921682]\n"
     ]
    }
   ],
   "source": [
    "print('Explained variation per principal component: {}'.format(pca_breast.explained_variance_ratio_))"
   ]
  },
  {
   "cell_type": "code",
   "execution_count": 231,
   "id": "09a920f9",
   "metadata": {},
   "outputs": [],
   "source": [
    "from sklearn.model_selection import StratifiedKFold\n",
    "from sklearn.model_selection import cross_val_score"
   ]
  },
  {
   "cell_type": "code",
   "execution_count": 232,
   "id": "af68f8fe",
   "metadata": {},
   "outputs": [],
   "source": [
    "from sklearn.model_selection import train_test_split\n",
    "X_train, X_test, y_train, y_test = train_test_split(X, y, test_size = 0.20, random_state = 0)"
   ]
  },
  {
   "cell_type": "code",
   "execution_count": 107,
   "id": "70b717d4",
   "metadata": {},
   "outputs": [
    {
     "data": {
      "text/plain": [
       "((170, 9), (43, 9), (170,), (43,))"
      ]
     },
     "execution_count": 107,
     "metadata": {},
     "output_type": "execute_result"
    }
   ],
   "source": [
    "X_train.shape, X_test.shape, y_train.shape, y_test.shape"
   ]
  },
  {
   "cell_type": "code",
   "execution_count": 242,
   "id": "fe5269b7",
   "metadata": {},
   "outputs": [],
   "source": [
    "from sklearn.preprocessing import MinMaxScaler, StandardScaler\n",
    "#sc = MinMaxScaler()\n",
    "sc=StandardScaler()\n",
    "X_train = sc.fit_transform(X_train)\n",
    "X_scaled=sc.fit_transform(X)\n",
    "X_test = sc.transform(X_test)"
   ]
  },
  {
   "cell_type": "code",
   "execution_count": 245,
   "id": "76984553",
   "metadata": {},
   "outputs": [],
   "source": [
    "results = []\n",
    "names = []\n",
    "kfold = StratifiedKFold(n_splits=3, random_state=1, shuffle=True)\n",
    "models=[]\n",
    "models.append(())"
   ]
  },
  {
   "cell_type": "code",
   "execution_count": 246,
   "id": "e0b82440",
   "metadata": {},
   "outputs": [
    {
     "data": {
      "text/plain": [
       "([array([0.58571429, 0.65714286, 0.64285714])], ['KNN'])"
      ]
     },
     "execution_count": 246,
     "metadata": {},
     "output_type": "execute_result"
    }
   ],
   "source": [
    "from sklearn.neighbors import KNeighborsClassifier\n",
    "classifier = KNeighborsClassifier(n_neighbors = 5, metric = 'minkowski', p = 2)\n",
    "results.append( cross_val_score(classifier, X_scaled, y, cv=kfold, scoring='accuracy'))\n",
    "names.append('KNN')\n",
    "results, names\n",
    "#classifier.fit(X_train, y_train)"
   ]
  },
  {
   "cell_type": "code",
   "execution_count": 161,
   "id": "ac279d36",
   "metadata": {},
   "outputs": [
    {
     "data": {
      "text/plain": [
       "([array([0.70175439, 0.63157895, 0.66071429]),\n",
       "  array([0.68421053, 0.59649123, 0.625     ])],\n",
       " ['KNN', 'SVM'])"
      ]
     },
     "execution_count": 161,
     "metadata": {},
     "output_type": "execute_result"
    }
   ],
   "source": [
    "from sklearn.svm import SVC\n",
    "classifier = SVC(kernel = 'linear', random_state = 0)\n",
    "results.append( cross_val_score(classifier, X_train, y_train, cv=kfold, scoring='accuracy'))\n",
    "names.append('SVM')\n",
    "results, names"
   ]
  },
  {
   "cell_type": "code",
   "execution_count": 162,
   "id": "2fc1f3dc",
   "metadata": {
    "scrolled": true
   },
   "outputs": [
    {
     "data": {
      "text/plain": [
       "([array([0.70175439, 0.63157895, 0.66071429]),\n",
       "  array([0.68421053, 0.59649123, 0.625     ]),\n",
       "  array([0.49122807, 0.33333333, 0.51785714])],\n",
       " ['KNN', 'SVM', 'NB'])"
      ]
     },
     "execution_count": 162,
     "metadata": {},
     "output_type": "execute_result"
    }
   ],
   "source": [
    "from sklearn.naive_bayes import GaussianNB\n",
    "classifier = GaussianNB()\n",
    "results.append( cross_val_score(classifier, X_train, y_train, cv=kfold, scoring='accuracy'))\n",
    "names.append('NB')\n",
    "results, names"
   ]
  },
  {
   "cell_type": "code",
   "execution_count": 163,
   "id": "9fd5226a",
   "metadata": {},
   "outputs": [
    {
     "data": {
      "text/plain": [
       "([array([0.70175439, 0.63157895, 0.66071429]),\n",
       "  array([0.68421053, 0.59649123, 0.625     ]),\n",
       "  array([0.49122807, 0.33333333, 0.51785714]),\n",
       "  array([0.71929825, 0.70175439, 0.64285714])],\n",
       " ['KNN', 'SVM', 'NB', 'CART'])"
      ]
     },
     "execution_count": 163,
     "metadata": {},
     "output_type": "execute_result"
    }
   ],
   "source": [
    "from sklearn.tree import DecisionTreeClassifier\n",
    "classifier = DecisionTreeClassifier(criterion = 'entropy', random_state = 0)\n",
    "results.append( cross_val_score(classifier, X_train, y_train, cv=kfold, scoring='accuracy'))\n",
    "names.append('CART')\n",
    "results, names"
   ]
  },
  {
   "cell_type": "code",
   "execution_count": 164,
   "id": "b484c9e4",
   "metadata": {},
   "outputs": [
    {
     "data": {
      "text/plain": [
       "([array([0.70175439, 0.63157895, 0.66071429]),\n",
       "  array([0.68421053, 0.59649123, 0.625     ]),\n",
       "  array([0.49122807, 0.33333333, 0.51785714]),\n",
       "  array([0.71929825, 0.70175439, 0.64285714]),\n",
       "  array([0.85964912, 0.68421053, 0.73214286])],\n",
       " ['KNN', 'SVM', 'NB', 'CART', 'RF'])"
      ]
     },
     "execution_count": 164,
     "metadata": {},
     "output_type": "execute_result"
    }
   ],
   "source": [
    "from sklearn.ensemble import RandomForestClassifier\n",
    "classifier = RandomForestClassifier(n_estimators = 20, criterion = 'entropy', random_state = 0)\n",
    "results.append( cross_val_score(classifier, X_train, y_train, cv=kfold, scoring='accuracy'))\n",
    "names.append('RF')\n",
    "results, names"
   ]
  },
  {
   "cell_type": "code",
   "execution_count": 122,
   "id": "c1015803",
   "metadata": {},
   "outputs": [],
   "source": [
    "#if i can get 67-69 here will be good"
   ]
  },
  {
   "cell_type": "code",
   "execution_count": 123,
   "id": "4061463a",
   "metadata": {},
   "outputs": [
    {
     "name": "stdout",
     "output_type": "stream",
     "text": [
      "Requirement already satisfied: tensorflow in c:\\users\\nicho\\anaconda3\\lib\\site-packages (2.8.0)\n",
      "Requirement already satisfied: absl-py>=0.4.0 in c:\\users\\nicho\\anaconda3\\lib\\site-packages (from tensorflow) (1.0.0)\n",
      "Requirement already satisfied: tf-estimator-nightly==2.8.0.dev2021122109 in c:\\users\\nicho\\anaconda3\\lib\\site-packages (from tensorflow) (2.8.0.dev2021122109)\n",
      "Requirement already satisfied: numpy>=1.20 in c:\\users\\nicho\\anaconda3\\lib\\site-packages (from tensorflow) (1.20.1)\n",
      "Requirement already satisfied: typing-extensions>=3.6.6 in c:\\users\\nicho\\anaconda3\\lib\\site-packages (from tensorflow) (3.7.4.3)\n",
      "Requirement already satisfied: tensorflow-io-gcs-filesystem>=0.23.1 in c:\\users\\nicho\\anaconda3\\lib\\site-packages (from tensorflow) (0.24.0)\n",
      "Requirement already satisfied: wrapt>=1.11.0 in c:\\users\\nicho\\anaconda3\\lib\\site-packages (from tensorflow) (1.12.1)\n",
      "Requirement already satisfied: libclang>=9.0.1 in c:\\users\\nicho\\anaconda3\\lib\\site-packages (from tensorflow) (13.0.0)\n",
      "Requirement already satisfied: astunparse>=1.6.0 in c:\\users\\nicho\\anaconda3\\lib\\site-packages (from tensorflow) (1.6.3)\n",
      "Requirement already satisfied: tensorboard<2.9,>=2.8 in c:\\users\\nicho\\anaconda3\\lib\\site-packages (from tensorflow) (2.8.0)\n",
      "Requirement already satisfied: google-pasta>=0.1.1 in c:\\users\\nicho\\anaconda3\\lib\\site-packages (from tensorflow) (0.2.0)\n",
      "Requirement already satisfied: protobuf>=3.9.2 in c:\\users\\nicho\\anaconda3\\lib\\site-packages (from tensorflow) (3.19.4)\n",
      "Requirement already satisfied: keras-preprocessing>=1.1.1 in c:\\users\\nicho\\anaconda3\\lib\\site-packages (from tensorflow) (1.1.2)\n",
      "Requirement already satisfied: h5py>=2.9.0 in c:\\users\\nicho\\anaconda3\\lib\\site-packages (from tensorflow) (2.10.0)\n",
      "Requirement already satisfied: flatbuffers>=1.12 in c:\\users\\nicho\\anaconda3\\lib\\site-packages (from tensorflow) (2.0)\n",
      "Requirement already satisfied: keras<2.9,>=2.8.0rc0 in c:\\users\\nicho\\anaconda3\\lib\\site-packages (from tensorflow) (2.8.0)\n",
      "Requirement already satisfied: setuptools in c:\\users\\nicho\\anaconda3\\lib\\site-packages (from tensorflow) (52.0.0.post20210125)\n",
      "Requirement already satisfied: gast>=0.2.1 in c:\\users\\nicho\\anaconda3\\lib\\site-packages (from tensorflow) (0.5.3)\n",
      "Requirement already satisfied: grpcio<2.0,>=1.24.3 in c:\\users\\nicho\\anaconda3\\lib\\site-packages (from tensorflow) (1.45.0)\n",
      "Requirement already satisfied: opt-einsum>=2.3.2 in c:\\users\\nicho\\anaconda3\\lib\\site-packages (from tensorflow) (3.3.0)\n",
      "Requirement already satisfied: termcolor>=1.1.0 in c:\\users\\nicho\\anaconda3\\lib\\site-packages (from tensorflow) (1.1.0)\n",
      "Requirement already satisfied: six>=1.12.0 in c:\\users\\nicho\\anaconda3\\lib\\site-packages (from tensorflow) (1.15.0)\n",
      "Requirement already satisfied: wheel<1.0,>=0.23.0 in c:\\users\\nicho\\anaconda3\\lib\\site-packages (from astunparse>=1.6.0->tensorflow) (0.36.2)\n",
      "Requirement already satisfied: google-auth<3,>=1.6.3 in c:\\users\\nicho\\anaconda3\\lib\\site-packages (from tensorboard<2.9,>=2.8->tensorflow) (2.6.2)\n",
      "Requirement already satisfied: tensorboard-plugin-wit>=1.6.0 in c:\\users\\nicho\\anaconda3\\lib\\site-packages (from tensorboard<2.9,>=2.8->tensorflow) (1.8.1)\n",
      "Requirement already satisfied: werkzeug>=0.11.15 in c:\\users\\nicho\\anaconda3\\lib\\site-packages (from tensorboard<2.9,>=2.8->tensorflow) (1.0.1)\n",
      "Requirement already satisfied: tensorboard-data-server<0.7.0,>=0.6.0 in c:\\users\\nicho\\anaconda3\\lib\\site-packages (from tensorboard<2.9,>=2.8->tensorflow) (0.6.1)\n",
      "Requirement already satisfied: requests<3,>=2.21.0 in c:\\users\\nicho\\anaconda3\\lib\\site-packages (from tensorboard<2.9,>=2.8->tensorflow) (2.25.1)\n",
      "Requirement already satisfied: markdown>=2.6.8 in c:\\users\\nicho\\anaconda3\\lib\\site-packages (from tensorboard<2.9,>=2.8->tensorflow) (3.3.6)\n",
      "Requirement already satisfied: google-auth-oauthlib<0.5,>=0.4.1 in c:\\users\\nicho\\anaconda3\\lib\\site-packages (from tensorboard<2.9,>=2.8->tensorflow) (0.4.6)\n",
      "Requirement already satisfied: pyasn1-modules>=0.2.1 in c:\\users\\nicho\\anaconda3\\lib\\site-packages (from google-auth<3,>=1.6.3->tensorboard<2.9,>=2.8->tensorflow) (0.2.8)\n",
      "Requirement already satisfied: cachetools<6.0,>=2.0.0 in c:\\users\\nicho\\anaconda3\\lib\\site-packages (from google-auth<3,>=1.6.3->tensorboard<2.9,>=2.8->tensorflow) (5.0.0)\n",
      "Requirement already satisfied: rsa<5,>=3.1.4 in c:\\users\\nicho\\anaconda3\\lib\\site-packages (from google-auth<3,>=1.6.3->tensorboard<2.9,>=2.8->tensorflow) (4.8)\n",
      "Requirement already satisfied: requests-oauthlib>=0.7.0 in c:\\users\\nicho\\anaconda3\\lib\\site-packages (from google-auth-oauthlib<0.5,>=0.4.1->tensorboard<2.9,>=2.8->tensorflow) (1.3.1)\n",
      "Requirement already satisfied: importlib-metadata>=4.4 in c:\\users\\nicho\\anaconda3\\lib\\site-packages (from markdown>=2.6.8->tensorboard<2.9,>=2.8->tensorflow) (4.11.3)\n",
      "Requirement already satisfied: zipp>=0.5 in c:\\users\\nicho\\anaconda3\\lib\\site-packages (from importlib-metadata>=4.4->markdown>=2.6.8->tensorboard<2.9,>=2.8->tensorflow) (3.4.1)\n",
      "Requirement already satisfied: pyasn1<0.5.0,>=0.4.6 in c:\\users\\nicho\\anaconda3\\lib\\site-packages (from pyasn1-modules>=0.2.1->google-auth<3,>=1.6.3->tensorboard<2.9,>=2.8->tensorflow) (0.4.8)\n",
      "Requirement already satisfied: chardet<5,>=3.0.2 in c:\\users\\nicho\\anaconda3\\lib\\site-packages (from requests<3,>=2.21.0->tensorboard<2.9,>=2.8->tensorflow) (4.0.0)\n",
      "Requirement already satisfied: urllib3<1.27,>=1.21.1 in c:\\users\\nicho\\anaconda3\\lib\\site-packages (from requests<3,>=2.21.0->tensorboard<2.9,>=2.8->tensorflow) (1.26.4)\n",
      "Requirement already satisfied: certifi>=2017.4.17 in c:\\users\\nicho\\anaconda3\\lib\\site-packages (from requests<3,>=2.21.0->tensorboard<2.9,>=2.8->tensorflow) (2020.12.5)\n",
      "Requirement already satisfied: idna<3,>=2.5 in c:\\users\\nicho\\anaconda3\\lib\\site-packages (from requests<3,>=2.21.0->tensorboard<2.9,>=2.8->tensorflow) (2.10)\n",
      "Requirement already satisfied: oauthlib>=3.0.0 in c:\\users\\nicho\\anaconda3\\lib\\site-packages (from requests-oauthlib>=0.7.0->google-auth-oauthlib<0.5,>=0.4.1->tensorboard<2.9,>=2.8->tensorflow) (3.2.0)\n",
      "Note: you may need to restart the kernel to use updated packages.\n"
     ]
    }
   ],
   "source": [
    "pip install tensorflow"
   ]
  },
  {
   "cell_type": "code",
   "execution_count": 134,
   "id": "a7652798",
   "metadata": {},
   "outputs": [],
   "source": [
    "import tensorflow as tf"
   ]
  },
  {
   "cell_type": "code",
   "execution_count": 167,
   "id": "6bbe89a3",
   "metadata": {},
   "outputs": [],
   "source": [
    "# Set random seed\n",
    "tf.random.set_seed(42)\n",
    "\n",
    "# Create the model\n",
    "model_11 = tf.keras.Sequential([\n",
    "  tf.keras.layers.Dense(9),\n",
    "  tf.keras.layers.Dense(6, activation=\"relu\"),\n",
    "  tf.keras.layers.Dense(6, activation=\"relu\"),\n",
    "  tf.keras.layers.Dense(6, activation=\"softmax\") # output shape is 10, activation is softmax\n",
    "])\n",
    "\n",
    "# Compile the model\n",
    "model_11.compile(loss=tf.keras.losses.CategoricalCrossentropy(), # different loss function for multiclass classifcation\n",
    "                 optimizer=tf.keras.optimizers.Adam(),\n",
    "                 metrics=[\"accuracy\"])"
   ]
  },
  {
   "cell_type": "code",
   "execution_count": 173,
   "id": "6d30fcf0",
   "metadata": {},
   "outputs": [
    {
     "data": {
      "text/plain": [
       "((170,), (170, 9))"
      ]
     },
     "execution_count": 173,
     "metadata": {},
     "output_type": "execute_result"
    }
   ],
   "source": [
    "y_train.shape, X_train.shape\n"
   ]
  },
  {
   "cell_type": "code",
   "execution_count": 174,
   "id": "971e0b5c",
   "metadata": {},
   "outputs": [
    {
     "data": {
      "text/plain": [
       "((170, 6), (43, 6))"
      ]
     },
     "execution_count": 174,
     "metadata": {},
     "output_type": "execute_result"
    }
   ],
   "source": [
    "from tensorflow.keras.utils import to_categorical\n",
    "one_hot_y_train= to_categorical(y_train, num_classes=6)\n",
    "one_hot_y_test = to_categorical(y_test, num_classes=6)\n",
    "one_hot_y_train.shape, one_hot_y_test.shape"
   ]
  },
  {
   "cell_type": "code",
   "execution_count": 175,
   "id": "54281830",
   "metadata": {},
   "outputs": [
    {
     "data": {
      "text/plain": [
       "array([0., 1., 0., 0., 0., 0.], dtype=float32)"
      ]
     },
     "execution_count": 175,
     "metadata": {},
     "output_type": "execute_result"
    }
   ],
   "source": [
    "one_hot_y_train[0]"
   ]
  },
  {
   "cell_type": "code",
   "execution_count": 176,
   "id": "828d12b6",
   "metadata": {},
   "outputs": [],
   "source": [
    "# Setup EarlyStopping callback to stop training if model's val_loss doesn't improve for 3 epochs\n",
    "early_stopping = tf.keras.callbacks.EarlyStopping(monitor=\"val_loss\", # watch the val loss metric\n",
    "                                                  patience=10) # if val loss decreases for 3 epochs in a row, stop training\n",
    "\n",
    "# Create ModelCheckpoint callback to save best model during fine-tuning\n",
    "checkpoint_path = \"checkpoints/\"\n",
    "model_checkpoint = tf.keras.callbacks.ModelCheckpoint(checkpoint_path,\n",
    "                                                      save_best_only=True,\n",
    "                                                      monitor=\"val_loss\")"
   ]
  },
  {
   "cell_type": "code",
   "execution_count": 177,
   "id": "c723d0e8",
   "metadata": {},
   "outputs": [
    {
     "name": "stdout",
     "output_type": "stream",
     "text": [
      "Epoch 1/200\n",
      "1/6 [====>.........................] - ETA: 2s - loss: 2.1770 - accuracy: 0.1562INFO:tensorflow:Assets written to: checkpoints\\assets\n",
      "6/6 [==============================] - 1s 160ms/step - loss: 1.9454 - accuracy: 0.1294 - val_loss: 1.7964 - val_accuracy: 0.2093\n",
      "Epoch 2/200\n",
      "1/6 [====>.........................] - ETA: 0s - loss: 1.8390 - accuracy: 0.1562INFO:tensorflow:Assets written to: checkpoints\\assets\n",
      "6/6 [==============================] - 1s 183ms/step - loss: 1.9042 - accuracy: 0.1588 - val_loss: 1.7762 - val_accuracy: 0.2093\n",
      "Epoch 3/200\n",
      "1/6 [====>.........................] - ETA: 0s - loss: 1.9158 - accuracy: 0.1250INFO:tensorflow:Assets written to: checkpoints\\assets\n",
      "6/6 [==============================] - 1s 177ms/step - loss: 1.8711 - accuracy: 0.1824 - val_loss: 1.7575 - val_accuracy: 0.2326\n",
      "Epoch 4/200\n",
      "1/6 [====>.........................] - ETA: 0s - loss: 1.8446 - accuracy: 0.2188INFO:tensorflow:Assets written to: checkpoints\\assets\n",
      "6/6 [==============================] - 1s 132ms/step - loss: 1.8415 - accuracy: 0.2176 - val_loss: 1.7414 - val_accuracy: 0.2558\n",
      "Epoch 5/200\n",
      "1/6 [====>.........................] - ETA: 0s - loss: 1.8782 - accuracy: 0.1562INFO:tensorflow:Assets written to: checkpoints\\assets\n",
      "6/6 [==============================] - 1s 143ms/step - loss: 1.8156 - accuracy: 0.2765 - val_loss: 1.7260 - val_accuracy: 0.3256\n",
      "Epoch 6/200\n",
      "1/6 [====>.........................] - ETA: 0s - loss: 1.9052 - accuracy: 0.2500INFO:tensorflow:Assets written to: checkpoints\\assets\n",
      "6/6 [==============================] - 1s 174ms/step - loss: 1.7923 - accuracy: 0.3176 - val_loss: 1.7098 - val_accuracy: 0.3953\n",
      "Epoch 7/200\n",
      "1/6 [====>.........................] - ETA: 0s - loss: 1.8611 - accuracy: 0.2188INFO:tensorflow:Assets written to: checkpoints\\assets\n",
      "6/6 [==============================] - 1s 143ms/step - loss: 1.7684 - accuracy: 0.3588 - val_loss: 1.6939 - val_accuracy: 0.4419\n",
      "Epoch 8/200\n",
      "1/6 [====>.........................] - ETA: 0s - loss: 1.7689 - accuracy: 0.4062INFO:tensorflow:Assets written to: checkpoints\\assets\n",
      "6/6 [==============================] - 1s 184ms/step - loss: 1.7449 - accuracy: 0.3824 - val_loss: 1.6785 - val_accuracy: 0.4884\n",
      "Epoch 9/200\n",
      "1/6 [====>.........................] - ETA: 0s - loss: 1.8670 - accuracy: 0.3125INFO:tensorflow:Assets written to: checkpoints\\assets\n",
      "6/6 [==============================] - 1s 145ms/step - loss: 1.7261 - accuracy: 0.3882 - val_loss: 1.6635 - val_accuracy: 0.5116\n",
      "Epoch 10/200\n",
      "1/6 [====>.........................] - ETA: 0s - loss: 1.7625 - accuracy: 0.4688INFO:tensorflow:Assets written to: checkpoints\\assets\n",
      "6/6 [==============================] - 1s 141ms/step - loss: 1.7042 - accuracy: 0.4118 - val_loss: 1.6496 - val_accuracy: 0.5349\n",
      "Epoch 11/200\n",
      "1/6 [====>.........................] - ETA: 0s - loss: 1.6595 - accuracy: 0.5312INFO:tensorflow:Assets written to: checkpoints\\assets\n",
      "6/6 [==============================] - 1s 215ms/step - loss: 1.6841 - accuracy: 0.4353 - val_loss: 1.6358 - val_accuracy: 0.5349\n",
      "Epoch 12/200\n",
      "1/6 [====>.........................] - ETA: 0s - loss: 1.5988 - accuracy: 0.3750INFO:tensorflow:Assets written to: checkpoints\\assets\n",
      "6/6 [==============================] - 1s 172ms/step - loss: 1.6672 - accuracy: 0.4294 - val_loss: 1.6216 - val_accuracy: 0.5349\n",
      "Epoch 13/200\n",
      "1/6 [====>.........................] - ETA: 0s - loss: 1.6809 - accuracy: 0.4062INFO:tensorflow:Assets written to: checkpoints\\assets\n",
      "6/6 [==============================] - 1s 144ms/step - loss: 1.6513 - accuracy: 0.4294 - val_loss: 1.6059 - val_accuracy: 0.5349\n",
      "Epoch 14/200\n",
      "1/6 [====>.........................] - ETA: 0s - loss: 1.5219 - accuracy: 0.5938INFO:tensorflow:Assets written to: checkpoints\\assets\n",
      "6/6 [==============================] - 1s 235ms/step - loss: 1.6340 - accuracy: 0.4471 - val_loss: 1.5905 - val_accuracy: 0.5349\n",
      "Epoch 15/200\n",
      "1/6 [====>.........................] - ETA: 0s - loss: 1.7044 - accuracy: 0.3125INFO:tensorflow:Assets written to: checkpoints\\assets\n",
      "6/6 [==============================] - 1s 177ms/step - loss: 1.6177 - accuracy: 0.4588 - val_loss: 1.5746 - val_accuracy: 0.5349\n",
      "Epoch 16/200\n",
      "1/6 [====>.........................] - ETA: 0s - loss: 1.6219 - accuracy: 0.5000INFO:tensorflow:Assets written to: checkpoints\\assets\n",
      "6/6 [==============================] - 1s 133ms/step - loss: 1.6007 - accuracy: 0.4529 - val_loss: 1.5582 - val_accuracy: 0.5116\n",
      "Epoch 17/200\n",
      "1/6 [====>.........................] - ETA: 0s - loss: 1.5835 - accuracy: 0.5938INFO:tensorflow:Assets written to: checkpoints\\assets\n",
      "6/6 [==============================] - 1s 130ms/step - loss: 1.5847 - accuracy: 0.4529 - val_loss: 1.5424 - val_accuracy: 0.5116\n",
      "Epoch 18/200\n",
      "1/6 [====>.........................] - ETA: 0s - loss: 1.6224 - accuracy: 0.4688INFO:tensorflow:Assets written to: checkpoints\\assets\n",
      "6/6 [==============================] - 1s 158ms/step - loss: 1.5682 - accuracy: 0.4529 - val_loss: 1.5254 - val_accuracy: 0.5349\n",
      "Epoch 19/200\n",
      "1/6 [====>.........................] - ETA: 0s - loss: 1.5271 - accuracy: 0.4062INFO:tensorflow:Assets written to: checkpoints\\assets\n",
      "6/6 [==============================] - 1s 132ms/step - loss: 1.5512 - accuracy: 0.4412 - val_loss: 1.5081 - val_accuracy: 0.5116\n",
      "Epoch 20/200\n",
      "1/6 [====>.........................] - ETA: 0s - loss: 1.5651 - accuracy: 0.5312INFO:tensorflow:Assets written to: checkpoints\\assets\n",
      "6/6 [==============================] - 1s 209ms/step - loss: 1.5334 - accuracy: 0.4647 - val_loss: 1.4924 - val_accuracy: 0.5116\n",
      "Epoch 21/200\n",
      "1/6 [====>.........................] - ETA: 0s - loss: 1.5742 - accuracy: 0.3438INFO:tensorflow:Assets written to: checkpoints\\assets\n",
      "6/6 [==============================] - 1s 133ms/step - loss: 1.5156 - accuracy: 0.4765 - val_loss: 1.4770 - val_accuracy: 0.5581\n",
      "Epoch 22/200\n",
      "1/6 [====>.........................] - ETA: 0s - loss: 1.5257 - accuracy: 0.4062INFO:tensorflow:Assets written to: checkpoints\\assets\n",
      "6/6 [==============================] - 1s 136ms/step - loss: 1.4976 - accuracy: 0.4765 - val_loss: 1.4611 - val_accuracy: 0.5581\n",
      "Epoch 23/200\n",
      "1/6 [====>.........................] - ETA: 0s - loss: 1.4365 - accuracy: 0.5625INFO:tensorflow:Assets written to: checkpoints\\assets\n",
      "6/6 [==============================] - 1s 165ms/step - loss: 1.4808 - accuracy: 0.4824 - val_loss: 1.4439 - val_accuracy: 0.5581\n",
      "Epoch 24/200\n",
      "1/6 [====>.........................] - ETA: 0s - loss: 1.4542 - accuracy: 0.4375INFO:tensorflow:Assets written to: checkpoints\\assets\n",
      "6/6 [==============================] - 1s 142ms/step - loss: 1.4615 - accuracy: 0.4882 - val_loss: 1.4295 - val_accuracy: 0.5581\n",
      "Epoch 25/200\n",
      "1/6 [====>.........................] - ETA: 0s - loss: 1.4685 - accuracy: 0.5000INFO:tensorflow:Assets written to: checkpoints\\assets\n",
      "6/6 [==============================] - 1s 149ms/step - loss: 1.4421 - accuracy: 0.5000 - val_loss: 1.4150 - val_accuracy: 0.5581\n",
      "Epoch 26/200\n",
      "1/6 [====>.........................] - ETA: 0s - loss: 1.4322 - accuracy: 0.5312INFO:tensorflow:Assets written to: checkpoints\\assets\n",
      "6/6 [==============================] - 1s 145ms/step - loss: 1.4227 - accuracy: 0.5000 - val_loss: 1.3996 - val_accuracy: 0.5581\n",
      "Epoch 27/200\n",
      "1/6 [====>.........................] - ETA: 0s - loss: 1.5565 - accuracy: 0.4375INFO:tensorflow:Assets written to: checkpoints\\assets\n",
      "6/6 [==============================] - 1s 139ms/step - loss: 1.4020 - accuracy: 0.5118 - val_loss: 1.3860 - val_accuracy: 0.5581\n",
      "Epoch 28/200\n",
      "1/6 [====>.........................] - ETA: 0s - loss: 1.3115 - accuracy: 0.6562INFO:tensorflow:Assets written to: checkpoints\\assets\n",
      "6/6 [==============================] - 1s 204ms/step - loss: 1.3824 - accuracy: 0.5235 - val_loss: 1.3729 - val_accuracy: 0.5581\n",
      "Epoch 29/200\n",
      "1/6 [====>.........................] - ETA: 0s - loss: 1.4582 - accuracy: 0.5000INFO:tensorflow:Assets written to: checkpoints\\assets\n",
      "6/6 [==============================] - 1s 127ms/step - loss: 1.3602 - accuracy: 0.5412 - val_loss: 1.3596 - val_accuracy: 0.5581\n",
      "Epoch 30/200\n",
      "1/6 [====>.........................] - ETA: 0s - loss: 1.3234 - accuracy: 0.5625INFO:tensorflow:Assets written to: checkpoints\\assets\n",
      "6/6 [==============================] - 1s 159ms/step - loss: 1.3389 - accuracy: 0.5412 - val_loss: 1.3469 - val_accuracy: 0.5349\n"
     ]
    },
    {
     "name": "stdout",
     "output_type": "stream",
     "text": [
      "Epoch 31/200\n",
      "1/6 [====>.........................] - ETA: 0s - loss: 1.2592 - accuracy: 0.5938INFO:tensorflow:Assets written to: checkpoints\\assets\n",
      "6/6 [==============================] - 1s 153ms/step - loss: 1.3176 - accuracy: 0.5588 - val_loss: 1.3336 - val_accuracy: 0.5349\n",
      "Epoch 32/200\n",
      "1/6 [====>.........................] - ETA: 0s - loss: 1.2068 - accuracy: 0.6250INFO:tensorflow:Assets written to: checkpoints\\assets\n",
      "6/6 [==============================] - 1s 134ms/step - loss: 1.2956 - accuracy: 0.5647 - val_loss: 1.3227 - val_accuracy: 0.5349\n",
      "Epoch 33/200\n",
      "1/6 [====>.........................] - ETA: 0s - loss: 1.0889 - accuracy: 0.7188INFO:tensorflow:Assets written to: checkpoints\\assets\n",
      "6/6 [==============================] - 1s 153ms/step - loss: 1.2746 - accuracy: 0.5765 - val_loss: 1.3113 - val_accuracy: 0.5349\n",
      "Epoch 34/200\n",
      "1/6 [====>.........................] - ETA: 0s - loss: 1.1231 - accuracy: 0.6250INFO:tensorflow:Assets written to: checkpoints\\assets\n",
      "6/6 [==============================] - 1s 176ms/step - loss: 1.2532 - accuracy: 0.5824 - val_loss: 1.3035 - val_accuracy: 0.5349\n",
      "Epoch 35/200\n",
      "1/6 [====>.........................] - ETA: 0s - loss: 1.1281 - accuracy: 0.6875INFO:tensorflow:Assets written to: checkpoints\\assets\n",
      "6/6 [==============================] - 1s 129ms/step - loss: 1.2325 - accuracy: 0.6000 - val_loss: 1.2977 - val_accuracy: 0.5349\n",
      "Epoch 36/200\n",
      "1/6 [====>.........................] - ETA: 0s - loss: 1.2406 - accuracy: 0.5938INFO:tensorflow:Assets written to: checkpoints\\assets\n",
      "6/6 [==============================] - 1s 131ms/step - loss: 1.2110 - accuracy: 0.6118 - val_loss: 1.2916 - val_accuracy: 0.5116\n",
      "Epoch 37/200\n",
      "1/6 [====>.........................] - ETA: 0s - loss: 1.2506 - accuracy: 0.6250INFO:tensorflow:Assets written to: checkpoints\\assets\n",
      "6/6 [==============================] - 1s 225ms/step - loss: 1.1914 - accuracy: 0.6176 - val_loss: 1.2863 - val_accuracy: 0.5116\n",
      "Epoch 38/200\n",
      "1/6 [====>.........................] - ETA: 0s - loss: 1.2883 - accuracy: 0.6250INFO:tensorflow:Assets written to: checkpoints\\assets\n",
      "6/6 [==============================] - 1s 137ms/step - loss: 1.1717 - accuracy: 0.6412 - val_loss: 1.2807 - val_accuracy: 0.5116\n",
      "Epoch 39/200\n",
      "1/6 [====>.........................] - ETA: 0s - loss: 1.1513 - accuracy: 0.6875INFO:tensorflow:Assets written to: checkpoints\\assets\n",
      "6/6 [==============================] - 1s 152ms/step - loss: 1.1527 - accuracy: 0.6412 - val_loss: 1.2747 - val_accuracy: 0.5349\n",
      "Epoch 40/200\n",
      "1/6 [====>.........................] - ETA: 0s - loss: 1.1746 - accuracy: 0.6250INFO:tensorflow:Assets written to: checkpoints\\assets\n",
      "6/6 [==============================] - 1s 145ms/step - loss: 1.1332 - accuracy: 0.6471 - val_loss: 1.2697 - val_accuracy: 0.5349\n",
      "Epoch 41/200\n",
      "1/6 [====>.........................] - ETA: 0s - loss: 1.1728 - accuracy: 0.6875INFO:tensorflow:Assets written to: checkpoints\\assets\n",
      "6/6 [==============================] - 1s 135ms/step - loss: 1.1141 - accuracy: 0.6588 - val_loss: 1.2689 - val_accuracy: 0.5349\n",
      "Epoch 42/200\n",
      "1/6 [====>.........................] - ETA: 0s - loss: 1.1076 - accuracy: 0.6250INFO:tensorflow:Assets written to: checkpoints\\assets\n",
      "6/6 [==============================] - 1s 173ms/step - loss: 1.0956 - accuracy: 0.6706 - val_loss: 1.2647 - val_accuracy: 0.5581\n",
      "Epoch 43/200\n",
      "1/6 [====>.........................] - ETA: 0s - loss: 1.1450 - accuracy: 0.7188INFO:tensorflow:Assets written to: checkpoints\\assets\n",
      "6/6 [==============================] - 1s 164ms/step - loss: 1.0776 - accuracy: 0.6765 - val_loss: 1.2623 - val_accuracy: 0.5581\n",
      "Epoch 44/200\n",
      "1/6 [====>.........................] - ETA: 0s - loss: 1.1613 - accuracy: 0.6250INFO:tensorflow:Assets written to: checkpoints\\assets\n",
      "6/6 [==============================] - 1s 170ms/step - loss: 1.0601 - accuracy: 0.6647 - val_loss: 1.2537 - val_accuracy: 0.5349\n",
      "Epoch 45/200\n",
      "1/6 [====>.........................] - ETA: 0s - loss: 0.9916 - accuracy: 0.7500INFO:tensorflow:Assets written to: checkpoints\\assets\n",
      "6/6 [==============================] - 1s 176ms/step - loss: 1.0433 - accuracy: 0.6588 - val_loss: 1.2445 - val_accuracy: 0.5349\n",
      "Epoch 46/200\n",
      "1/6 [====>.........................] - ETA: 0s - loss: 0.9910 - accuracy: 0.6875INFO:tensorflow:Assets written to: checkpoints\\assets\n",
      "6/6 [==============================] - 1s 143ms/step - loss: 1.0269 - accuracy: 0.6588 - val_loss: 1.2393 - val_accuracy: 0.5349\n",
      "Epoch 47/200\n",
      "1/6 [====>.........................] - ETA: 0s - loss: 1.1303 - accuracy: 0.4688INFO:tensorflow:Assets written to: checkpoints\\assets\n",
      "6/6 [==============================] - 1s 173ms/step - loss: 1.0101 - accuracy: 0.6529 - val_loss: 1.2358 - val_accuracy: 0.5349\n",
      "Epoch 48/200\n",
      "1/6 [====>.........................] - ETA: 0s - loss: 1.0588 - accuracy: 0.6562INFO:tensorflow:Assets written to: checkpoints\\assets\n",
      "6/6 [==============================] - 1s 147ms/step - loss: 0.9952 - accuracy: 0.6647 - val_loss: 1.2313 - val_accuracy: 0.5581\n",
      "Epoch 49/200\n",
      "1/6 [====>.........................] - ETA: 0s - loss: 0.8296 - accuracy: 0.7188INFO:tensorflow:Assets written to: checkpoints\\assets\n",
      "6/6 [==============================] - 1s 133ms/step - loss: 0.9816 - accuracy: 0.6647 - val_loss: 1.2192 - val_accuracy: 0.5581\n",
      "Epoch 50/200\n",
      "1/6 [====>.........................] - ETA: 0s - loss: 0.9053 - accuracy: 0.6562INFO:tensorflow:Assets written to: checkpoints\\assets\n",
      "6/6 [==============================] - 1s 154ms/step - loss: 0.9683 - accuracy: 0.6647 - val_loss: 1.2122 - val_accuracy: 0.5581\n",
      "Epoch 51/200\n",
      "1/6 [====>.........................] - ETA: 0s - loss: 0.9132 - accuracy: 0.6875INFO:tensorflow:Assets written to: checkpoints\\assets\n",
      "6/6 [==============================] - 1s 144ms/step - loss: 0.9570 - accuracy: 0.6706 - val_loss: 1.2112 - val_accuracy: 0.5581\n",
      "Epoch 52/200\n",
      "1/6 [====>.........................] - ETA: 0s - loss: 0.8784 - accuracy: 0.7500INFO:tensorflow:Assets written to: checkpoints\\assets\n",
      "6/6 [==============================] - 1s 165ms/step - loss: 0.9461 - accuracy: 0.6706 - val_loss: 1.2110 - val_accuracy: 0.5581\n",
      "Epoch 53/200\n",
      "6/6 [==============================] - 0s 9ms/step - loss: 0.9355 - accuracy: 0.6647 - val_loss: 1.2114 - val_accuracy: 0.5581\n",
      "Epoch 54/200\n",
      "1/6 [====>.........................] - ETA: 0s - loss: 1.0029 - accuracy: 0.7188INFO:tensorflow:Assets written to: checkpoints\\assets\n",
      "6/6 [==============================] - 1s 182ms/step - loss: 0.9252 - accuracy: 0.6706 - val_loss: 1.2105 - val_accuracy: 0.5814\n",
      "Epoch 55/200\n",
      "1/6 [====>.........................] - ETA: 0s - loss: 0.9866 - accuracy: 0.6250INFO:tensorflow:Assets written to: checkpoints\\assets\n",
      "6/6 [==============================] - 1s 134ms/step - loss: 0.9165 - accuracy: 0.6706 - val_loss: 1.2094 - val_accuracy: 0.5814\n",
      "Epoch 56/200\n",
      "1/6 [====>.........................] - ETA: 0s - loss: 0.9662 - accuracy: 0.6250INFO:tensorflow:Assets written to: checkpoints\\assets\n",
      "6/6 [==============================] - 1s 147ms/step - loss: 0.9071 - accuracy: 0.6882 - val_loss: 1.2060 - val_accuracy: 0.6047\n",
      "Epoch 57/200\n",
      "6/6 [==============================] - 0s 9ms/step - loss: 0.8973 - accuracy: 0.6882 - val_loss: 1.2083 - val_accuracy: 0.6047\n",
      "Epoch 58/200\n",
      "6/6 [==============================] - 0s 9ms/step - loss: 0.8890 - accuracy: 0.6882 - val_loss: 1.2075 - val_accuracy: 0.6047\n",
      "Epoch 59/200\n",
      "6/6 [==============================] - 0s 8ms/step - loss: 0.8818 - accuracy: 0.6882 - val_loss: 1.2095 - val_accuracy: 0.6047\n",
      "Epoch 60/200\n",
      "1/6 [====>.........................] - ETA: 0s - loss: 1.0538 - accuracy: 0.5938INFO:tensorflow:Assets written to: checkpoints\\assets\n",
      "6/6 [==============================] - 1s 159ms/step - loss: 0.8736 - accuracy: 0.6882 - val_loss: 1.2050 - val_accuracy: 0.5814\n",
      "Epoch 61/200\n",
      "1/6 [====>.........................] - ETA: 0s - loss: 0.8436 - accuracy: 0.6875INFO:tensorflow:Assets written to: checkpoints\\assets\n",
      "6/6 [==============================] - 1s 131ms/step - loss: 0.8672 - accuracy: 0.6882 - val_loss: 1.2047 - val_accuracy: 0.5814\n",
      "Epoch 62/200\n",
      "1/6 [====>.........................] - ETA: 0s - loss: 0.8370 - accuracy: 0.6875INFO:tensorflow:Assets written to: checkpoints\\assets\n",
      "6/6 [==============================] - 1s 138ms/step - loss: 0.8604 - accuracy: 0.6882 - val_loss: 1.2036 - val_accuracy: 0.6047\n"
     ]
    },
    {
     "name": "stdout",
     "output_type": "stream",
     "text": [
      "Epoch 63/200\n",
      "1/6 [====>.........................] - ETA: 0s - loss: 0.8459 - accuracy: 0.7188INFO:tensorflow:Assets written to: checkpoints\\assets\n",
      "6/6 [==============================] - 1s 187ms/step - loss: 0.8546 - accuracy: 0.6882 - val_loss: 1.2030 - val_accuracy: 0.6047\n",
      "Epoch 64/200\n",
      "6/6 [==============================] - 0s 6ms/step - loss: 0.8493 - accuracy: 0.6882 - val_loss: 1.2040 - val_accuracy: 0.6047\n",
      "Epoch 65/200\n",
      "6/6 [==============================] - 0s 6ms/step - loss: 0.8447 - accuracy: 0.6882 - val_loss: 1.2064 - val_accuracy: 0.6047\n",
      "Epoch 66/200\n",
      "6/6 [==============================] - 0s 6ms/step - loss: 0.8399 - accuracy: 0.6882 - val_loss: 1.2065 - val_accuracy: 0.6047\n",
      "Epoch 67/200\n",
      "6/6 [==============================] - 0s 6ms/step - loss: 0.8345 - accuracy: 0.6882 - val_loss: 1.2108 - val_accuracy: 0.6047\n",
      "Epoch 68/200\n",
      "6/6 [==============================] - 0s 6ms/step - loss: 0.8312 - accuracy: 0.6882 - val_loss: 1.2139 - val_accuracy: 0.6047\n",
      "Epoch 69/200\n",
      "6/6 [==============================] - 0s 6ms/step - loss: 0.8271 - accuracy: 0.6882 - val_loss: 1.2128 - val_accuracy: 0.6047\n",
      "Epoch 70/200\n",
      "6/6 [==============================] - 0s 7ms/step - loss: 0.8229 - accuracy: 0.6824 - val_loss: 1.2110 - val_accuracy: 0.6047\n",
      "Epoch 71/200\n",
      "6/6 [==============================] - 0s 7ms/step - loss: 0.8194 - accuracy: 0.6824 - val_loss: 1.2124 - val_accuracy: 0.6047\n",
      "Epoch 72/200\n",
      "6/6 [==============================] - 0s 7ms/step - loss: 0.8154 - accuracy: 0.6824 - val_loss: 1.2152 - val_accuracy: 0.6047\n",
      "Epoch 73/200\n",
      "6/6 [==============================] - 0s 6ms/step - loss: 0.8114 - accuracy: 0.6882 - val_loss: 1.2129 - val_accuracy: 0.6047\n"
     ]
    }
   ],
   "source": [
    "\n",
    "# Fit the model\n",
    "non_norm_history = model_11.fit(X_train,\n",
    "                                one_hot_y_train,\n",
    "                                epochs=200,\n",
    "                                validation_data=(X_test, one_hot_y_test),\n",
    "                               callbacks=[model_checkpoint, # save only the best model during training\n",
    "                                                                   early_stopping,]\n",
    "                               ) # see how the model performs on the test set during training"
   ]
  },
  {
   "cell_type": "code",
   "execution_count": 178,
   "id": "5872a9bc",
   "metadata": {},
   "outputs": [],
   "source": [
    "# Plot the validation and training data separately\n",
    "def plot_loss_curves(history):\n",
    "  \"\"\"\n",
    "  Returns separate loss curves for training and validation metrics.\n",
    "  \"\"\" \n",
    "  loss = history.history['loss']\n",
    "  val_loss = history.history['val_loss']\n",
    "\n",
    "  accuracy = history.history['accuracy']\n",
    "  val_accuracy = history.history['val_accuracy']\n",
    "\n",
    "  epochs = range(len(history.history['loss']))\n",
    "\n",
    "  # Plot loss\n",
    "  plt.plot(epochs, loss, label='training_loss')\n",
    "  plt.plot(epochs, val_loss, label='val_loss')\n",
    "  plt.title('Loss')\n",
    "  plt.xlabel('Epochs')\n",
    "  plt.legend()\n",
    "\n",
    "  # Plot accuracy\n",
    "  plt.figure()\n",
    "  plt.plot(epochs, accuracy, label='training_accuracy')\n",
    "  plt.plot(epochs, val_accuracy, label='val_accuracy')\n",
    "  plt.title('Accuracy')\n",
    "  plt.xlabel('Epochs')\n",
    "  plt.legend();"
   ]
  },
  {
   "cell_type": "code",
   "execution_count": 179,
   "id": "417b6ef3",
   "metadata": {},
   "outputs": [
    {
     "data": {
      "image/png": "[encoded data removed]",
      "text/plain": [
       "<Figure size 432x288 with 1 Axes>"
      ]
     },
     "metadata": {
      "needs_background": "light"
     },
     "output_type": "display_data"
    },
    {
     "data": {
      "image/png": "[encoded data removed]",
      "text/plain": [
       "<Figure size 432x288 with 1 Axes>"
      ]
     },
     "metadata": {
      "needs_background": "light"
     },
     "output_type": "display_data"
    }
   ],
   "source": [
    "plot_loss_curves(non_norm_history)"
   ]
  },
  {
   "cell_type": "code",
   "execution_count": 182,
   "id": "97a67241",
   "metadata": {},
   "outputs": [
    {
     "name": "stdout",
     "output_type": "stream",
     "text": [
      "Parameters currently in use:\n",
      "\n",
      "{'bootstrap': True, 'ccp_alpha': 0.0, 'criterion': 'squared_error', 'max_depth': None, 'max_features': 'auto', 'max_leaf_nodes': None, 'max_samples': None, 'min_impurity_decrease': 0.0, 'min_samples_leaf': 1, 'min_samples_split': 2, 'min_weight_fraction_leaf': 0.0, 'n_estimators': 100, 'n_jobs': None, 'oob_score': False, 'random_state': 42, 'verbose': 0, 'warm_start': False}\n"
     ]
    }
   ],
   "source": [
    "from sklearn.ensemble import RandomForestRegressor\n",
    "rf = RandomForestRegressor(random_state = 42)\n",
    "from pprint import pprint# Look at parameters used by our current forest\n",
    "print('Parameters currently in use:\\n')\n",
    "print(rf.get_params())"
   ]
  },
  {
   "cell_type": "code",
   "execution_count": 183,
   "id": "28046396",
   "metadata": {},
   "outputs": [
    {
     "name": "stdout",
     "output_type": "stream",
     "text": [
      "{'n_estimators': [5, 10, 15, 20, 25, 30, 35, 40, 45, 50, 55, 60, 65, 70, 75, 80, 85, 90, 95, 100, 105, 110, 115, 120, 125, 130, 135, 140, 145, 150, 155, 160, 165, 170, 175, 180, 185, 190, 195, 200, 205, 210, 215, 220, 225, 230, 235, 240, 245, 250, 255, 260, 265, 270, 275, 280, 285, 290, 295, 300, 305, 310, 315, 320, 325, 330, 335, 340, 345, 350, 355, 360, 365, 370, 375, 380, 385, 390, 395, 400, 405, 410, 415, 420, 425, 430, 435, 440, 445, 450, 455, 460, 465, 470, 475, 480, 485, 490, 495], 'max_features': ['auto', 'sqrt'], 'max_depth': [10, 15, 20, 25, 30, 35, 40, 45, 50, 55, 60, 65, 70, 75, 80, 85, 90, 95, 100, 105, None], 'min_samples_split': [2, 5, 10], 'min_samples_leaf': [1, 2, 4], 'bootstrap': [True, False]}\n"
     ]
    }
   ],
   "source": [
    "from sklearn.model_selection import RandomizedSearchCV# Number of trees in random forest\n",
    "#n_estimators = [int(x) for x in np.linspace(start = 5, stop = 500, num = 20)]\n",
    "n_estimators=np.arange(5,500,5).tolist()\n",
    "# Number of features to consider at every split\n",
    "max_features = ['auto', 'sqrt']\n",
    "# Maximum number of levels in tree\n",
    "max_depth = np.arange(10,110,5).tolist()\n",
    "max_depth.append(None)\n",
    "# Minimum number of samples required to split a node\n",
    "min_samples_split = [2, 5, 10]\n",
    "# Minimum number of samples required at each leaf node\n",
    "min_samples_leaf = [1, 2, 4]\n",
    "# Method of selecting samples for training each tree\n",
    "bootstrap = [True, False]# Create the random grid\n",
    "random_grid = {'n_estimators': n_estimators,\n",
    "               'max_features': max_features,\n",
    "               'max_depth': max_depth,\n",
    "               'min_samples_split': min_samples_split,\n",
    "               'min_samples_leaf': min_samples_leaf,\n",
    "               'bootstrap': bootstrap}\n",
    "print(random_grid)"
   ]
  },
  {
   "cell_type": "code",
   "execution_count": 185,
   "id": "8a3028b1",
   "metadata": {},
   "outputs": [
    {
     "name": "stdout",
     "output_type": "stream",
     "text": [
      "Fitting 3 folds for each of 100 candidates, totalling 300 fits\n"
     ]
    },
    {
     "data": {
      "text/plain": [
       "RandomizedSearchCV(cv=3, estimator=RandomForestRegressor(), n_iter=100,\n",
       "                   n_jobs=-1,\n",
       "                   param_distributions={'bootstrap': [True, False],\n",
       "                                        'max_depth': [10, 15, 20, 25, 30, 35,\n",
       "                                                      40, 45, 50, 55, 60, 65,\n",
       "                                                      70, 75, 80, 85, 90, 95,\n",
       "                                                      100, 105, None],\n",
       "                                        'max_features': ['auto', 'sqrt'],\n",
       "                                        'min_samples_leaf': [1, 2, 4],\n",
       "                                        'min_samples_split': [2, 5, 10],\n",
       "                                        'n_estimators': [5, 10, 15, 20, 25, 30,\n",
       "                                                         35, 40, 45, 50, 55, 60,\n",
       "                                                         65, 70, 75, 80, 85, 90,\n",
       "                                                         95, 100, 105, 110, 115,\n",
       "                                                         120, 125, 130, 135,\n",
       "                                                         140, 145, 150, ...]},\n",
       "                   random_state=42, verbose=2)"
      ]
     },
     "execution_count": 185,
     "metadata": {},
     "output_type": "execute_result"
    }
   ],
   "source": [
    "# Use the random grid to search for best hyperparameters\n",
    "# First create the base model to tune\n",
    "rf = RandomForestRegressor()\n",
    "# Random search of parameters, using 3 fold cross validation, \n",
    "# search across 100 different combinations, and use all available cores\n",
    "rf_random = RandomizedSearchCV(estimator = rf, param_distributions = random_grid, n_iter = 100, cv = 3, verbose=2, random_state=42, n_jobs = -1)# Fit the random search model\n",
    "rf_random.fit(X_train, y_train)"
   ]
  },
  {
   "cell_type": "code",
   "execution_count": 196,
   "id": "06905b23",
   "metadata": {},
   "outputs": [
    {
     "data": {
      "text/plain": [
       "{'n_estimators': 115,\n",
       " 'min_samples_split': 2,\n",
       " 'min_samples_leaf': 1,\n",
       " 'max_features': 'sqrt',\n",
       " 'max_depth': 15,\n",
       " 'bootstrap': True}"
      ]
     },
     "execution_count": 196,
     "metadata": {},
     "output_type": "execute_result"
    }
   ],
   "source": [
    "rf_random.best_params_"
   ]
  },
  {
   "cell_type": "code",
   "execution_count": 197,
   "id": "2d015721",
   "metadata": {},
   "outputs": [
    {
     "data": {
      "text/plain": [
       "RandomForestClassifier(criterion='entropy', max_depth=15, max_features='sqrt',\n",
       "                       n_estimators=115, random_state=0)"
      ]
     },
     "execution_count": 197,
     "metadata": {},
     "output_type": "execute_result"
    }
   ],
   "source": [
    "from sklearn.ensemble import RandomForestClassifier\n",
    "classifier = RandomForestClassifier(n_estimators = 115, random_state = 0,\n",
    "                                    criterion= 'entropy',\n",
    "                                   min_samples_split=2,\n",
    "                                   min_samples_leaf=1,\n",
    "                                   max_features='sqrt',\n",
    "                                   max_depth=15,\n",
    "                                   bootstrap=True)\n",
    "classifier.fit(X_train, y_train)"
   ]
  },
  {
   "cell_type": "code",
   "execution_count": 198,
   "id": "e975b8a5",
   "metadata": {},
   "outputs": [],
   "source": [
    "y_pred = classifier.predict(X_test)"
   ]
  },
  {
   "cell_type": "code",
   "execution_count": 199,
   "id": "c4de6d26",
   "metadata": {},
   "outputs": [
    {
     "name": "stdout",
     "output_type": "stream",
     "text": [
      "[[ 6  1  1  0  0  0]\n",
      " [ 3 15  0  0  0  0]\n",
      " [ 2  3  0  0  0  0]\n",
      " [ 0  0  0  2  0  1]\n",
      " [ 0  0  0  0  1  0]\n",
      " [ 0  2  0  0  0  6]]\n"
     ]
    },
    {
     "data": {
      "text/plain": [
       "0.6976744186046512"
      ]
     },
     "execution_count": 199,
     "metadata": {},
     "output_type": "execute_result"
    }
   ],
   "source": [
    "from sklearn.metrics import confusion_matrix, accuracy_score\n",
    "cm = confusion_matrix(y_test, y_pred)\n",
    "print(cm)\n",
    "accuracy_score(y_test, y_pred)"
   ]
  },
  {
   "cell_type": "code",
   "execution_count": null,
   "id": "5169f2a1",
   "metadata": {},
   "outputs": [],
   "source": []
  }
 ],
 "metadata": {
  "kernelspec": {
   "display_name": "Python 3",
   "language": "python",
   "name": "python3"
  },
  "language_info": {
   "codemirror_mode": {
    "name": "ipython",
    "version": 3
   },
   "file_extension": ".py",
   "mimetype": "text/x-python",
   "name": "python",
   "nbconvert_exporter": "python",
   "pygments_lexer": "ipython3",
   "version": "3.8.8"
  }
 },
 "nbformat": 4,
 "nbformat_minor": 5
}
