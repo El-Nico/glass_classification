{
 "cells": [
  {
   "cell_type": "code",
   "execution_count": 1,
   "id": "b1edfc0d",
   "metadata": {},
   "outputs": [],
   "source": [
    "import pandas as pd"
   ]
  },
  {
   "cell_type": "code",
   "execution_count": 42,
   "id": "e397489c",
   "metadata": {},
   "outputs": [
    {
     "data": {
      "text/html": [
       "<div>\n",
       "<style scoped>\n",
       "    .dataframe tbody tr th:only-of-type {\n",
       "        vertical-align: middle;\n",
       "    }\n",
       "\n",
       "    .dataframe tbody tr th {\n",
       "        vertical-align: top;\n",
       "    }\n",
       "\n",
       "    .dataframe thead th {\n",
       "        text-align: right;\n",
       "    }\n",
       "</style>\n",
       "<table border=\"1\" class=\"dataframe\">\n",
       "  <thead>\n",
       "    <tr style=\"text-align: right;\">\n",
       "      <th></th>\n",
       "      <th>1</th>\n",
       "      <th>1.52101</th>\n",
       "      <th>13.64</th>\n",
       "      <th>4.49</th>\n",
       "      <th>1.10</th>\n",
       "      <th>71.78</th>\n",
       "      <th>0.06</th>\n",
       "      <th>8.75</th>\n",
       "      <th>0.00</th>\n",
       "      <th>0.00.1</th>\n",
       "      <th>1.1</th>\n",
       "    </tr>\n",
       "  </thead>\n",
       "  <tbody>\n",
       "    <tr>\n",
       "      <th>0</th>\n",
       "      <td>2</td>\n",
       "      <td>1.51761</td>\n",
       "      <td>13.89</td>\n",
       "      <td>3.60</td>\n",
       "      <td>1.36</td>\n",
       "      <td>72.73</td>\n",
       "      <td>0.48</td>\n",
       "      <td>7.83</td>\n",
       "      <td>0.00</td>\n",
       "      <td>0.00</td>\n",
       "      <td>1</td>\n",
       "    </tr>\n",
       "    <tr>\n",
       "      <th>1</th>\n",
       "      <td>3</td>\n",
       "      <td>1.51618</td>\n",
       "      <td>13.53</td>\n",
       "      <td>3.55</td>\n",
       "      <td>1.54</td>\n",
       "      <td>72.99</td>\n",
       "      <td>0.39</td>\n",
       "      <td>7.78</td>\n",
       "      <td>0.00</td>\n",
       "      <td>0.00</td>\n",
       "      <td>1</td>\n",
       "    </tr>\n",
       "    <tr>\n",
       "      <th>2</th>\n",
       "      <td>4</td>\n",
       "      <td>1.51766</td>\n",
       "      <td>13.21</td>\n",
       "      <td>3.69</td>\n",
       "      <td>1.29</td>\n",
       "      <td>72.61</td>\n",
       "      <td>0.57</td>\n",
       "      <td>8.22</td>\n",
       "      <td>0.00</td>\n",
       "      <td>0.00</td>\n",
       "      <td>1</td>\n",
       "    </tr>\n",
       "    <tr>\n",
       "      <th>3</th>\n",
       "      <td>5</td>\n",
       "      <td>1.51742</td>\n",
       "      <td>13.27</td>\n",
       "      <td>3.62</td>\n",
       "      <td>1.24</td>\n",
       "      <td>73.08</td>\n",
       "      <td>0.55</td>\n",
       "      <td>8.07</td>\n",
       "      <td>0.00</td>\n",
       "      <td>0.00</td>\n",
       "      <td>1</td>\n",
       "    </tr>\n",
       "    <tr>\n",
       "      <th>4</th>\n",
       "      <td>6</td>\n",
       "      <td>1.51596</td>\n",
       "      <td>12.79</td>\n",
       "      <td>3.61</td>\n",
       "      <td>1.62</td>\n",
       "      <td>72.97</td>\n",
       "      <td>0.64</td>\n",
       "      <td>8.07</td>\n",
       "      <td>0.00</td>\n",
       "      <td>0.26</td>\n",
       "      <td>1</td>\n",
       "    </tr>\n",
       "    <tr>\n",
       "      <th>...</th>\n",
       "      <td>...</td>\n",
       "      <td>...</td>\n",
       "      <td>...</td>\n",
       "      <td>...</td>\n",
       "      <td>...</td>\n",
       "      <td>...</td>\n",
       "      <td>...</td>\n",
       "      <td>...</td>\n",
       "      <td>...</td>\n",
       "      <td>...</td>\n",
       "      <td>...</td>\n",
       "    </tr>\n",
       "    <tr>\n",
       "      <th>208</th>\n",
       "      <td>210</td>\n",
       "      <td>1.51623</td>\n",
       "      <td>14.14</td>\n",
       "      <td>0.00</td>\n",
       "      <td>2.88</td>\n",
       "      <td>72.61</td>\n",
       "      <td>0.08</td>\n",
       "      <td>9.18</td>\n",
       "      <td>1.06</td>\n",
       "      <td>0.00</td>\n",
       "      <td>7</td>\n",
       "    </tr>\n",
       "    <tr>\n",
       "      <th>209</th>\n",
       "      <td>211</td>\n",
       "      <td>1.51685</td>\n",
       "      <td>14.92</td>\n",
       "      <td>0.00</td>\n",
       "      <td>1.99</td>\n",
       "      <td>73.06</td>\n",
       "      <td>0.00</td>\n",
       "      <td>8.40</td>\n",
       "      <td>1.59</td>\n",
       "      <td>0.00</td>\n",
       "      <td>7</td>\n",
       "    </tr>\n",
       "    <tr>\n",
       "      <th>210</th>\n",
       "      <td>212</td>\n",
       "      <td>1.52065</td>\n",
       "      <td>14.36</td>\n",
       "      <td>0.00</td>\n",
       "      <td>2.02</td>\n",
       "      <td>73.42</td>\n",
       "      <td>0.00</td>\n",
       "      <td>8.44</td>\n",
       "      <td>1.64</td>\n",
       "      <td>0.00</td>\n",
       "      <td>7</td>\n",
       "    </tr>\n",
       "    <tr>\n",
       "      <th>211</th>\n",
       "      <td>213</td>\n",
       "      <td>1.51651</td>\n",
       "      <td>14.38</td>\n",
       "      <td>0.00</td>\n",
       "      <td>1.94</td>\n",
       "      <td>73.61</td>\n",
       "      <td>0.00</td>\n",
       "      <td>8.48</td>\n",
       "      <td>1.57</td>\n",
       "      <td>0.00</td>\n",
       "      <td>7</td>\n",
       "    </tr>\n",
       "    <tr>\n",
       "      <th>212</th>\n",
       "      <td>214</td>\n",
       "      <td>1.51711</td>\n",
       "      <td>14.23</td>\n",
       "      <td>0.00</td>\n",
       "      <td>2.08</td>\n",
       "      <td>73.36</td>\n",
       "      <td>0.00</td>\n",
       "      <td>8.62</td>\n",
       "      <td>1.67</td>\n",
       "      <td>0.00</td>\n",
       "      <td>7</td>\n",
       "    </tr>\n",
       "  </tbody>\n",
       "</table>\n",
       "<p>213 rows × 11 columns</p>\n",
       "</div>"
      ],
      "text/plain": [
       "       1  1.52101  13.64  4.49  1.10  71.78  0.06  8.75  0.00  0.00.1  1.1\n",
       "0      2  1.51761  13.89  3.60  1.36  72.73  0.48  7.83  0.00    0.00    1\n",
       "1      3  1.51618  13.53  3.55  1.54  72.99  0.39  7.78  0.00    0.00    1\n",
       "2      4  1.51766  13.21  3.69  1.29  72.61  0.57  8.22  0.00    0.00    1\n",
       "3      5  1.51742  13.27  3.62  1.24  73.08  0.55  8.07  0.00    0.00    1\n",
       "4      6  1.51596  12.79  3.61  1.62  72.97  0.64  8.07  0.00    0.26    1\n",
       "..   ...      ...    ...   ...   ...    ...   ...   ...   ...     ...  ...\n",
       "208  210  1.51623  14.14  0.00  2.88  72.61  0.08  9.18  1.06    0.00    7\n",
       "209  211  1.51685  14.92  0.00  1.99  73.06  0.00  8.40  1.59    0.00    7\n",
       "210  212  1.52065  14.36  0.00  2.02  73.42  0.00  8.44  1.64    0.00    7\n",
       "211  213  1.51651  14.38  0.00  1.94  73.61  0.00  8.48  1.57    0.00    7\n",
       "212  214  1.51711  14.23  0.00  2.08  73.36  0.00  8.62  1.67    0.00    7\n",
       "\n",
       "[213 rows x 11 columns]"
      ]
     },
     "execution_count": 42,
     "metadata": {},
     "output_type": "execute_result"
    }
   ],
   "source": [
    "df = pd.read_csv(\"glass_data.csv\")\n",
    "df"
   ]
  },
  {
   "cell_type": "code",
   "execution_count": 43,
   "id": "844a2d2f",
   "metadata": {},
   "outputs": [
    {
     "data": {
      "text/html": [
       "<div>\n",
       "<style scoped>\n",
       "    .dataframe tbody tr th:only-of-type {\n",
       "        vertical-align: middle;\n",
       "    }\n",
       "\n",
       "    .dataframe tbody tr th {\n",
       "        vertical-align: top;\n",
       "    }\n",
       "\n",
       "    .dataframe thead th {\n",
       "        text-align: right;\n",
       "    }\n",
       "</style>\n",
       "<table border=\"1\" class=\"dataframe\">\n",
       "  <thead>\n",
       "    <tr style=\"text-align: right;\">\n",
       "      <th></th>\n",
       "      <th>1.52101</th>\n",
       "      <th>13.64</th>\n",
       "      <th>4.49</th>\n",
       "      <th>1.10</th>\n",
       "      <th>71.78</th>\n",
       "      <th>0.06</th>\n",
       "      <th>8.75</th>\n",
       "      <th>0.00</th>\n",
       "      <th>0.00.1</th>\n",
       "      <th>1.1</th>\n",
       "    </tr>\n",
       "  </thead>\n",
       "  <tbody>\n",
       "    <tr>\n",
       "      <th>0</th>\n",
       "      <td>1.51761</td>\n",
       "      <td>13.89</td>\n",
       "      <td>3.60</td>\n",
       "      <td>1.36</td>\n",
       "      <td>72.73</td>\n",
       "      <td>0.48</td>\n",
       "      <td>7.83</td>\n",
       "      <td>0.00</td>\n",
       "      <td>0.00</td>\n",
       "      <td>1</td>\n",
       "    </tr>\n",
       "    <tr>\n",
       "      <th>1</th>\n",
       "      <td>1.51618</td>\n",
       "      <td>13.53</td>\n",
       "      <td>3.55</td>\n",
       "      <td>1.54</td>\n",
       "      <td>72.99</td>\n",
       "      <td>0.39</td>\n",
       "      <td>7.78</td>\n",
       "      <td>0.00</td>\n",
       "      <td>0.00</td>\n",
       "      <td>1</td>\n",
       "    </tr>\n",
       "    <tr>\n",
       "      <th>2</th>\n",
       "      <td>1.51766</td>\n",
       "      <td>13.21</td>\n",
       "      <td>3.69</td>\n",
       "      <td>1.29</td>\n",
       "      <td>72.61</td>\n",
       "      <td>0.57</td>\n",
       "      <td>8.22</td>\n",
       "      <td>0.00</td>\n",
       "      <td>0.00</td>\n",
       "      <td>1</td>\n",
       "    </tr>\n",
       "    <tr>\n",
       "      <th>3</th>\n",
       "      <td>1.51742</td>\n",
       "      <td>13.27</td>\n",
       "      <td>3.62</td>\n",
       "      <td>1.24</td>\n",
       "      <td>73.08</td>\n",
       "      <td>0.55</td>\n",
       "      <td>8.07</td>\n",
       "      <td>0.00</td>\n",
       "      <td>0.00</td>\n",
       "      <td>1</td>\n",
       "    </tr>\n",
       "    <tr>\n",
       "      <th>4</th>\n",
       "      <td>1.51596</td>\n",
       "      <td>12.79</td>\n",
       "      <td>3.61</td>\n",
       "      <td>1.62</td>\n",
       "      <td>72.97</td>\n",
       "      <td>0.64</td>\n",
       "      <td>8.07</td>\n",
       "      <td>0.00</td>\n",
       "      <td>0.26</td>\n",
       "      <td>1</td>\n",
       "    </tr>\n",
       "    <tr>\n",
       "      <th>...</th>\n",
       "      <td>...</td>\n",
       "      <td>...</td>\n",
       "      <td>...</td>\n",
       "      <td>...</td>\n",
       "      <td>...</td>\n",
       "      <td>...</td>\n",
       "      <td>...</td>\n",
       "      <td>...</td>\n",
       "      <td>...</td>\n",
       "      <td>...</td>\n",
       "    </tr>\n",
       "    <tr>\n",
       "      <th>208</th>\n",
       "      <td>1.51623</td>\n",
       "      <td>14.14</td>\n",
       "      <td>0.00</td>\n",
       "      <td>2.88</td>\n",
       "      <td>72.61</td>\n",
       "      <td>0.08</td>\n",
       "      <td>9.18</td>\n",
       "      <td>1.06</td>\n",
       "      <td>0.00</td>\n",
       "      <td>7</td>\n",
       "    </tr>\n",
       "    <tr>\n",
       "      <th>209</th>\n",
       "      <td>1.51685</td>\n",
       "      <td>14.92</td>\n",
       "      <td>0.00</td>\n",
       "      <td>1.99</td>\n",
       "      <td>73.06</td>\n",
       "      <td>0.00</td>\n",
       "      <td>8.40</td>\n",
       "      <td>1.59</td>\n",
       "      <td>0.00</td>\n",
       "      <td>7</td>\n",
       "    </tr>\n",
       "    <tr>\n",
       "      <th>210</th>\n",
       "      <td>1.52065</td>\n",
       "      <td>14.36</td>\n",
       "      <td>0.00</td>\n",
       "      <td>2.02</td>\n",
       "      <td>73.42</td>\n",
       "      <td>0.00</td>\n",
       "      <td>8.44</td>\n",
       "      <td>1.64</td>\n",
       "      <td>0.00</td>\n",
       "      <td>7</td>\n",
       "    </tr>\n",
       "    <tr>\n",
       "      <th>211</th>\n",
       "      <td>1.51651</td>\n",
       "      <td>14.38</td>\n",
       "      <td>0.00</td>\n",
       "      <td>1.94</td>\n",
       "      <td>73.61</td>\n",
       "      <td>0.00</td>\n",
       "      <td>8.48</td>\n",
       "      <td>1.57</td>\n",
       "      <td>0.00</td>\n",
       "      <td>7</td>\n",
       "    </tr>\n",
       "    <tr>\n",
       "      <th>212</th>\n",
       "      <td>1.51711</td>\n",
       "      <td>14.23</td>\n",
       "      <td>0.00</td>\n",
       "      <td>2.08</td>\n",
       "      <td>73.36</td>\n",
       "      <td>0.00</td>\n",
       "      <td>8.62</td>\n",
       "      <td>1.67</td>\n",
       "      <td>0.00</td>\n",
       "      <td>7</td>\n",
       "    </tr>\n",
       "  </tbody>\n",
       "</table>\n",
       "<p>213 rows × 10 columns</p>\n",
       "</div>"
      ],
      "text/plain": [
       "     1.52101  13.64  4.49  1.10  71.78  0.06  8.75  0.00  0.00.1  1.1\n",
       "0    1.51761  13.89  3.60  1.36  72.73  0.48  7.83  0.00    0.00    1\n",
       "1    1.51618  13.53  3.55  1.54  72.99  0.39  7.78  0.00    0.00    1\n",
       "2    1.51766  13.21  3.69  1.29  72.61  0.57  8.22  0.00    0.00    1\n",
       "3    1.51742  13.27  3.62  1.24  73.08  0.55  8.07  0.00    0.00    1\n",
       "4    1.51596  12.79  3.61  1.62  72.97  0.64  8.07  0.00    0.26    1\n",
       "..       ...    ...   ...   ...    ...   ...   ...   ...     ...  ...\n",
       "208  1.51623  14.14  0.00  2.88  72.61  0.08  9.18  1.06    0.00    7\n",
       "209  1.51685  14.92  0.00  1.99  73.06  0.00  8.40  1.59    0.00    7\n",
       "210  1.52065  14.36  0.00  2.02  73.42  0.00  8.44  1.64    0.00    7\n",
       "211  1.51651  14.38  0.00  1.94  73.61  0.00  8.48  1.57    0.00    7\n",
       "212  1.51711  14.23  0.00  2.08  73.36  0.00  8.62  1.67    0.00    7\n",
       "\n",
       "[213 rows x 10 columns]"
      ]
     },
     "execution_count": 43,
     "metadata": {},
     "output_type": "execute_result"
    }
   ],
   "source": [
    "# Drop first column of dataframe\n",
    "df = df.iloc[: , 1:]\n",
    "df"
   ]
  },
  {
   "cell_type": "code",
   "execution_count": null,
   "id": "7be03e7c",
   "metadata": {},
   "outputs": [],
   "source": []
  },
  {
   "cell_type": "code",
   "execution_count": 44,
   "id": "21ce5d98",
   "metadata": {},
   "outputs": [
    {
     "data": {
      "text/plain": [
       "(['r_index', 'na', 'mg', 'al', 'si', 'k', 'ca', 'ba', 'fe', 'glass_type'],\n",
       " ['building_windows_float_processed',\n",
       "  'building_windows_non_float_processed',\n",
       "  'vehicle_windows_float_processed',\n",
       "  'vehicle_windows_non_float_processed',\n",
       "  'containers',\n",
       "  'tableware',\n",
       "  'headlamps'])"
      ]
     },
     "execution_count": 44,
     "metadata": {},
     "output_type": "execute_result"
    }
   ],
   "source": [
    "cols=[\"r_index\",\"na\",\"mg\",\"al\",\"si\",\"k\",\"ca\",\"ba\",\"fe\",\"glass_type\"]\n",
    "\n",
    "labels=[\"building_windows_float_processed\",\n",
    "        \"building_windows_non_float_processed\",\n",
    "      \"vehicle_windows_float_processed\",\n",
    "      \"vehicle_windows_non_float_processed\",\n",
    "      \"containers\",\n",
    "      \"tableware\",\n",
    "      \"headlamps\"\n",
    "]\n",
    "cols, labels"
   ]
  },
  {
   "cell_type": "code",
   "execution_count": 45,
   "id": "0dfe0921",
   "metadata": {},
   "outputs": [
    {
     "data": {
      "text/html": [
       "<div>\n",
       "<style scoped>\n",
       "    .dataframe tbody tr th:only-of-type {\n",
       "        vertical-align: middle;\n",
       "    }\n",
       "\n",
       "    .dataframe tbody tr th {\n",
       "        vertical-align: top;\n",
       "    }\n",
       "\n",
       "    .dataframe thead th {\n",
       "        text-align: right;\n",
       "    }\n",
       "</style>\n",
       "<table border=\"1\" class=\"dataframe\">\n",
       "  <thead>\n",
       "    <tr style=\"text-align: right;\">\n",
       "      <th></th>\n",
       "      <th>r_index</th>\n",
       "      <th>na</th>\n",
       "      <th>mg</th>\n",
       "      <th>al</th>\n",
       "      <th>si</th>\n",
       "      <th>k</th>\n",
       "      <th>ca</th>\n",
       "      <th>ba</th>\n",
       "      <th>fe</th>\n",
       "      <th>glass_type</th>\n",
       "    </tr>\n",
       "  </thead>\n",
       "  <tbody>\n",
       "    <tr>\n",
       "      <th>0</th>\n",
       "      <td>1.51761</td>\n",
       "      <td>13.89</td>\n",
       "      <td>3.60</td>\n",
       "      <td>1.36</td>\n",
       "      <td>72.73</td>\n",
       "      <td>0.48</td>\n",
       "      <td>7.83</td>\n",
       "      <td>0.00</td>\n",
       "      <td>0.00</td>\n",
       "      <td>1</td>\n",
       "    </tr>\n",
       "    <tr>\n",
       "      <th>1</th>\n",
       "      <td>1.51618</td>\n",
       "      <td>13.53</td>\n",
       "      <td>3.55</td>\n",
       "      <td>1.54</td>\n",
       "      <td>72.99</td>\n",
       "      <td>0.39</td>\n",
       "      <td>7.78</td>\n",
       "      <td>0.00</td>\n",
       "      <td>0.00</td>\n",
       "      <td>1</td>\n",
       "    </tr>\n",
       "    <tr>\n",
       "      <th>2</th>\n",
       "      <td>1.51766</td>\n",
       "      <td>13.21</td>\n",
       "      <td>3.69</td>\n",
       "      <td>1.29</td>\n",
       "      <td>72.61</td>\n",
       "      <td>0.57</td>\n",
       "      <td>8.22</td>\n",
       "      <td>0.00</td>\n",
       "      <td>0.00</td>\n",
       "      <td>1</td>\n",
       "    </tr>\n",
       "    <tr>\n",
       "      <th>3</th>\n",
       "      <td>1.51742</td>\n",
       "      <td>13.27</td>\n",
       "      <td>3.62</td>\n",
       "      <td>1.24</td>\n",
       "      <td>73.08</td>\n",
       "      <td>0.55</td>\n",
       "      <td>8.07</td>\n",
       "      <td>0.00</td>\n",
       "      <td>0.00</td>\n",
       "      <td>1</td>\n",
       "    </tr>\n",
       "    <tr>\n",
       "      <th>4</th>\n",
       "      <td>1.51596</td>\n",
       "      <td>12.79</td>\n",
       "      <td>3.61</td>\n",
       "      <td>1.62</td>\n",
       "      <td>72.97</td>\n",
       "      <td>0.64</td>\n",
       "      <td>8.07</td>\n",
       "      <td>0.00</td>\n",
       "      <td>0.26</td>\n",
       "      <td>1</td>\n",
       "    </tr>\n",
       "    <tr>\n",
       "      <th>...</th>\n",
       "      <td>...</td>\n",
       "      <td>...</td>\n",
       "      <td>...</td>\n",
       "      <td>...</td>\n",
       "      <td>...</td>\n",
       "      <td>...</td>\n",
       "      <td>...</td>\n",
       "      <td>...</td>\n",
       "      <td>...</td>\n",
       "      <td>...</td>\n",
       "    </tr>\n",
       "    <tr>\n",
       "      <th>208</th>\n",
       "      <td>1.51623</td>\n",
       "      <td>14.14</td>\n",
       "      <td>0.00</td>\n",
       "      <td>2.88</td>\n",
       "      <td>72.61</td>\n",
       "      <td>0.08</td>\n",
       "      <td>9.18</td>\n",
       "      <td>1.06</td>\n",
       "      <td>0.00</td>\n",
       "      <td>7</td>\n",
       "    </tr>\n",
       "    <tr>\n",
       "      <th>209</th>\n",
       "      <td>1.51685</td>\n",
       "      <td>14.92</td>\n",
       "      <td>0.00</td>\n",
       "      <td>1.99</td>\n",
       "      <td>73.06</td>\n",
       "      <td>0.00</td>\n",
       "      <td>8.40</td>\n",
       "      <td>1.59</td>\n",
       "      <td>0.00</td>\n",
       "      <td>7</td>\n",
       "    </tr>\n",
       "    <tr>\n",
       "      <th>210</th>\n",
       "      <td>1.52065</td>\n",
       "      <td>14.36</td>\n",
       "      <td>0.00</td>\n",
       "      <td>2.02</td>\n",
       "      <td>73.42</td>\n",
       "      <td>0.00</td>\n",
       "      <td>8.44</td>\n",
       "      <td>1.64</td>\n",
       "      <td>0.00</td>\n",
       "      <td>7</td>\n",
       "    </tr>\n",
       "    <tr>\n",
       "      <th>211</th>\n",
       "      <td>1.51651</td>\n",
       "      <td>14.38</td>\n",
       "      <td>0.00</td>\n",
       "      <td>1.94</td>\n",
       "      <td>73.61</td>\n",
       "      <td>0.00</td>\n",
       "      <td>8.48</td>\n",
       "      <td>1.57</td>\n",
       "      <td>0.00</td>\n",
       "      <td>7</td>\n",
       "    </tr>\n",
       "    <tr>\n",
       "      <th>212</th>\n",
       "      <td>1.51711</td>\n",
       "      <td>14.23</td>\n",
       "      <td>0.00</td>\n",
       "      <td>2.08</td>\n",
       "      <td>73.36</td>\n",
       "      <td>0.00</td>\n",
       "      <td>8.62</td>\n",
       "      <td>1.67</td>\n",
       "      <td>0.00</td>\n",
       "      <td>7</td>\n",
       "    </tr>\n",
       "  </tbody>\n",
       "</table>\n",
       "<p>213 rows × 10 columns</p>\n",
       "</div>"
      ],
      "text/plain": [
       "     r_index     na    mg    al     si     k    ca    ba    fe  glass_type\n",
       "0    1.51761  13.89  3.60  1.36  72.73  0.48  7.83  0.00  0.00           1\n",
       "1    1.51618  13.53  3.55  1.54  72.99  0.39  7.78  0.00  0.00           1\n",
       "2    1.51766  13.21  3.69  1.29  72.61  0.57  8.22  0.00  0.00           1\n",
       "3    1.51742  13.27  3.62  1.24  73.08  0.55  8.07  0.00  0.00           1\n",
       "4    1.51596  12.79  3.61  1.62  72.97  0.64  8.07  0.00  0.26           1\n",
       "..       ...    ...   ...   ...    ...   ...   ...   ...   ...         ...\n",
       "208  1.51623  14.14  0.00  2.88  72.61  0.08  9.18  1.06  0.00           7\n",
       "209  1.51685  14.92  0.00  1.99  73.06  0.00  8.40  1.59  0.00           7\n",
       "210  1.52065  14.36  0.00  2.02  73.42  0.00  8.44  1.64  0.00           7\n",
       "211  1.51651  14.38  0.00  1.94  73.61  0.00  8.48  1.57  0.00           7\n",
       "212  1.51711  14.23  0.00  2.08  73.36  0.00  8.62  1.67  0.00           7\n",
       "\n",
       "[213 rows x 10 columns]"
      ]
     },
     "execution_count": 45,
     "metadata": {},
     "output_type": "execute_result"
    }
   ],
   "source": [
    "df.columns=cols\n",
    "df"
   ]
  },
  {
   "cell_type": "code",
   "execution_count": 46,
   "id": "79302da4",
   "metadata": {
    "scrolled": true
   },
   "outputs": [
    {
     "data": {
      "text/plain": [
       "False"
      ]
     },
     "execution_count": 46,
     "metadata": {},
     "output_type": "execute_result"
    }
   ],
   "source": [
    "4 in df.glass_type.values"
   ]
  },
  {
   "cell_type": "code",
   "execution_count": 47,
   "id": "89683329",
   "metadata": {},
   "outputs": [
    {
     "data": {
      "text/plain": [
       "2    76\n",
       "1    69\n",
       "7    29\n",
       "3    17\n",
       "5    13\n",
       "6     9\n",
       "Name: glass_type, dtype: int64"
      ]
     },
     "execution_count": 47,
     "metadata": {},
     "output_type": "execute_result"
    }
   ],
   "source": [
    "df[\"glass_type\"].value_counts()"
   ]
  },
  {
   "cell_type": "code",
   "execution_count": 48,
   "id": "b9abf2a3",
   "metadata": {},
   "outputs": [
    {
     "data": {
      "text/plain": [
       "['building_windows_float_processed',\n",
       " 'building_windows_non_float_processed',\n",
       " 'vehicle_windows_float_processed',\n",
       " 'containers',\n",
       " 'tableware',\n",
       " 'headlamps']"
      ]
     },
     "execution_count": 48,
     "metadata": {},
     "output_type": "execute_result"
    }
   ],
   "source": [
    "del labels[3]\n",
    "labels"
   ]
  },
  {
   "cell_type": "code",
   "execution_count": 49,
   "id": "4f683945",
   "metadata": {},
   "outputs": [
    {
     "data": {
      "text/plain": [
       "1    76\n",
       "0    69\n",
       "5    29\n",
       "2    17\n",
       "3    13\n",
       "4     9\n",
       "Name: glass_type, dtype: int64"
      ]
     },
     "execution_count": 49,
     "metadata": {},
     "output_type": "execute_result"
    }
   ],
   "source": [
    "df.loc[df.glass_type <4, \"glass_type\"]-=1\n",
    "df.loc[df.glass_type >4, \"glass_type\"]-=2\n",
    "df[\"glass_type\"].value_counts()"
   ]
  },
  {
   "cell_type": "code",
   "execution_count": 50,
   "id": "d984615d",
   "metadata": {},
   "outputs": [
    {
     "data": {
      "text/html": [
       "<div>\n",
       "<style scoped>\n",
       "    .dataframe tbody tr th:only-of-type {\n",
       "        vertical-align: middle;\n",
       "    }\n",
       "\n",
       "    .dataframe tbody tr th {\n",
       "        vertical-align: top;\n",
       "    }\n",
       "\n",
       "    .dataframe thead th {\n",
       "        text-align: right;\n",
       "    }\n",
       "</style>\n",
       "<table border=\"1\" class=\"dataframe\">\n",
       "  <thead>\n",
       "    <tr style=\"text-align: right;\">\n",
       "      <th></th>\n",
       "      <th>r_index</th>\n",
       "      <th>na</th>\n",
       "      <th>mg</th>\n",
       "      <th>al</th>\n",
       "      <th>si</th>\n",
       "      <th>k</th>\n",
       "      <th>ca</th>\n",
       "      <th>ba</th>\n",
       "      <th>fe</th>\n",
       "      <th>glass_type</th>\n",
       "    </tr>\n",
       "  </thead>\n",
       "  <tbody>\n",
       "    <tr>\n",
       "      <th>count</th>\n",
       "      <td>213.000000</td>\n",
       "      <td>213.000000</td>\n",
       "      <td>213.000000</td>\n",
       "      <td>213.000000</td>\n",
       "      <td>213.000000</td>\n",
       "      <td>213.000000</td>\n",
       "      <td>213.000000</td>\n",
       "      <td>213.000000</td>\n",
       "      <td>213.000000</td>\n",
       "      <td>213.000000</td>\n",
       "    </tr>\n",
       "    <tr>\n",
       "      <th>mean</th>\n",
       "      <td>1.518353</td>\n",
       "      <td>13.406761</td>\n",
       "      <td>2.676056</td>\n",
       "      <td>1.446526</td>\n",
       "      <td>72.655023</td>\n",
       "      <td>0.499108</td>\n",
       "      <td>8.957934</td>\n",
       "      <td>0.175869</td>\n",
       "      <td>0.057277</td>\n",
       "      <td>1.549296</td>\n",
       "    </tr>\n",
       "    <tr>\n",
       "      <th>std</th>\n",
       "      <td>0.003039</td>\n",
       "      <td>0.818371</td>\n",
       "      <td>1.440453</td>\n",
       "      <td>0.499882</td>\n",
       "      <td>0.774052</td>\n",
       "      <td>0.653035</td>\n",
       "      <td>1.426435</td>\n",
       "      <td>0.498245</td>\n",
       "      <td>0.097589</td>\n",
       "      <td>1.708376</td>\n",
       "    </tr>\n",
       "    <tr>\n",
       "      <th>min</th>\n",
       "      <td>1.511150</td>\n",
       "      <td>10.730000</td>\n",
       "      <td>0.000000</td>\n",
       "      <td>0.290000</td>\n",
       "      <td>69.810000</td>\n",
       "      <td>0.000000</td>\n",
       "      <td>5.430000</td>\n",
       "      <td>0.000000</td>\n",
       "      <td>0.000000</td>\n",
       "      <td>0.000000</td>\n",
       "    </tr>\n",
       "    <tr>\n",
       "      <th>25%</th>\n",
       "      <td>1.516520</td>\n",
       "      <td>12.900000</td>\n",
       "      <td>2.090000</td>\n",
       "      <td>1.190000</td>\n",
       "      <td>72.280000</td>\n",
       "      <td>0.130000</td>\n",
       "      <td>8.240000</td>\n",
       "      <td>0.000000</td>\n",
       "      <td>0.000000</td>\n",
       "      <td>0.000000</td>\n",
       "    </tr>\n",
       "    <tr>\n",
       "      <th>50%</th>\n",
       "      <td>1.517680</td>\n",
       "      <td>13.300000</td>\n",
       "      <td>3.480000</td>\n",
       "      <td>1.360000</td>\n",
       "      <td>72.790000</td>\n",
       "      <td>0.560000</td>\n",
       "      <td>8.600000</td>\n",
       "      <td>0.000000</td>\n",
       "      <td>0.000000</td>\n",
       "      <td>1.000000</td>\n",
       "    </tr>\n",
       "    <tr>\n",
       "      <th>75%</th>\n",
       "      <td>1.519150</td>\n",
       "      <td>13.830000</td>\n",
       "      <td>3.600000</td>\n",
       "      <td>1.630000</td>\n",
       "      <td>73.090000</td>\n",
       "      <td>0.610000</td>\n",
       "      <td>9.180000</td>\n",
       "      <td>0.000000</td>\n",
       "      <td>0.100000</td>\n",
       "      <td>2.000000</td>\n",
       "    </tr>\n",
       "    <tr>\n",
       "      <th>max</th>\n",
       "      <td>1.533930</td>\n",
       "      <td>17.380000</td>\n",
       "      <td>3.980000</td>\n",
       "      <td>3.500000</td>\n",
       "      <td>75.410000</td>\n",
       "      <td>6.210000</td>\n",
       "      <td>16.190000</td>\n",
       "      <td>3.150000</td>\n",
       "      <td>0.510000</td>\n",
       "      <td>5.000000</td>\n",
       "    </tr>\n",
       "  </tbody>\n",
       "</table>\n",
       "</div>"
      ],
      "text/plain": [
       "          r_index          na          mg          al          si           k  \\\n",
       "count  213.000000  213.000000  213.000000  213.000000  213.000000  213.000000   \n",
       "mean     1.518353   13.406761    2.676056    1.446526   72.655023    0.499108   \n",
       "std      0.003039    0.818371    1.440453    0.499882    0.774052    0.653035   \n",
       "min      1.511150   10.730000    0.000000    0.290000   69.810000    0.000000   \n",
       "25%      1.516520   12.900000    2.090000    1.190000   72.280000    0.130000   \n",
       "50%      1.517680   13.300000    3.480000    1.360000   72.790000    0.560000   \n",
       "75%      1.519150   13.830000    3.600000    1.630000   73.090000    0.610000   \n",
       "max      1.533930   17.380000    3.980000    3.500000   75.410000    6.210000   \n",
       "\n",
       "               ca          ba          fe  glass_type  \n",
       "count  213.000000  213.000000  213.000000  213.000000  \n",
       "mean     8.957934    0.175869    0.057277    1.549296  \n",
       "std      1.426435    0.498245    0.097589    1.708376  \n",
       "min      5.430000    0.000000    0.000000    0.000000  \n",
       "25%      8.240000    0.000000    0.000000    0.000000  \n",
       "50%      8.600000    0.000000    0.000000    1.000000  \n",
       "75%      9.180000    0.000000    0.100000    2.000000  \n",
       "max     16.190000    3.150000    0.510000    5.000000  "
      ]
     },
     "execution_count": 50,
     "metadata": {},
     "output_type": "execute_result"
    }
   ],
   "source": [
    "df.describe()"
   ]
  },
  {
   "cell_type": "code",
   "execution_count": 51,
   "id": "11fc434e",
   "metadata": {},
   "outputs": [],
   "source": [
    "import matplotlib.pyplot as plt\n",
    "import seaborn as sns"
   ]
  },
  {
   "cell_type": "code",
   "execution_count": 64,
   "id": "dcffb169",
   "metadata": {},
   "outputs": [
    {
     "data": {
      "image/png": "[encoded data removed]",
      "text/plain": [
       "<Figure size 1440x576 with 10 Axes>"
      ]
     },
     "metadata": {
      "needs_background": "light"
     },
     "output_type": "display_data"
    }
   ],
   "source": [
    "fig, axes = plt.subplots(nrows=2, ncols=5, figsize=(20,8))\n",
    "for i, column in enumerate(df.columns, 1):\n",
    "    plt.subplot(2,5,i)\n",
    "    sns.histplot(df[column],)\n",
    "    \n",
    "fig.tight_layout()"
   ]
  },
  {
   "cell_type": "code",
   "execution_count": 63,
   "id": "c357a610",
   "metadata": {},
   "outputs": [],
   "source": [
    "# fig, axes = plt.subplots(nrows=2, ncols=5, figsize=(20,8))\n",
    "# for i, column in enumerate(df.columns, 1):\n",
    "#     plt.subplot(2,5,i)\n",
    "#     sns.scatterplot(df[column],)\n",
    "    \n",
    "# fig.tight_layout()"
   ]
  },
  {
   "cell_type": "code",
   "execution_count": 53,
   "id": "5f97a11d",
   "metadata": {},
   "outputs": [
    {
     "data": {
      "text/plain": [
       "r_index       False\n",
       "na            False\n",
       "mg            False\n",
       "al            False\n",
       "si            False\n",
       "k             False\n",
       "ca            False\n",
       "ba            False\n",
       "fe            False\n",
       "glass_type    False\n",
       "dtype: bool"
      ]
     },
     "execution_count": 53,
     "metadata": {},
     "output_type": "execute_result"
    }
   ],
   "source": [
    "df.isnull().any()"
   ]
  },
  {
   "cell_type": "code",
   "execution_count": 65,
   "id": "9cbdfa4e",
   "metadata": {},
   "outputs": [
    {
     "data": {
      "text/html": [
       "<div>\n",
       "<style scoped>\n",
       "    .dataframe tbody tr th:only-of-type {\n",
       "        vertical-align: middle;\n",
       "    }\n",
       "\n",
       "    .dataframe tbody tr th {\n",
       "        vertical-align: top;\n",
       "    }\n",
       "\n",
       "    .dataframe thead th {\n",
       "        text-align: right;\n",
       "    }\n",
       "</style>\n",
       "<table border=\"1\" class=\"dataframe\">\n",
       "  <thead>\n",
       "    <tr style=\"text-align: right;\">\n",
       "      <th></th>\n",
       "      <th>r_index</th>\n",
       "      <th>na</th>\n",
       "      <th>mg</th>\n",
       "      <th>al</th>\n",
       "      <th>si</th>\n",
       "      <th>k</th>\n",
       "      <th>ca</th>\n",
       "      <th>ba</th>\n",
       "      <th>fe</th>\n",
       "      <th>glass_type</th>\n",
       "      <th>0</th>\n",
       "      <th>1</th>\n",
       "      <th>2</th>\n",
       "      <th>3</th>\n",
       "      <th>4</th>\n",
       "      <th>5</th>\n",
       "    </tr>\n",
       "  </thead>\n",
       "  <tbody>\n",
       "    <tr>\n",
       "      <th>208</th>\n",
       "      <td>1.51806</td>\n",
       "      <td>13.00</td>\n",
       "      <td>3.80</td>\n",
       "      <td>1.08</td>\n",
       "      <td>73.07</td>\n",
       "      <td>0.56</td>\n",
       "      <td>8.38</td>\n",
       "      <td>0.0</td>\n",
       "      <td>0.12</td>\n",
       "      <td>1</td>\n",
       "      <td>0</td>\n",
       "      <td>1</td>\n",
       "      <td>0</td>\n",
       "      <td>0</td>\n",
       "      <td>0</td>\n",
       "      <td>0</td>\n",
       "    </tr>\n",
       "    <tr>\n",
       "      <th>209</th>\n",
       "      <td>1.51674</td>\n",
       "      <td>12.87</td>\n",
       "      <td>3.56</td>\n",
       "      <td>1.64</td>\n",
       "      <td>73.14</td>\n",
       "      <td>0.65</td>\n",
       "      <td>7.99</td>\n",
       "      <td>0.0</td>\n",
       "      <td>0.00</td>\n",
       "      <td>1</td>\n",
       "      <td>0</td>\n",
       "      <td>1</td>\n",
       "      <td>0</td>\n",
       "      <td>0</td>\n",
       "      <td>0</td>\n",
       "      <td>0</td>\n",
       "    </tr>\n",
       "    <tr>\n",
       "      <th>210</th>\n",
       "      <td>1.51768</td>\n",
       "      <td>12.65</td>\n",
       "      <td>3.56</td>\n",
       "      <td>1.30</td>\n",
       "      <td>73.08</td>\n",
       "      <td>0.61</td>\n",
       "      <td>8.69</td>\n",
       "      <td>0.0</td>\n",
       "      <td>0.14</td>\n",
       "      <td>0</td>\n",
       "      <td>1</td>\n",
       "      <td>0</td>\n",
       "      <td>0</td>\n",
       "      <td>0</td>\n",
       "      <td>0</td>\n",
       "      <td>0</td>\n",
       "    </tr>\n",
       "    <tr>\n",
       "      <th>211</th>\n",
       "      <td>1.51761</td>\n",
       "      <td>12.81</td>\n",
       "      <td>3.54</td>\n",
       "      <td>1.23</td>\n",
       "      <td>73.24</td>\n",
       "      <td>0.58</td>\n",
       "      <td>8.39</td>\n",
       "      <td>0.0</td>\n",
       "      <td>0.00</td>\n",
       "      <td>0</td>\n",
       "      <td>1</td>\n",
       "      <td>0</td>\n",
       "      <td>0</td>\n",
       "      <td>0</td>\n",
       "      <td>0</td>\n",
       "      <td>0</td>\n",
       "    </tr>\n",
       "    <tr>\n",
       "      <th>212</th>\n",
       "      <td>1.51888</td>\n",
       "      <td>14.99</td>\n",
       "      <td>0.78</td>\n",
       "      <td>1.74</td>\n",
       "      <td>72.50</td>\n",
       "      <td>0.00</td>\n",
       "      <td>9.95</td>\n",
       "      <td>0.0</td>\n",
       "      <td>0.00</td>\n",
       "      <td>4</td>\n",
       "      <td>0</td>\n",
       "      <td>0</td>\n",
       "      <td>0</td>\n",
       "      <td>0</td>\n",
       "      <td>1</td>\n",
       "      <td>0</td>\n",
       "    </tr>\n",
       "  </tbody>\n",
       "</table>\n",
       "</div>"
      ],
      "text/plain": [
       "     r_index     na    mg    al     si     k    ca   ba    fe  glass_type  0  \\\n",
       "208  1.51806  13.00  3.80  1.08  73.07  0.56  8.38  0.0  0.12           1  0   \n",
       "209  1.51674  12.87  3.56  1.64  73.14  0.65  7.99  0.0  0.00           1  0   \n",
       "210  1.51768  12.65  3.56  1.30  73.08  0.61  8.69  0.0  0.14           0  1   \n",
       "211  1.51761  12.81  3.54  1.23  73.24  0.58  8.39  0.0  0.00           0  1   \n",
       "212  1.51888  14.99  0.78  1.74  72.50  0.00  9.95  0.0  0.00           4  0   \n",
       "\n",
       "     1  2  3  4  5  \n",
       "208  1  0  0  0  0  \n",
       "209  1  0  0  0  0  \n",
       "210  0  0  0  0  0  \n",
       "211  0  0  0  0  0  \n",
       "212  0  0  0  1  0  "
      ]
     },
     "execution_count": 65,
     "metadata": {},
     "output_type": "execute_result"
    }
   ],
   "source": [
    "df_copy=df\n",
    "one_hot_df=pd.get_dummies(df_copy['glass_type'])\n",
    "df_copy.drop('glass_type', axis=1)\n",
    "one_hot_df=df_copy.join(one_hot_df)\n",
    "one_hot_df.tail()"
   ]
  },
  {
   "cell_type": "code",
   "execution_count": 66,
   "id": "59ab6ab9",
   "metadata": {},
   "outputs": [
    {
     "data": {
      "image/png": "[encoded data removed]",
      "text/plain": [
       "<Figure size 2520x1080 with 2 Axes>"
      ]
     },
     "metadata": {
      "needs_background": "light"
     },
     "output_type": "display_data"
    }
   ],
   "source": [
    "corrMatrix = one_hot_df.corr()\n",
    "plt.figure(figsize = (35,15))\n",
    "sns.heatmap(corrMatrix, annot=True)\n",
    "plt.show()"
   ]
  },
  {
   "cell_type": "code",
   "execution_count": 38,
   "id": "1de39d7c",
   "metadata": {},
   "outputs": [],
   "source": [
    "#k-nearest, svm, kernel svm, naive bayes, decision tree, random forest"
   ]
  },
  {
   "cell_type": "code",
   "execution_count": 39,
   "id": "fd5b517d",
   "metadata": {},
   "outputs": [],
   "source": [
    "import numpy as np"
   ]
  },
  {
   "cell_type": "code",
   "execution_count": 55,
   "id": "64c1c093",
   "metadata": {},
   "outputs": [
    {
     "data": {
      "text/html": [
       "<div>\n",
       "<style scoped>\n",
       "    .dataframe tbody tr th:only-of-type {\n",
       "        vertical-align: middle;\n",
       "    }\n",
       "\n",
       "    .dataframe tbody tr th {\n",
       "        vertical-align: top;\n",
       "    }\n",
       "\n",
       "    .dataframe thead th {\n",
       "        text-align: right;\n",
       "    }\n",
       "</style>\n",
       "<table border=\"1\" class=\"dataframe\">\n",
       "  <thead>\n",
       "    <tr style=\"text-align: right;\">\n",
       "      <th></th>\n",
       "      <th>r_index</th>\n",
       "      <th>na</th>\n",
       "      <th>mg</th>\n",
       "      <th>al</th>\n",
       "      <th>si</th>\n",
       "      <th>k</th>\n",
       "      <th>ca</th>\n",
       "      <th>ba</th>\n",
       "      <th>fe</th>\n",
       "      <th>glass_type</th>\n",
       "    </tr>\n",
       "  </thead>\n",
       "  <tbody>\n",
       "    <tr>\n",
       "      <th>0</th>\n",
       "      <td>1.51869</td>\n",
       "      <td>13.19</td>\n",
       "      <td>3.37</td>\n",
       "      <td>1.18</td>\n",
       "      <td>72.72</td>\n",
       "      <td>0.57</td>\n",
       "      <td>8.83</td>\n",
       "      <td>0.00</td>\n",
       "      <td>0.16</td>\n",
       "      <td>0</td>\n",
       "    </tr>\n",
       "    <tr>\n",
       "      <th>1</th>\n",
       "      <td>1.51761</td>\n",
       "      <td>13.89</td>\n",
       "      <td>3.60</td>\n",
       "      <td>1.36</td>\n",
       "      <td>72.73</td>\n",
       "      <td>0.48</td>\n",
       "      <td>7.83</td>\n",
       "      <td>0.00</td>\n",
       "      <td>0.00</td>\n",
       "      <td>0</td>\n",
       "    </tr>\n",
       "    <tr>\n",
       "      <th>2</th>\n",
       "      <td>1.51617</td>\n",
       "      <td>14.95</td>\n",
       "      <td>0.00</td>\n",
       "      <td>2.27</td>\n",
       "      <td>73.30</td>\n",
       "      <td>0.00</td>\n",
       "      <td>8.71</td>\n",
       "      <td>0.67</td>\n",
       "      <td>0.00</td>\n",
       "      <td>5</td>\n",
       "    </tr>\n",
       "    <tr>\n",
       "      <th>3</th>\n",
       "      <td>1.51966</td>\n",
       "      <td>14.77</td>\n",
       "      <td>3.75</td>\n",
       "      <td>0.29</td>\n",
       "      <td>72.02</td>\n",
       "      <td>0.03</td>\n",
       "      <td>9.00</td>\n",
       "      <td>0.00</td>\n",
       "      <td>0.00</td>\n",
       "      <td>0</td>\n",
       "    </tr>\n",
       "    <tr>\n",
       "      <th>4</th>\n",
       "      <td>1.51793</td>\n",
       "      <td>12.79</td>\n",
       "      <td>3.50</td>\n",
       "      <td>1.12</td>\n",
       "      <td>73.03</td>\n",
       "      <td>0.64</td>\n",
       "      <td>8.77</td>\n",
       "      <td>0.00</td>\n",
       "      <td>0.00</td>\n",
       "      <td>0</td>\n",
       "    </tr>\n",
       "    <tr>\n",
       "      <th>...</th>\n",
       "      <td>...</td>\n",
       "      <td>...</td>\n",
       "      <td>...</td>\n",
       "      <td>...</td>\n",
       "      <td>...</td>\n",
       "      <td>...</td>\n",
       "      <td>...</td>\n",
       "      <td>...</td>\n",
       "      <td>...</td>\n",
       "      <td>...</td>\n",
       "    </tr>\n",
       "    <tr>\n",
       "      <th>208</th>\n",
       "      <td>1.51806</td>\n",
       "      <td>13.00</td>\n",
       "      <td>3.80</td>\n",
       "      <td>1.08</td>\n",
       "      <td>73.07</td>\n",
       "      <td>0.56</td>\n",
       "      <td>8.38</td>\n",
       "      <td>0.00</td>\n",
       "      <td>0.12</td>\n",
       "      <td>1</td>\n",
       "    </tr>\n",
       "    <tr>\n",
       "      <th>209</th>\n",
       "      <td>1.51674</td>\n",
       "      <td>12.87</td>\n",
       "      <td>3.56</td>\n",
       "      <td>1.64</td>\n",
       "      <td>73.14</td>\n",
       "      <td>0.65</td>\n",
       "      <td>7.99</td>\n",
       "      <td>0.00</td>\n",
       "      <td>0.00</td>\n",
       "      <td>1</td>\n",
       "    </tr>\n",
       "    <tr>\n",
       "      <th>210</th>\n",
       "      <td>1.51768</td>\n",
       "      <td>12.65</td>\n",
       "      <td>3.56</td>\n",
       "      <td>1.30</td>\n",
       "      <td>73.08</td>\n",
       "      <td>0.61</td>\n",
       "      <td>8.69</td>\n",
       "      <td>0.00</td>\n",
       "      <td>0.14</td>\n",
       "      <td>0</td>\n",
       "    </tr>\n",
       "    <tr>\n",
       "      <th>211</th>\n",
       "      <td>1.51761</td>\n",
       "      <td>12.81</td>\n",
       "      <td>3.54</td>\n",
       "      <td>1.23</td>\n",
       "      <td>73.24</td>\n",
       "      <td>0.58</td>\n",
       "      <td>8.39</td>\n",
       "      <td>0.00</td>\n",
       "      <td>0.00</td>\n",
       "      <td>0</td>\n",
       "    </tr>\n",
       "    <tr>\n",
       "      <th>212</th>\n",
       "      <td>1.51888</td>\n",
       "      <td>14.99</td>\n",
       "      <td>0.78</td>\n",
       "      <td>1.74</td>\n",
       "      <td>72.50</td>\n",
       "      <td>0.00</td>\n",
       "      <td>9.95</td>\n",
       "      <td>0.00</td>\n",
       "      <td>0.00</td>\n",
       "      <td>4</td>\n",
       "    </tr>\n",
       "  </tbody>\n",
       "</table>\n",
       "<p>213 rows × 10 columns</p>\n",
       "</div>"
      ],
      "text/plain": [
       "     r_index     na    mg    al     si     k    ca    ba    fe  glass_type\n",
       "0    1.51869  13.19  3.37  1.18  72.72  0.57  8.83  0.00  0.16           0\n",
       "1    1.51761  13.89  3.60  1.36  72.73  0.48  7.83  0.00  0.00           0\n",
       "2    1.51617  14.95  0.00  2.27  73.30  0.00  8.71  0.67  0.00           5\n",
       "3    1.51966  14.77  3.75  0.29  72.02  0.03  9.00  0.00  0.00           0\n",
       "4    1.51793  12.79  3.50  1.12  73.03  0.64  8.77  0.00  0.00           0\n",
       "..       ...    ...   ...   ...    ...   ...   ...   ...   ...         ...\n",
       "208  1.51806  13.00  3.80  1.08  73.07  0.56  8.38  0.00  0.12           1\n",
       "209  1.51674  12.87  3.56  1.64  73.14  0.65  7.99  0.00  0.00           1\n",
       "210  1.51768  12.65  3.56  1.30  73.08  0.61  8.69  0.00  0.14           0\n",
       "211  1.51761  12.81  3.54  1.23  73.24  0.58  8.39  0.00  0.00           0\n",
       "212  1.51888  14.99  0.78  1.74  72.50  0.00  9.95  0.00  0.00           4\n",
       "\n",
       "[213 rows x 10 columns]"
      ]
     },
     "execution_count": 55,
     "metadata": {},
     "output_type": "execute_result"
    }
   ],
   "source": [
    "df=df.sample(frac=1).reset_index(drop=True)\n",
    "df"
   ]
  },
  {
   "cell_type": "code",
   "execution_count": 56,
   "id": "a973c7cf",
   "metadata": {},
   "outputs": [
    {
     "data": {
      "text/plain": [
       "array([0, 5, 3, 4, 1, 2], dtype=int64)"
      ]
     },
     "execution_count": 56,
     "metadata": {},
     "output_type": "execute_result"
    }
   ],
   "source": [
    "df.glass_type.unique()"
   ]
  },
  {
   "cell_type": "code",
   "execution_count": 57,
   "id": "1344189f",
   "metadata": {},
   "outputs": [
    {
     "data": {
      "text/plain": [
       "((213, 9),\n",
       " array([0, 0, 5, 0, 0, 0, 0, 0, 3, 5, 4, 1, 3, 1, 3, 1, 3, 5, 0, 1, 3, 0,\n",
       "        1, 2, 0, 2, 1, 5, 5, 1, 0, 1, 5, 0, 0, 1, 2, 1, 0, 5, 1, 5, 2, 4,\n",
       "        1, 5, 1, 1, 0, 1, 1, 0, 0, 1, 1, 1, 5, 2, 2, 0, 3, 1, 1, 0, 2, 1,\n",
       "        2, 0, 0, 0, 5, 5, 0, 0, 0, 0, 5, 1, 4, 0, 2, 0, 1, 1, 1, 2, 1, 5,\n",
       "        0, 1, 2, 0, 1, 1, 0, 1, 1, 2, 1, 4, 0, 5, 0, 2, 5, 1, 0, 0, 0, 1,\n",
       "        5, 0, 0, 1, 5, 4, 1, 1, 1, 5, 0, 3, 1, 1, 0, 5, 1, 0, 0, 0, 5, 1,\n",
       "        4, 1, 1, 1, 2, 0, 1, 0, 1, 1, 2, 0, 1, 3, 3, 1, 1, 5, 0, 0, 0, 0,\n",
       "        0, 0, 1, 1, 0, 1, 1, 1, 1, 5, 3, 1, 3, 1, 0, 0, 1, 1, 1, 5, 1, 0,\n",
       "        0, 4, 1, 1, 0, 3, 1, 5, 5, 3, 0, 0, 1, 1, 4, 2, 5, 5, 1, 1, 0, 1,\n",
       "        0, 1, 0, 5, 0, 0, 0, 0, 2, 1, 1, 1, 0, 0, 4], dtype=int64))"
      ]
     },
     "execution_count": 57,
     "metadata": {},
     "output_type": "execute_result"
    }
   ],
   "source": [
    "X = df.iloc[:, :-1].values\n",
    "y = df.iloc[:, -1].values\n",
    "X.shape, y"
   ]
  },
  {
   "cell_type": "code",
   "execution_count": 199,
   "id": "140d81a7",
   "metadata": {},
   "outputs": [],
   "source": [
    "from sklearn.preprocessing import MinMaxScaler, StandardScaler\n",
    "#sc = MinMaxScaler()\n",
    "sc=StandardScaler()\n",
    "x_pca = sc.fit_transform(X)"
   ]
  },
  {
   "cell_type": "code",
   "execution_count": 200,
   "id": "8ac58408",
   "metadata": {},
   "outputs": [],
   "source": [
    "from sklearn.decomposition import PCA\n",
    "pca_breast = PCA(n_components=2)\n",
    "principalComponents_breast = pca_breast.fit_transform(x_pca)"
   ]
  },
  {
   "cell_type": "code",
   "execution_count": 201,
   "id": "34b71b83",
   "metadata": {},
   "outputs": [],
   "source": [
    "principal_breast_Df = pd.DataFrame(data = principalComponents_breast\n",
    "             , columns = ['principal component 1', 'principal component 2'])"
   ]
  },
  {
   "cell_type": "code",
   "execution_count": 202,
   "id": "21f85008",
   "metadata": {},
   "outputs": [
    {
     "data": {
      "text/html": [
       "<div>\n",
       "<style scoped>\n",
       "    .dataframe tbody tr th:only-of-type {\n",
       "        vertical-align: middle;\n",
       "    }\n",
       "\n",
       "    .dataframe tbody tr th {\n",
       "        vertical-align: top;\n",
       "    }\n",
       "\n",
       "    .dataframe thead th {\n",
       "        text-align: right;\n",
       "    }\n",
       "</style>\n",
       "<table border=\"1\" class=\"dataframe\">\n",
       "  <thead>\n",
       "    <tr style=\"text-align: right;\">\n",
       "      <th></th>\n",
       "      <th>principal component 1</th>\n",
       "      <th>principal component 2</th>\n",
       "    </tr>\n",
       "  </thead>\n",
       "  <tbody>\n",
       "    <tr>\n",
       "      <th>208</th>\n",
       "      <td>0.336808</td>\n",
       "      <td>-1.296886</td>\n",
       "    </tr>\n",
       "    <tr>\n",
       "      <th>209</th>\n",
       "      <td>-0.774785</td>\n",
       "      <td>-1.079059</td>\n",
       "    </tr>\n",
       "    <tr>\n",
       "      <th>210</th>\n",
       "      <td>0.300787</td>\n",
       "      <td>-1.171966</td>\n",
       "    </tr>\n",
       "    <tr>\n",
       "      <th>211</th>\n",
       "      <td>-0.116785</td>\n",
       "      <td>-1.162085</td>\n",
       "    </tr>\n",
       "    <tr>\n",
       "      <th>212</th>\n",
       "      <td>-0.261823</td>\n",
       "      <td>1.790238</td>\n",
       "    </tr>\n",
       "  </tbody>\n",
       "</table>\n",
       "</div>"
      ],
      "text/plain": [
       "     principal component 1  principal component 2\n",
       "208               0.336808              -1.296886\n",
       "209              -0.774785              -1.079059\n",
       "210               0.300787              -1.171966\n",
       "211              -0.116785              -1.162085\n",
       "212              -0.261823               1.790238"
      ]
     },
     "execution_count": 202,
     "metadata": {},
     "output_type": "execute_result"
    }
   ],
   "source": [
    "principal_breast_Df.tail()"
   ]
  },
  {
   "cell_type": "code",
   "execution_count": 203,
   "id": "9140014b",
   "metadata": {},
   "outputs": [
    {
     "name": "stdout",
     "output_type": "stream",
     "text": [
      "Explained variation per principal component: [0.27892524 0.22843295]\n"
     ]
    }
   ],
   "source": [
    "print('Explained variation per principal component: {}'.format(pca_breast.explained_variance_ratio_))"
   ]
  },
  {
   "cell_type": "code",
   "execution_count": 206,
   "id": "b6deba94",
   "metadata": {},
   "outputs": [],
   "source": [
    "# plt.figure()\n",
    "# plt.figure(figsize=(10,10))\n",
    "# plt.xticks(fontsize=12)\n",
    "# plt.yticks(fontsize=14)\n",
    "# plt.xlabel('Principal Component - 1',fontsize=20)\n",
    "# plt.ylabel('Principal Component - 2',fontsize=20)\n",
    "# plt.title(\"Principal Component Analysis of Breast Cancer Dataset\",fontsize=20)\n",
    "# targets = ['Benign', 'Malignant']\n",
    "# colors = ['r', 'g']\n",
    "# for target, color in zip(targets,colors):\n",
    "#     indicesToKeep = breast_dataset['label'] == target\n",
    "#     plt.scatter(principal_breast_Df.loc[indicesToKeep, 'principal component 1']\n",
    "#                , principal_breast_Df.loc[indicesToKeep, 'principal component 2'], c = color, s = 50)\n",
    "\n",
    "# plt.legend(targets,prop={'size': 15})"
   ]
  },
  {
   "cell_type": "code",
   "execution_count": 67,
   "id": "af68f8fe",
   "metadata": {},
   "outputs": [],
   "source": [
    "from sklearn.model_selection import train_test_split\n",
    "X_train, X_test, y_train, y_test = train_test_split(X, y, test_size = 0.20, random_state = 0)"
   ]
  },
  {
   "cell_type": "code",
   "execution_count": 68,
   "id": "70b717d4",
   "metadata": {},
   "outputs": [
    {
     "data": {
      "text/plain": [
       "((170, 9), (43, 9), (170,), (43,))"
      ]
     },
     "execution_count": 68,
     "metadata": {},
     "output_type": "execute_result"
    }
   ],
   "source": [
    "X_train.shape, X_test.shape, y_train.shape, y_test.shape"
   ]
  },
  {
   "cell_type": "code",
   "execution_count": 176,
   "id": "fe5269b7",
   "metadata": {},
   "outputs": [],
   "source": [
    "from sklearn.preprocessing import MinMaxScaler, StandardScaler\n",
    "#sc = MinMaxScaler()\n",
    "sc=StandardScaler()\n",
    "X_train = sc.fit_transform(X_train)\n",
    "X_test = sc.transform(X_test)"
   ]
  },
  {
   "cell_type": "code",
   "execution_count": 213,
   "id": "6ff3a108",
   "metadata": {
    "scrolled": true
   },
   "outputs": [
    {
     "data": {
      "text/plain": [
       "(1.0, 1.167272727272727, 0.0, 0.0)"
      ]
     },
     "execution_count": 213,
     "metadata": {},
     "output_type": "execute_result"
    }
   ],
   "source": [
    "\n",
    "np.max(X_train),np.max(X_test), np.min(X_train), np.min(X_test)"
   ]
  },
  {
   "cell_type": "code",
   "execution_count": 101,
   "id": "e0b82440",
   "metadata": {},
   "outputs": [
    {
     "data": {
      "text/plain": [
       "KNeighborsClassifier()"
      ]
     },
     "execution_count": 101,
     "metadata": {},
     "output_type": "execute_result"
    }
   ],
   "source": [
    "from sklearn.neighbors import KNeighborsClassifier\n",
    "classifier = KNeighborsClassifier(n_neighbors = 5, metric = 'minkowski', p = 2)\n",
    "classifier.fit(X_train, y_train)"
   ]
  },
  {
   "cell_type": "code",
   "execution_count": 102,
   "id": "d6b7a79d",
   "metadata": {},
   "outputs": [
    {
     "data": {
      "text/html": [
       "<div>\n",
       "<style scoped>\n",
       "    .dataframe tbody tr th:only-of-type {\n",
       "        vertical-align: middle;\n",
       "    }\n",
       "\n",
       "    .dataframe tbody tr th {\n",
       "        vertical-align: top;\n",
       "    }\n",
       "\n",
       "    .dataframe thead th {\n",
       "        text-align: right;\n",
       "    }\n",
       "</style>\n",
       "<table border=\"1\" class=\"dataframe\">\n",
       "  <thead>\n",
       "    <tr style=\"text-align: right;\">\n",
       "      <th></th>\n",
       "      <th>r_index</th>\n",
       "      <th>na</th>\n",
       "      <th>mg</th>\n",
       "      <th>al</th>\n",
       "      <th>si</th>\n",
       "      <th>k</th>\n",
       "      <th>ca</th>\n",
       "      <th>ba</th>\n",
       "      <th>fe</th>\n",
       "      <th>glass_type</th>\n",
       "    </tr>\n",
       "  </thead>\n",
       "  <tbody>\n",
       "    <tr>\n",
       "      <th>0</th>\n",
       "      <td>1.51869</td>\n",
       "      <td>13.19</td>\n",
       "      <td>3.37</td>\n",
       "      <td>1.18</td>\n",
       "      <td>72.72</td>\n",
       "      <td>0.57</td>\n",
       "      <td>8.83</td>\n",
       "      <td>0.00</td>\n",
       "      <td>0.16</td>\n",
       "      <td>0</td>\n",
       "    </tr>\n",
       "    <tr>\n",
       "      <th>1</th>\n",
       "      <td>1.51761</td>\n",
       "      <td>13.89</td>\n",
       "      <td>3.60</td>\n",
       "      <td>1.36</td>\n",
       "      <td>72.73</td>\n",
       "      <td>0.48</td>\n",
       "      <td>7.83</td>\n",
       "      <td>0.00</td>\n",
       "      <td>0.00</td>\n",
       "      <td>0</td>\n",
       "    </tr>\n",
       "    <tr>\n",
       "      <th>2</th>\n",
       "      <td>1.51617</td>\n",
       "      <td>14.95</td>\n",
       "      <td>0.00</td>\n",
       "      <td>2.27</td>\n",
       "      <td>73.30</td>\n",
       "      <td>0.00</td>\n",
       "      <td>8.71</td>\n",
       "      <td>0.67</td>\n",
       "      <td>0.00</td>\n",
       "      <td>5</td>\n",
       "    </tr>\n",
       "    <tr>\n",
       "      <th>3</th>\n",
       "      <td>1.51966</td>\n",
       "      <td>14.77</td>\n",
       "      <td>3.75</td>\n",
       "      <td>0.29</td>\n",
       "      <td>72.02</td>\n",
       "      <td>0.03</td>\n",
       "      <td>9.00</td>\n",
       "      <td>0.00</td>\n",
       "      <td>0.00</td>\n",
       "      <td>0</td>\n",
       "    </tr>\n",
       "    <tr>\n",
       "      <th>4</th>\n",
       "      <td>1.51793</td>\n",
       "      <td>12.79</td>\n",
       "      <td>3.50</td>\n",
       "      <td>1.12</td>\n",
       "      <td>73.03</td>\n",
       "      <td>0.64</td>\n",
       "      <td>8.77</td>\n",
       "      <td>0.00</td>\n",
       "      <td>0.00</td>\n",
       "      <td>0</td>\n",
       "    </tr>\n",
       "  </tbody>\n",
       "</table>\n",
       "</div>"
      ],
      "text/plain": [
       "   r_index     na    mg    al     si     k    ca    ba    fe  glass_type\n",
       "0  1.51869  13.19  3.37  1.18  72.72  0.57  8.83  0.00  0.16           0\n",
       "1  1.51761  13.89  3.60  1.36  72.73  0.48  7.83  0.00  0.00           0\n",
       "2  1.51617  14.95  0.00  2.27  73.30  0.00  8.71  0.67  0.00           5\n",
       "3  1.51966  14.77  3.75  0.29  72.02  0.03  9.00  0.00  0.00           0\n",
       "4  1.51793  12.79  3.50  1.12  73.03  0.64  8.77  0.00  0.00           0"
      ]
     },
     "execution_count": 102,
     "metadata": {},
     "output_type": "execute_result"
    }
   ],
   "source": [
    "df.head(5)"
   ]
  },
  {
   "cell_type": "code",
   "execution_count": 79,
   "id": "3e614e84",
   "metadata": {},
   "outputs": [
    {
     "name": "stdout",
     "output_type": "stream",
     "text": [
      "[0 1 5 0 0]\n"
     ]
    }
   ],
   "source": [
    "print(classifier.predict(sc.transform(df.iloc[:5,0:9].to_numpy())))\n",
    "#print(classifier.predict(sc.transform(df.iloc[:2,0:9].to_numpy())))\n"
   ]
  },
  {
   "cell_type": "code",
   "execution_count": 80,
   "id": "1775fbf8",
   "metadata": {},
   "outputs": [
    {
     "name": "stdout",
     "output_type": "stream",
     "text": [
      "[[0 0]\n",
      " [1 1]\n",
      " [1 1]\n",
      " [3 3]\n",
      " [0 0]\n",
      " [0 0]\n",
      " [1 1]\n",
      " [0 0]\n",
      " [0 0]\n",
      " [1 1]\n",
      " [0 1]\n",
      " [0 1]\n",
      " [3 1]\n",
      " [0 0]\n",
      " [0 0]\n",
      " [1 5]\n",
      " [0 1]\n",
      " [5 3]\n",
      " [0 0]\n",
      " [1 1]\n",
      " [5 5]\n",
      " [0 1]\n",
      " [1 1]\n",
      " [3 1]\n",
      " [0 0]\n",
      " [0 0]\n",
      " [5 5]\n",
      " [1 1]\n",
      " [1 1]\n",
      " [5 5]\n",
      " [0 0]\n",
      " [0 0]\n",
      " [1 1]\n",
      " [0 2]\n",
      " [0 2]\n",
      " [1 1]\n",
      " [0 0]\n",
      " [0 0]\n",
      " [0 2]\n",
      " [4 4]\n",
      " [0 0]\n",
      " [1 1]\n",
      " [1 0]]\n"
     ]
    }
   ],
   "source": [
    "y_pred = classifier.predict(X_test)\n",
    "print(np.concatenate((y_pred.reshape(len(y_pred),1), y_test.reshape(len(y_test),1)),1))"
   ]
  },
  {
   "cell_type": "code",
   "execution_count": 81,
   "id": "626c02e3",
   "metadata": {},
   "outputs": [
    {
     "data": {
      "text/plain": [
       "array([[ 1.51869, 13.19   ,  3.37   ,  1.18   , 72.72   ,  0.57   ,\n",
       "         8.83   ,  0.     ,  0.16   ],\n",
       "       [ 1.51761, 13.89   ,  3.6    ,  1.36   , 72.73   ,  0.48   ,\n",
       "         7.83   ,  0.     ,  0.     ]])"
      ]
     },
     "execution_count": 81,
     "metadata": {},
     "output_type": "execute_result"
    }
   ],
   "source": [
    "df.iloc[:2,0:9].to_numpy()"
   ]
  },
  {
   "cell_type": "code",
   "execution_count": 103,
   "id": "6e8fccab",
   "metadata": {},
   "outputs": [
    {
     "name": "stdout",
     "output_type": "stream",
     "text": [
      "[[12  4  0  0  0  0]\n",
      " [ 2 15  0  0  0  0]\n",
      " [ 2  1  0  0  0  0]\n",
      " [ 0  0  0  1  0  1]\n",
      " [ 1  0  0  0  0  0]\n",
      " [ 0  0  0  0  0  4]]\n"
     ]
    },
    {
     "data": {
      "text/plain": [
       "0.7441860465116279"
      ]
     },
     "execution_count": 103,
     "metadata": {},
     "output_type": "execute_result"
    }
   ],
   "source": [
    "from sklearn.metrics import confusion_matrix, accuracy_score\n",
    "cm = confusion_matrix(y_test, y_pred)\n",
    "print(cm)\n",
    "accuracy_score(y_test, y_pred)"
   ]
  },
  {
   "cell_type": "code",
   "execution_count": 104,
   "id": "ac279d36",
   "metadata": {},
   "outputs": [
    {
     "data": {
      "text/plain": [
       "SVC(kernel='linear', random_state=0)"
      ]
     },
     "execution_count": 104,
     "metadata": {},
     "output_type": "execute_result"
    }
   ],
   "source": [
    "from sklearn.svm import SVC\n",
    "classifier = SVC(kernel = 'linear', random_state = 0)\n",
    "classifier.fit(X_train, y_train.ravel())"
   ]
  },
  {
   "cell_type": "code",
   "execution_count": 105,
   "id": "b05cfe53",
   "metadata": {},
   "outputs": [],
   "source": [
    "#svm\n",
    "y_pred = classifier.predict(X_test)"
   ]
  },
  {
   "cell_type": "code",
   "execution_count": 106,
   "id": "74760ce4",
   "metadata": {},
   "outputs": [
    {
     "name": "stdout",
     "output_type": "stream",
     "text": [
      "[[12  3  1  0  0  0]\n",
      " [ 3 14  0  0  0  0]\n",
      " [ 1  2  0  0  0  0]\n",
      " [ 0  0  0  1  0  1]\n",
      " [ 0  1  0  0  0  0]\n",
      " [ 0  0  0  0  0  4]]\n"
     ]
    },
    {
     "data": {
      "text/plain": [
       "0.7209302325581395"
      ]
     },
     "execution_count": 106,
     "metadata": {},
     "output_type": "execute_result"
    }
   ],
   "source": [
    "from sklearn.metrics import confusion_matrix, accuracy_score\n",
    "cm = confusion_matrix(y_test, y_pred)\n",
    "print(cm)\n",
    "accuracy_score(y_test, y_pred)"
   ]
  },
  {
   "cell_type": "code",
   "execution_count": 107,
   "id": "f82b107a",
   "metadata": {},
   "outputs": [
    {
     "data": {
      "text/plain": [
       "SVC(random_state=0)"
      ]
     },
     "execution_count": 107,
     "metadata": {},
     "output_type": "execute_result"
    }
   ],
   "source": [
    "from sklearn.svm import SVC\n",
    "classifier = SVC(kernel = 'rbf', random_state = 0)\n",
    "classifier.fit(X_train, y_train.ravel())"
   ]
  },
  {
   "cell_type": "code",
   "execution_count": 108,
   "id": "ef463d7d",
   "metadata": {},
   "outputs": [],
   "source": [
    "y_pred = classifier.predict(X_test)\n",
    "#print(np.concatenate((y_pred.reshape(len(y_pred),1), y_test.reshape(len(y_test),1)),1))"
   ]
  },
  {
   "cell_type": "code",
   "execution_count": 109,
   "id": "5c4a0abb",
   "metadata": {},
   "outputs": [
    {
     "name": "stdout",
     "output_type": "stream",
     "text": [
      "[[14  2  0  0  0  0]\n",
      " [ 2 15  0  0  0  0]\n",
      " [ 3  0  0  0  0  0]\n",
      " [ 0  1  0  1  0  0]\n",
      " [ 1  0  0  0  0  0]\n",
      " [ 0  1  0  0  0  3]]\n"
     ]
    },
    {
     "data": {
      "text/plain": [
       "0.7674418604651163"
      ]
     },
     "execution_count": 109,
     "metadata": {},
     "output_type": "execute_result"
    }
   ],
   "source": [
    "from sklearn.metrics import confusion_matrix, accuracy_score\n",
    "cm = confusion_matrix(y_test, y_pred)\n",
    "print(cm)\n",
    "accuracy_score(y_test, y_pred)"
   ]
  },
  {
   "cell_type": "code",
   "execution_count": 110,
   "id": "2fc1f3dc",
   "metadata": {
    "scrolled": true
   },
   "outputs": [
    {
     "data": {
      "text/plain": [
       "GaussianNB()"
      ]
     },
     "execution_count": 110,
     "metadata": {},
     "output_type": "execute_result"
    }
   ],
   "source": [
    "from sklearn.naive_bayes import GaussianNB\n",
    "classifier = GaussianNB()\n",
    "classifier.fit(X_train, y_train)"
   ]
  },
  {
   "cell_type": "code",
   "execution_count": 111,
   "id": "05a90995",
   "metadata": {},
   "outputs": [],
   "source": [
    "y_pred = classifier.predict(X_test)"
   ]
  },
  {
   "cell_type": "code",
   "execution_count": 112,
   "id": "90802698",
   "metadata": {},
   "outputs": [
    {
     "name": "stdout",
     "output_type": "stream",
     "text": [
      "[[12  1  3  0  0  0]\n",
      " [12  3  1  0  1  0]\n",
      " [ 2  0  0  0  1  0]\n",
      " [ 0  0  0  1  0  1]\n",
      " [ 0  0  0  0  1  0]\n",
      " [ 0  0  0  0  0  4]]\n"
     ]
    },
    {
     "data": {
      "text/plain": [
       "0.4883720930232558"
      ]
     },
     "execution_count": 112,
     "metadata": {},
     "output_type": "execute_result"
    }
   ],
   "source": [
    "from sklearn.metrics import confusion_matrix, accuracy_score\n",
    "cm = confusion_matrix(y_test, y_pred)\n",
    "print(cm)\n",
    "accuracy_score(y_test, y_pred)"
   ]
  },
  {
   "cell_type": "code",
   "execution_count": 113,
   "id": "9fd5226a",
   "metadata": {},
   "outputs": [
    {
     "data": {
      "text/plain": [
       "DecisionTreeClassifier(criterion='entropy', random_state=0)"
      ]
     },
     "execution_count": 113,
     "metadata": {},
     "output_type": "execute_result"
    }
   ],
   "source": [
    "from sklearn.tree import DecisionTreeClassifier\n",
    "classifier = DecisionTreeClassifier(criterion = 'entropy', random_state = 0)\n",
    "classifier.fit(X_train, y_train)"
   ]
  },
  {
   "cell_type": "code",
   "execution_count": 114,
   "id": "e1f644b1",
   "metadata": {},
   "outputs": [],
   "source": [
    "y_pred = classifier.predict(X_test)"
   ]
  },
  {
   "cell_type": "code",
   "execution_count": 115,
   "id": "c59995df",
   "metadata": {},
   "outputs": [
    {
     "name": "stdout",
     "output_type": "stream",
     "text": [
      "[[13  3  0  0  0  0]\n",
      " [ 6 11  0  0  0  0]\n",
      " [ 1  2  0  0  0  0]\n",
      " [ 0  0  0  1  0  1]\n",
      " [ 0  1  0  0  0  0]\n",
      " [ 0  0  0  0  0  4]]\n"
     ]
    },
    {
     "data": {
      "text/plain": [
       "0.6744186046511628"
      ]
     },
     "execution_count": 115,
     "metadata": {},
     "output_type": "execute_result"
    }
   ],
   "source": [
    "from sklearn.metrics import confusion_matrix, accuracy_score\n",
    "cm = confusion_matrix(y_test, y_pred)\n",
    "print(cm)\n",
    "accuracy_score(y_test, y_pred)"
   ]
  },
  {
   "cell_type": "code",
   "execution_count": 135,
   "id": "b484c9e4",
   "metadata": {},
   "outputs": [
    {
     "data": {
      "text/plain": [
       "RandomForestClassifier(criterion='entropy', n_estimators=20, random_state=0)"
      ]
     },
     "execution_count": 135,
     "metadata": {},
     "output_type": "execute_result"
    }
   ],
   "source": [
    "from sklearn.ensemble import RandomForestClassifier\n",
    "classifier = RandomForestClassifier(n_estimators = 20, criterion = 'entropy', random_state = 0)\n",
    "classifier.fit(X_train, y_train)"
   ]
  },
  {
   "cell_type": "code",
   "execution_count": 138,
   "id": "2d015721",
   "metadata": {},
   "outputs": [
    {
     "data": {
      "text/plain": [
       "RandomForestClassifier(criterion='entropy', max_depth=10, max_features='sqrt',\n",
       "                       min_samples_split=5, n_estimators=135, random_state=0)"
      ]
     },
     "execution_count": 138,
     "metadata": {},
     "output_type": "execute_result"
    }
   ],
   "source": [
    "# 'n_estimators': 1000,\n",
    "#  'min_samples_split': 2,\n",
    "#  'min_samples_leaf': 1,\n",
    "#  'max_features': 'sqrt',\n",
    "#  'max_depth': 110,\n",
    "#  'bootstrap': True\n",
    "\n",
    "# 'n_estimators': 135,\n",
    "#  'min_samples_split': 5,\n",
    "#  'min_samples_leaf': 1,\n",
    "#  'max_features': 'sqrt',\n",
    "#  'max_depth': 10,\n",
    "#  'bootstrap': True\n",
    "from sklearn.ensemble import RandomForestClassifier\n",
    "classifier = RandomForestClassifier(n_estimators = 135, random_state = 0,\n",
    "                                    criterion= 'entropy',\n",
    "                                   min_samples_split=5,\n",
    "                                   min_samples_leaf=1,\n",
    "                                   max_features='sqrt',\n",
    "                                   max_depth=10,\n",
    "                                   bootstrap=True)\n",
    "classifier.fit(X_train, y_train)"
   ]
  },
  {
   "cell_type": "code",
   "execution_count": 139,
   "id": "e975b8a5",
   "metadata": {},
   "outputs": [],
   "source": [
    "y_pred = classifier.predict(X_test)"
   ]
  },
  {
   "cell_type": "code",
   "execution_count": 140,
   "id": "c4de6d26",
   "metadata": {},
   "outputs": [
    {
     "name": "stdout",
     "output_type": "stream",
     "text": [
      "[[15  1  0  0  0  0]\n",
      " [ 2 15  0  0  0  0]\n",
      " [ 2  0  1  0  0  0]\n",
      " [ 0  0  0  1  0  1]\n",
      " [ 0  1  0  0  0  0]\n",
      " [ 0  0  0  0  0  4]]\n"
     ]
    },
    {
     "data": {
      "text/plain": [
       "0.8372093023255814"
      ]
     },
     "execution_count": 140,
     "metadata": {},
     "output_type": "execute_result"
    }
   ],
   "source": [
    "from sklearn.metrics import confusion_matrix, accuracy_score\n",
    "cm = confusion_matrix(y_test, y_pred)\n",
    "print(cm)\n",
    "accuracy_score(y_test, y_pred)"
   ]
  },
  {
   "cell_type": "code",
   "execution_count": 122,
   "id": "c1015803",
   "metadata": {},
   "outputs": [],
   "source": [
    "#if i can get 67-69 here will be good"
   ]
  },
  {
   "cell_type": "code",
   "execution_count": 123,
   "id": "4061463a",
   "metadata": {},
   "outputs": [
    {
     "name": "stdout",
     "output_type": "stream",
     "text": [
      "Requirement already satisfied: tensorflow in c:\\users\\nicho\\anaconda3\\lib\\site-packages (2.8.0)\n",
      "Requirement already satisfied: absl-py>=0.4.0 in c:\\users\\nicho\\anaconda3\\lib\\site-packages (from tensorflow) (1.0.0)\n",
      "Requirement already satisfied: tf-estimator-nightly==2.8.0.dev2021122109 in c:\\users\\nicho\\anaconda3\\lib\\site-packages (from tensorflow) (2.8.0.dev2021122109)\n",
      "Requirement already satisfied: numpy>=1.20 in c:\\users\\nicho\\anaconda3\\lib\\site-packages (from tensorflow) (1.20.1)\n",
      "Requirement already satisfied: typing-extensions>=3.6.6 in c:\\users\\nicho\\anaconda3\\lib\\site-packages (from tensorflow) (3.7.4.3)\n",
      "Requirement already satisfied: tensorflow-io-gcs-filesystem>=0.23.1 in c:\\users\\nicho\\anaconda3\\lib\\site-packages (from tensorflow) (0.24.0)\n",
      "Requirement already satisfied: wrapt>=1.11.0 in c:\\users\\nicho\\anaconda3\\lib\\site-packages (from tensorflow) (1.12.1)\n",
      "Requirement already satisfied: libclang>=9.0.1 in c:\\users\\nicho\\anaconda3\\lib\\site-packages (from tensorflow) (13.0.0)\n",
      "Requirement already satisfied: astunparse>=1.6.0 in c:\\users\\nicho\\anaconda3\\lib\\site-packages (from tensorflow) (1.6.3)\n",
      "Requirement already satisfied: tensorboard<2.9,>=2.8 in c:\\users\\nicho\\anaconda3\\lib\\site-packages (from tensorflow) (2.8.0)\n",
      "Requirement already satisfied: google-pasta>=0.1.1 in c:\\users\\nicho\\anaconda3\\lib\\site-packages (from tensorflow) (0.2.0)\n",
      "Requirement already satisfied: protobuf>=3.9.2 in c:\\users\\nicho\\anaconda3\\lib\\site-packages (from tensorflow) (3.19.4)\n",
      "Requirement already satisfied: keras-preprocessing>=1.1.1 in c:\\users\\nicho\\anaconda3\\lib\\site-packages (from tensorflow) (1.1.2)\n",
      "Requirement already satisfied: h5py>=2.9.0 in c:\\users\\nicho\\anaconda3\\lib\\site-packages (from tensorflow) (2.10.0)\n",
      "Requirement already satisfied: flatbuffers>=1.12 in c:\\users\\nicho\\anaconda3\\lib\\site-packages (from tensorflow) (2.0)\n",
      "Requirement already satisfied: keras<2.9,>=2.8.0rc0 in c:\\users\\nicho\\anaconda3\\lib\\site-packages (from tensorflow) (2.8.0)\n",
      "Requirement already satisfied: setuptools in c:\\users\\nicho\\anaconda3\\lib\\site-packages (from tensorflow) (52.0.0.post20210125)\n",
      "Requirement already satisfied: gast>=0.2.1 in c:\\users\\nicho\\anaconda3\\lib\\site-packages (from tensorflow) (0.5.3)\n",
      "Requirement already satisfied: grpcio<2.0,>=1.24.3 in c:\\users\\nicho\\anaconda3\\lib\\site-packages (from tensorflow) (1.45.0)\n",
      "Requirement already satisfied: opt-einsum>=2.3.2 in c:\\users\\nicho\\anaconda3\\lib\\site-packages (from tensorflow) (3.3.0)\n",
      "Requirement already satisfied: termcolor>=1.1.0 in c:\\users\\nicho\\anaconda3\\lib\\site-packages (from tensorflow) (1.1.0)\n",
      "Requirement already satisfied: six>=1.12.0 in c:\\users\\nicho\\anaconda3\\lib\\site-packages (from tensorflow) (1.15.0)\n",
      "Requirement already satisfied: wheel<1.0,>=0.23.0 in c:\\users\\nicho\\anaconda3\\lib\\site-packages (from astunparse>=1.6.0->tensorflow) (0.36.2)\n",
      "Requirement already satisfied: google-auth<3,>=1.6.3 in c:\\users\\nicho\\anaconda3\\lib\\site-packages (from tensorboard<2.9,>=2.8->tensorflow) (2.6.2)\n",
      "Requirement already satisfied: tensorboard-plugin-wit>=1.6.0 in c:\\users\\nicho\\anaconda3\\lib\\site-packages (from tensorboard<2.9,>=2.8->tensorflow) (1.8.1)\n",
      "Requirement already satisfied: werkzeug>=0.11.15 in c:\\users\\nicho\\anaconda3\\lib\\site-packages (from tensorboard<2.9,>=2.8->tensorflow) (1.0.1)\n",
      "Requirement already satisfied: tensorboard-data-server<0.7.0,>=0.6.0 in c:\\users\\nicho\\anaconda3\\lib\\site-packages (from tensorboard<2.9,>=2.8->tensorflow) (0.6.1)\n",
      "Requirement already satisfied: requests<3,>=2.21.0 in c:\\users\\nicho\\anaconda3\\lib\\site-packages (from tensorboard<2.9,>=2.8->tensorflow) (2.25.1)\n",
      "Requirement already satisfied: markdown>=2.6.8 in c:\\users\\nicho\\anaconda3\\lib\\site-packages (from tensorboard<2.9,>=2.8->tensorflow) (3.3.6)\n",
      "Requirement already satisfied: google-auth-oauthlib<0.5,>=0.4.1 in c:\\users\\nicho\\anaconda3\\lib\\site-packages (from tensorboard<2.9,>=2.8->tensorflow) (0.4.6)\n",
      "Requirement already satisfied: pyasn1-modules>=0.2.1 in c:\\users\\nicho\\anaconda3\\lib\\site-packages (from google-auth<3,>=1.6.3->tensorboard<2.9,>=2.8->tensorflow) (0.2.8)\n",
      "Requirement already satisfied: cachetools<6.0,>=2.0.0 in c:\\users\\nicho\\anaconda3\\lib\\site-packages (from google-auth<3,>=1.6.3->tensorboard<2.9,>=2.8->tensorflow) (5.0.0)\n",
      "Requirement already satisfied: rsa<5,>=3.1.4 in c:\\users\\nicho\\anaconda3\\lib\\site-packages (from google-auth<3,>=1.6.3->tensorboard<2.9,>=2.8->tensorflow) (4.8)\n",
      "Requirement already satisfied: requests-oauthlib>=0.7.0 in c:\\users\\nicho\\anaconda3\\lib\\site-packages (from google-auth-oauthlib<0.5,>=0.4.1->tensorboard<2.9,>=2.8->tensorflow) (1.3.1)\n",
      "Requirement already satisfied: importlib-metadata>=4.4 in c:\\users\\nicho\\anaconda3\\lib\\site-packages (from markdown>=2.6.8->tensorboard<2.9,>=2.8->tensorflow) (4.11.3)\n",
      "Requirement already satisfied: zipp>=0.5 in c:\\users\\nicho\\anaconda3\\lib\\site-packages (from importlib-metadata>=4.4->markdown>=2.6.8->tensorboard<2.9,>=2.8->tensorflow) (3.4.1)\n",
      "Requirement already satisfied: pyasn1<0.5.0,>=0.4.6 in c:\\users\\nicho\\anaconda3\\lib\\site-packages (from pyasn1-modules>=0.2.1->google-auth<3,>=1.6.3->tensorboard<2.9,>=2.8->tensorflow) (0.4.8)\n",
      "Requirement already satisfied: chardet<5,>=3.0.2 in c:\\users\\nicho\\anaconda3\\lib\\site-packages (from requests<3,>=2.21.0->tensorboard<2.9,>=2.8->tensorflow) (4.0.0)\n",
      "Requirement already satisfied: urllib3<1.27,>=1.21.1 in c:\\users\\nicho\\anaconda3\\lib\\site-packages (from requests<3,>=2.21.0->tensorboard<2.9,>=2.8->tensorflow) (1.26.4)\n",
      "Requirement already satisfied: certifi>=2017.4.17 in c:\\users\\nicho\\anaconda3\\lib\\site-packages (from requests<3,>=2.21.0->tensorboard<2.9,>=2.8->tensorflow) (2020.12.5)\n",
      "Requirement already satisfied: idna<3,>=2.5 in c:\\users\\nicho\\anaconda3\\lib\\site-packages (from requests<3,>=2.21.0->tensorboard<2.9,>=2.8->tensorflow) (2.10)\n",
      "Requirement already satisfied: oauthlib>=3.0.0 in c:\\users\\nicho\\anaconda3\\lib\\site-packages (from requests-oauthlib>=0.7.0->google-auth-oauthlib<0.5,>=0.4.1->tensorboard<2.9,>=2.8->tensorflow) (3.2.0)\n",
      "Note: you may need to restart the kernel to use updated packages.\n"
     ]
    }
   ],
   "source": [
    "pip install tensorflow"
   ]
  },
  {
   "cell_type": "code",
   "execution_count": 124,
   "id": "a7652798",
   "metadata": {},
   "outputs": [],
   "source": [
    "import tensorflow as tf"
   ]
  },
  {
   "cell_type": "code",
   "execution_count": 178,
   "id": "a9862642",
   "metadata": {},
   "outputs": [
    {
     "data": {
      "text/plain": [
       "(9,)"
      ]
     },
     "execution_count": 178,
     "metadata": {},
     "output_type": "execute_result"
    }
   ],
   "source": [
    "X_train[0].shape"
   ]
  },
  {
   "cell_type": "code",
   "execution_count": 126,
   "id": "e70d240b",
   "metadata": {},
   "outputs": [
    {
     "data": {
      "text/plain": [
       "['building_windows_float_processed',\n",
       " 'building_windows_non_float_processed',\n",
       " 'vehicle_windows_float_processed',\n",
       " 'containers',\n",
       " 'tableware',\n",
       " 'headlamps']"
      ]
     },
     "execution_count": 126,
     "metadata": {},
     "output_type": "execute_result"
    }
   ],
   "source": [
    "labels"
   ]
  },
  {
   "cell_type": "code",
   "execution_count": 179,
   "id": "6bbe89a3",
   "metadata": {},
   "outputs": [],
   "source": [
    "# Set random seed\n",
    "tf.random.set_seed(42)\n",
    "\n",
    "# Create the model\n",
    "model_11 = tf.keras.Sequential([\n",
    "  tf.keras.layers.Dense(9),\n",
    "  tf.keras.layers.Dense(6, activation=\"relu\"),\n",
    "  tf.keras.layers.Dense(6, activation=\"relu\"),\n",
    "  tf.keras.layers.Dense(6, activation=\"softmax\") # output shape is 10, activation is softmax\n",
    "])\n",
    "\n",
    "# Compile the model\n",
    "model_11.compile(loss=tf.keras.losses.CategoricalCrossentropy(), # different loss function for multiclass classifcation\n",
    "                 optimizer=tf.keras.optimizers.Adam(),\n",
    "                 metrics=[\"accuracy\"])"
   ]
  },
  {
   "cell_type": "code",
   "execution_count": 180,
   "id": "6d30fcf0",
   "metadata": {},
   "outputs": [
    {
     "data": {
      "text/plain": [
       "((170,), (170, 9))"
      ]
     },
     "execution_count": 180,
     "metadata": {},
     "output_type": "execute_result"
    }
   ],
   "source": [
    "y_train.shape, X_train.shape\n"
   ]
  },
  {
   "cell_type": "code",
   "execution_count": 181,
   "id": "971e0b5c",
   "metadata": {},
   "outputs": [
    {
     "data": {
      "text/plain": [
       "((170, 6), (43, 6))"
      ]
     },
     "execution_count": 181,
     "metadata": {},
     "output_type": "execute_result"
    }
   ],
   "source": [
    "from tensorflow.keras.utils import to_categorical\n",
    "one_hot_y_train= to_categorical(y_train-1, num_classes=6)\n",
    "one_hot_y_test = to_categorical(y_test-1, num_classes=6)\n",
    "one_hot_y_train.shape, one_hot_y_test.shape"
   ]
  },
  {
   "cell_type": "code",
   "execution_count": 182,
   "id": "54281830",
   "metadata": {},
   "outputs": [
    {
     "data": {
      "text/plain": [
       "array([0., 0., 1., 0., 0., 0.], dtype=float32)"
      ]
     },
     "execution_count": 182,
     "metadata": {},
     "output_type": "execute_result"
    }
   ],
   "source": [
    "one_hot_y_train[0]"
   ]
  },
  {
   "cell_type": "code",
   "execution_count": 183,
   "id": "828d12b6",
   "metadata": {},
   "outputs": [],
   "source": [
    "# Setup EarlyStopping callback to stop training if model's val_loss doesn't improve for 3 epochs\n",
    "early_stopping = tf.keras.callbacks.EarlyStopping(monitor=\"val_loss\", # watch the val loss metric\n",
    "                                                  patience=10) # if val loss decreases for 3 epochs in a row, stop training\n",
    "\n",
    "# Create ModelCheckpoint callback to save best model during fine-tuning\n",
    "checkpoint_path = \"checkpoints/\"\n",
    "model_checkpoint = tf.keras.callbacks.ModelCheckpoint(checkpoint_path,\n",
    "                                                      save_best_only=True,\n",
    "                                                      monitor=\"val_loss\")"
   ]
  },
  {
   "cell_type": "code",
   "execution_count": 184,
   "id": "c723d0e8",
   "metadata": {},
   "outputs": [
    {
     "name": "stdout",
     "output_type": "stream",
     "text": [
      "Epoch 1/200\n",
      "1/6 [====>.........................] - ETA: 2s - loss: 1.7928 - accuracy: 0.2500INFO:tensorflow:Assets written to: checkpoints\\assets\n",
      "6/6 [==============================] - 1s 193ms/step - loss: 1.7906 - accuracy: 0.3118 - val_loss: 1.7821 - val_accuracy: 0.3721\n",
      "Epoch 2/200\n",
      "1/6 [====>.........................] - ETA: 0s - loss: 1.7851 - accuracy: 0.3438INFO:tensorflow:Assets written to: checkpoints\\assets\n",
      "6/6 [==============================] - 1s 158ms/step - loss: 1.7852 - accuracy: 0.3176 - val_loss: 1.7763 - val_accuracy: 0.3721\n",
      "Epoch 3/200\n",
      "1/6 [====>.........................] - ETA: 0s - loss: 1.7988 - accuracy: 0.3125INFO:tensorflow:Assets written to: checkpoints\\assets\n",
      "6/6 [==============================] - 1s 173ms/step - loss: 1.7800 - accuracy: 0.3176 - val_loss: 1.7707 - val_accuracy: 0.3721\n",
      "Epoch 4/200\n",
      "1/6 [====>.........................] - ETA: 0s - loss: 1.7591 - accuracy: 0.3438INFO:tensorflow:Assets written to: checkpoints\\assets\n",
      "6/6 [==============================] - 1s 161ms/step - loss: 1.7751 - accuracy: 0.3235 - val_loss: 1.7650 - val_accuracy: 0.3721\n",
      "Epoch 5/200\n",
      "1/6 [====>.........................] - ETA: 0s - loss: 1.7495 - accuracy: 0.4062INFO:tensorflow:Assets written to: checkpoints\\assets\n",
      "6/6 [==============================] - 1s 163ms/step - loss: 1.7699 - accuracy: 0.3235 - val_loss: 1.7597 - val_accuracy: 0.3721\n",
      "Epoch 6/200\n",
      "1/6 [====>.........................] - ETA: 0s - loss: 1.7619 - accuracy: 0.3750INFO:tensorflow:Assets written to: checkpoints\\assets\n",
      "6/6 [==============================] - 1s 169ms/step - loss: 1.7653 - accuracy: 0.3235 - val_loss: 1.7541 - val_accuracy: 0.3721\n",
      "Epoch 7/200\n",
      "1/6 [====>.........................] - ETA: 0s - loss: 1.7806 - accuracy: 0.2500INFO:tensorflow:Assets written to: checkpoints\\assets\n",
      "6/6 [==============================] - 1s 170ms/step - loss: 1.7600 - accuracy: 0.3235 - val_loss: 1.7492 - val_accuracy: 0.3721\n",
      "Epoch 8/200\n",
      "1/6 [====>.........................] - ETA: 0s - loss: 1.7649 - accuracy: 0.3438INFO:tensorflow:Assets written to: checkpoints\\assets\n",
      "6/6 [==============================] - 1s 202ms/step - loss: 1.7555 - accuracy: 0.3235 - val_loss: 1.7432 - val_accuracy: 0.3721\n",
      "Epoch 9/200\n",
      "1/6 [====>.........................] - ETA: 0s - loss: 1.7390 - accuracy: 0.3750INFO:tensorflow:Assets written to: checkpoints\\assets\n",
      "6/6 [==============================] - 1s 160ms/step - loss: 1.7504 - accuracy: 0.3235 - val_loss: 1.7365 - val_accuracy: 0.3721\n",
      "Epoch 10/200\n",
      "1/6 [====>.........................] - ETA: 0s - loss: 1.7449 - accuracy: 0.4062INFO:tensorflow:Assets written to: checkpoints\\assets\n",
      "6/6 [==============================] - 1s 115ms/step - loss: 1.7442 - accuracy: 0.3235 - val_loss: 1.7280 - val_accuracy: 0.3721\n",
      "Epoch 11/200\n",
      "1/6 [====>.........................] - ETA: 0s - loss: 1.7359 - accuracy: 0.3750INFO:tensorflow:Assets written to: checkpoints\\assets\n",
      "6/6 [==============================] - 0s 94ms/step - loss: 1.7371 - accuracy: 0.3235 - val_loss: 1.7180 - val_accuracy: 0.3721\n",
      "Epoch 12/200\n",
      "1/6 [====>.........................] - ETA: 0s - loss: 1.7586 - accuracy: 0.1875INFO:tensorflow:Assets written to: checkpoints\\assets\n",
      "6/6 [==============================] - 1s 116ms/step - loss: 1.7286 - accuracy: 0.3235 - val_loss: 1.7067 - val_accuracy: 0.3721\n",
      "Epoch 13/200\n",
      "1/6 [====>.........................] - ETA: 0s - loss: 1.6993 - accuracy: 0.3438INFO:tensorflow:Assets written to: checkpoints\\assets\n",
      "6/6 [==============================] - 1s 113ms/step - loss: 1.7193 - accuracy: 0.3235 - val_loss: 1.6942 - val_accuracy: 0.3721\n",
      "Epoch 14/200\n",
      "1/6 [====>.........................] - ETA: 0s - loss: 1.6976 - accuracy: 0.3750INFO:tensorflow:Assets written to: checkpoints\\assets\n",
      "6/6 [==============================] - 1s 125ms/step - loss: 1.7087 - accuracy: 0.3235 - val_loss: 1.6806 - val_accuracy: 0.3721\n",
      "Epoch 15/200\n",
      "1/6 [====>.........................] - ETA: 0s - loss: 1.6717 - accuracy: 0.4062INFO:tensorflow:Assets written to: checkpoints\\assets\n",
      "6/6 [==============================] - 0s 97ms/step - loss: 1.6969 - accuracy: 0.3235 - val_loss: 1.6648 - val_accuracy: 0.3721\n",
      "Epoch 16/200\n",
      "1/6 [====>.........................] - ETA: 0s - loss: 1.7234 - accuracy: 0.3125INFO:tensorflow:Assets written to: checkpoints\\assets\n",
      "6/6 [==============================] - 1s 103ms/step - loss: 1.6839 - accuracy: 0.3235 - val_loss: 1.6495 - val_accuracy: 0.3721\n",
      "Epoch 17/200\n",
      "1/6 [====>.........................] - ETA: 0s - loss: 1.6916 - accuracy: 0.3125INFO:tensorflow:Assets written to: checkpoints\\assets\n",
      "6/6 [==============================] - 1s 147ms/step - loss: 1.6706 - accuracy: 0.3235 - val_loss: 1.6310 - val_accuracy: 0.3721\n",
      "Epoch 18/200\n",
      "1/6 [====>.........................] - ETA: 0s - loss: 1.6202 - accuracy: 0.4688INFO:tensorflow:Assets written to: checkpoints\\assets\n",
      "6/6 [==============================] - 0s 90ms/step - loss: 1.6566 - accuracy: 0.3235 - val_loss: 1.6128 - val_accuracy: 0.3721\n",
      "Epoch 19/200\n",
      "1/6 [====>.........................] - ETA: 0s - loss: 1.6668 - accuracy: 0.2812INFO:tensorflow:Assets written to: checkpoints\\assets\n",
      "6/6 [==============================] - 1s 107ms/step - loss: 1.6409 - accuracy: 0.3235 - val_loss: 1.5942 - val_accuracy: 0.3721\n",
      "Epoch 20/200\n",
      "1/6 [====>.........................] - ETA: 0s - loss: 1.5820 - accuracy: 0.4375INFO:tensorflow:Assets written to: checkpoints\\assets\n",
      "6/6 [==============================] - 1s 112ms/step - loss: 1.6263 - accuracy: 0.3235 - val_loss: 1.5750 - val_accuracy: 0.3721\n",
      "Epoch 21/200\n",
      "1/6 [====>.........................] - ETA: 0s - loss: 1.6454 - accuracy: 0.3438INFO:tensorflow:Assets written to: checkpoints\\assets\n",
      "6/6 [==============================] - 1s 111ms/step - loss: 1.6099 - accuracy: 0.3235 - val_loss: 1.5538 - val_accuracy: 0.3721\n",
      "Epoch 22/200\n",
      "1/6 [====>.........................] - ETA: 0s - loss: 1.6008 - accuracy: 0.2812INFO:tensorflow:Assets written to: checkpoints\\assets\n",
      "6/6 [==============================] - 1s 106ms/step - loss: 1.5933 - accuracy: 0.3235 - val_loss: 1.5331 - val_accuracy: 0.3721\n",
      "Epoch 23/200\n",
      "1/6 [====>.........................] - ETA: 0s - loss: 1.5602 - accuracy: 0.3125INFO:tensorflow:Assets written to: checkpoints\\assets\n",
      "6/6 [==============================] - 1s 111ms/step - loss: 1.5778 - accuracy: 0.3235 - val_loss: 1.5120 - val_accuracy: 0.3721\n",
      "Epoch 24/200\n",
      "1/6 [====>.........................] - ETA: 0s - loss: 1.6248 - accuracy: 0.3438INFO:tensorflow:Assets written to: checkpoints\\assets\n",
      "6/6 [==============================] - 1s 110ms/step - loss: 1.5614 - accuracy: 0.3235 - val_loss: 1.4916 - val_accuracy: 0.3721\n",
      "Epoch 25/200\n",
      "1/6 [====>.........................] - ETA: 0s - loss: 1.4741 - accuracy: 0.4375INFO:tensorflow:Assets written to: checkpoints\\assets\n",
      "6/6 [==============================] - 1s 110ms/step - loss: 1.5462 - accuracy: 0.3235 - val_loss: 1.4713 - val_accuracy: 0.3721\n",
      "Epoch 26/200\n",
      "1/6 [====>.........................] - ETA: 0s - loss: 1.4866 - accuracy: 0.3750INFO:tensorflow:Assets written to: checkpoints\\assets\n",
      "6/6 [==============================] - 1s 151ms/step - loss: 1.5306 - accuracy: 0.3235 - val_loss: 1.4529 - val_accuracy: 0.3721\n",
      "Epoch 27/200\n",
      "1/6 [====>.........................] - ETA: 0s - loss: 1.5081 - accuracy: 0.4062INFO:tensorflow:Assets written to: checkpoints\\assets\n",
      "6/6 [==============================] - 1s 118ms/step - loss: 1.5158 - accuracy: 0.3235 - val_loss: 1.4361 - val_accuracy: 0.3721\n",
      "Epoch 28/200\n",
      "1/6 [====>.........................] - ETA: 0s - loss: 1.5224 - accuracy: 0.3438INFO:tensorflow:Assets written to: checkpoints\\assets\n",
      "6/6 [==============================] - 1s 120ms/step - loss: 1.5011 - accuracy: 0.3235 - val_loss: 1.4189 - val_accuracy: 0.3721\n",
      "Epoch 29/200\n",
      "1/6 [====>.........................] - ETA: 0s - loss: 1.4953 - accuracy: 0.3125INFO:tensorflow:Assets written to: checkpoints\\assets\n",
      "6/6 [==============================] - 1s 110ms/step - loss: 1.4865 - accuracy: 0.3235 - val_loss: 1.4013 - val_accuracy: 0.3721\n",
      "Epoch 30/200\n",
      "1/6 [====>.........................] - ETA: 0s - loss: 1.4461 - accuracy: 0.2812INFO:tensorflow:Assets written to: checkpoints\\assets\n",
      "6/6 [==============================] - 1s 108ms/step - loss: 1.4701 - accuracy: 0.3294 - val_loss: 1.3785 - val_accuracy: 0.3721\n"
     ]
    },
    {
     "name": "stdout",
     "output_type": "stream",
     "text": [
      "Epoch 31/200\n",
      "1/6 [====>.........................] - ETA: 0s - loss: 1.3907 - accuracy: 0.4062INFO:tensorflow:Assets written to: checkpoints\\assets\n",
      "6/6 [==============================] - 1s 116ms/step - loss: 1.4518 - accuracy: 0.3412 - val_loss: 1.3538 - val_accuracy: 0.3953\n",
      "Epoch 32/200\n",
      "1/6 [====>.........................] - ETA: 0s - loss: 1.4394 - accuracy: 0.3125INFO:tensorflow:Assets written to: checkpoints\\assets\n",
      "6/6 [==============================] - 1s 111ms/step - loss: 1.4352 - accuracy: 0.3471 - val_loss: 1.3315 - val_accuracy: 0.3953\n",
      "Epoch 33/200\n",
      "1/6 [====>.........................] - ETA: 0s - loss: 1.4908 - accuracy: 0.3438INFO:tensorflow:Assets written to: checkpoints\\assets\n",
      "6/6 [==============================] - 1s 116ms/step - loss: 1.4203 - accuracy: 0.3471 - val_loss: 1.3073 - val_accuracy: 0.3953\n",
      "Epoch 34/200\n",
      "1/6 [====>.........................] - ETA: 0s - loss: 1.5365 - accuracy: 0.2500INFO:tensorflow:Assets written to: checkpoints\\assets\n",
      "6/6 [==============================] - 1s 101ms/step - loss: 1.4045 - accuracy: 0.3588 - val_loss: 1.2854 - val_accuracy: 0.3953\n",
      "Epoch 35/200\n",
      "1/6 [====>.........................] - ETA: 0s - loss: 1.1807 - accuracy: 0.4375INFO:tensorflow:Assets written to: checkpoints\\assets\n",
      "6/6 [==============================] - 1s 153ms/step - loss: 1.3921 - accuracy: 0.3765 - val_loss: 1.2667 - val_accuracy: 0.4186\n",
      "Epoch 36/200\n",
      "1/6 [====>.........................] - ETA: 0s - loss: 1.3851 - accuracy: 0.3125INFO:tensorflow:Assets written to: checkpoints\\assets\n",
      "6/6 [==============================] - 1s 125ms/step - loss: 1.3769 - accuracy: 0.3765 - val_loss: 1.2519 - val_accuracy: 0.4186\n",
      "Epoch 37/200\n",
      "1/6 [====>.........................] - ETA: 0s - loss: 1.4137 - accuracy: 0.3750INFO:tensorflow:Assets written to: checkpoints\\assets\n",
      "6/6 [==============================] - 0s 97ms/step - loss: 1.3643 - accuracy: 0.3588 - val_loss: 1.2430 - val_accuracy: 0.4651\n",
      "Epoch 38/200\n",
      "1/6 [====>.........................] - ETA: 0s - loss: 1.1475 - accuracy: 0.5000INFO:tensorflow:Assets written to: checkpoints\\assets\n",
      "6/6 [==============================] - 1s 110ms/step - loss: 1.3495 - accuracy: 0.3412 - val_loss: 1.2319 - val_accuracy: 0.4651\n",
      "Epoch 39/200\n",
      "1/6 [====>.........................] - ETA: 0s - loss: 1.3106 - accuracy: 0.3750INFO:tensorflow:Assets written to: checkpoints\\assets\n",
      "6/6 [==============================] - 0s 93ms/step - loss: 1.3352 - accuracy: 0.3471 - val_loss: 1.2246 - val_accuracy: 0.5116\n",
      "Epoch 40/200\n",
      "1/6 [====>.........................] - ETA: 0s - loss: 1.2447 - accuracy: 0.4375INFO:tensorflow:Assets written to: checkpoints\\assets\n",
      "6/6 [==============================] - 1s 114ms/step - loss: 1.3193 - accuracy: 0.3882 - val_loss: 1.2155 - val_accuracy: 0.5116\n",
      "Epoch 41/200\n",
      "1/6 [====>.........................] - ETA: 0s - loss: 1.4416 - accuracy: 0.3750INFO:tensorflow:Assets written to: checkpoints\\assets\n",
      "6/6 [==============================] - 1s 109ms/step - loss: 1.3049 - accuracy: 0.4294 - val_loss: 1.2085 - val_accuracy: 0.5349\n",
      "Epoch 42/200\n",
      "1/6 [====>.........................] - ETA: 0s - loss: 1.3250 - accuracy: 0.4375INFO:tensorflow:Assets written to: checkpoints\\assets\n",
      "6/6 [==============================] - 1s 105ms/step - loss: 1.2915 - accuracy: 0.4412 - val_loss: 1.1973 - val_accuracy: 0.5581\n",
      "Epoch 43/200\n",
      "1/6 [====>.........................] - ETA: 0s - loss: 1.2376 - accuracy: 0.4375INFO:tensorflow:Assets written to: checkpoints\\assets\n",
      "6/6 [==============================] - 1s 117ms/step - loss: 1.2764 - accuracy: 0.4471 - val_loss: 1.1844 - val_accuracy: 0.5814\n",
      "Epoch 44/200\n",
      "1/6 [====>.........................] - ETA: 0s - loss: 1.3230 - accuracy: 0.4375INFO:tensorflow:Assets written to: checkpoints\\assets\n",
      "6/6 [==============================] - 1s 151ms/step - loss: 1.2633 - accuracy: 0.4529 - val_loss: 1.1744 - val_accuracy: 0.5814\n",
      "Epoch 45/200\n",
      "1/6 [====>.........................] - ETA: 0s - loss: 1.3505 - accuracy: 0.3750INFO:tensorflow:Assets written to: checkpoints\\assets\n",
      "6/6 [==============================] - 1s 108ms/step - loss: 1.2487 - accuracy: 0.4647 - val_loss: 1.1639 - val_accuracy: 0.6047\n",
      "Epoch 46/200\n",
      "1/6 [====>.........................] - ETA: 0s - loss: 1.1290 - accuracy: 0.5000INFO:tensorflow:Assets written to: checkpoints\\assets\n",
      "6/6 [==============================] - 0s 92ms/step - loss: 1.2354 - accuracy: 0.4529 - val_loss: 1.1548 - val_accuracy: 0.6047\n",
      "Epoch 47/200\n",
      "1/6 [====>.........................] - ETA: 0s - loss: 1.1840 - accuracy: 0.4375INFO:tensorflow:Assets written to: checkpoints\\assets\n",
      "6/6 [==============================] - 1s 119ms/step - loss: 1.2233 - accuracy: 0.4588 - val_loss: 1.1476 - val_accuracy: 0.6047\n",
      "Epoch 48/200\n",
      "1/6 [====>.........................] - ETA: 0s - loss: 1.0829 - accuracy: 0.5312INFO:tensorflow:Assets written to: checkpoints\\assets\n",
      "6/6 [==============================] - 1s 116ms/step - loss: 1.2107 - accuracy: 0.4706 - val_loss: 1.1379 - val_accuracy: 0.5581\n",
      "Epoch 49/200\n",
      "1/6 [====>.........................] - ETA: 0s - loss: 1.2349 - accuracy: 0.4375INFO:tensorflow:Assets written to: checkpoints\\assets\n",
      "6/6 [==============================] - 1s 103ms/step - loss: 1.1993 - accuracy: 0.4765 - val_loss: 1.1305 - val_accuracy: 0.5581\n",
      "Epoch 50/200\n",
      "1/6 [====>.........................] - ETA: 0s - loss: 0.9819 - accuracy: 0.6562INFO:tensorflow:Assets written to: checkpoints\\assets\n",
      "6/6 [==============================] - 1s 114ms/step - loss: 1.1874 - accuracy: 0.4706 - val_loss: 1.1276 - val_accuracy: 0.5349\n",
      "Epoch 51/200\n",
      "1/6 [====>.........................] - ETA: 0s - loss: 1.1023 - accuracy: 0.4688INFO:tensorflow:Assets written to: checkpoints\\assets\n",
      "6/6 [==============================] - 1s 112ms/step - loss: 1.1759 - accuracy: 0.4765 - val_loss: 1.1218 - val_accuracy: 0.5116\n",
      "Epoch 52/200\n",
      "1/6 [====>.........................] - ETA: 0s - loss: 1.2053 - accuracy: 0.4062INFO:tensorflow:Assets written to: checkpoints\\assets\n",
      "6/6 [==============================] - 1s 107ms/step - loss: 1.1670 - accuracy: 0.5000 - val_loss: 1.1150 - val_accuracy: 0.4884\n",
      "Epoch 53/200\n",
      "1/6 [====>.........................] - ETA: 0s - loss: 1.2164 - accuracy: 0.5000INFO:tensorflow:Assets written to: checkpoints\\assets\n",
      "6/6 [==============================] - 1s 104ms/step - loss: 1.1605 - accuracy: 0.4941 - val_loss: 1.1101 - val_accuracy: 0.4884\n",
      "Epoch 54/200\n",
      "1/6 [====>.........................] - ETA: 0s - loss: 1.1464 - accuracy: 0.5938INFO:tensorflow:Assets written to: checkpoints\\assets\n",
      "6/6 [==============================] - 1s 155ms/step - loss: 1.1506 - accuracy: 0.4941 - val_loss: 1.1021 - val_accuracy: 0.4884\n",
      "Epoch 55/200\n",
      "1/6 [====>.........................] - ETA: 0s - loss: 1.1616 - accuracy: 0.5000INFO:tensorflow:Assets written to: checkpoints\\assets\n",
      "6/6 [==============================] - 0s 89ms/step - loss: 1.1437 - accuracy: 0.4882 - val_loss: 1.0938 - val_accuracy: 0.4884\n",
      "Epoch 56/200\n",
      "1/6 [====>.........................] - ETA: 0s - loss: 0.9663 - accuracy: 0.6875INFO:tensorflow:Assets written to: checkpoints\\assets\n",
      "6/6 [==============================] - 1s 110ms/step - loss: 1.1373 - accuracy: 0.4941 - val_loss: 1.0915 - val_accuracy: 0.5116\n",
      "Epoch 57/200\n",
      "1/6 [====>.........................] - ETA: 0s - loss: 1.1730 - accuracy: 0.5938INFO:tensorflow:Assets written to: checkpoints\\assets\n",
      "6/6 [==============================] - 1s 106ms/step - loss: 1.1317 - accuracy: 0.5000 - val_loss: 1.0905 - val_accuracy: 0.5116\n",
      "Epoch 58/200\n",
      "1/6 [====>.........................] - ETA: 0s - loss: 1.1576 - accuracy: 0.5000INFO:tensorflow:Assets written to: checkpoints\\assets\n",
      "6/6 [==============================] - 1s 106ms/step - loss: 1.1254 - accuracy: 0.5000 - val_loss: 1.0887 - val_accuracy: 0.5116\n",
      "Epoch 59/200\n",
      "1/6 [====>.........................] - ETA: 0s - loss: 1.2510 - accuracy: 0.4375INFO:tensorflow:Assets written to: checkpoints\\assets\n",
      "6/6 [==============================] - 0s 94ms/step - loss: 1.1202 - accuracy: 0.5000 - val_loss: 1.0869 - val_accuracy: 0.5116\n",
      "Epoch 60/200\n",
      "1/6 [====>.........................] - ETA: 0s - loss: 1.1877 - accuracy: 0.4062INFO:tensorflow:Assets written to: checkpoints\\assets\n",
      "6/6 [==============================] - 1s 107ms/step - loss: 1.1152 - accuracy: 0.5000 - val_loss: 1.0835 - val_accuracy: 0.5116\n"
     ]
    },
    {
     "name": "stdout",
     "output_type": "stream",
     "text": [
      "Epoch 61/200\n",
      "1/6 [====>.........................] - ETA: 0s - loss: 1.0818 - accuracy: 0.5000INFO:tensorflow:Assets written to: checkpoints\\assets\n",
      "6/6 [==============================] - 1s 111ms/step - loss: 1.1109 - accuracy: 0.5000 - val_loss: 1.0762 - val_accuracy: 0.5116\n",
      "Epoch 62/200\n",
      "1/6 [====>.........................] - ETA: 0s - loss: 1.0155 - accuracy: 0.5312INFO:tensorflow:Assets written to: checkpoints\\assets\n",
      "6/6 [==============================] - 1s 104ms/step - loss: 1.1057 - accuracy: 0.5118 - val_loss: 1.0729 - val_accuracy: 0.5116\n",
      "Epoch 63/200\n",
      "1/6 [====>.........................] - ETA: 0s - loss: 0.9664 - accuracy: 0.4688INFO:tensorflow:Assets written to: checkpoints\\assets\n",
      "6/6 [==============================] - 1s 147ms/step - loss: 1.1026 - accuracy: 0.5118 - val_loss: 1.0670 - val_accuracy: 0.5116\n",
      "Epoch 64/200\n",
      "1/6 [====>.........................] - ETA: 0s - loss: 0.9897 - accuracy: 0.5000INFO:tensorflow:Assets written to: checkpoints\\assets\n",
      "6/6 [==============================] - 1s 107ms/step - loss: 1.0976 - accuracy: 0.5059 - val_loss: 1.0636 - val_accuracy: 0.5116\n",
      "Epoch 65/200\n",
      "1/6 [====>.........................] - ETA: 0s - loss: 1.1154 - accuracy: 0.5938INFO:tensorflow:Assets written to: checkpoints\\assets\n",
      "6/6 [==============================] - 1s 105ms/step - loss: 1.0946 - accuracy: 0.5059 - val_loss: 1.0591 - val_accuracy: 0.5116\n",
      "Epoch 66/200\n",
      "6/6 [==============================] - 0s 5ms/step - loss: 1.0899 - accuracy: 0.5059 - val_loss: 1.0616 - val_accuracy: 0.5116\n",
      "Epoch 67/200\n",
      "1/6 [====>.........................] - ETA: 0s - loss: 1.0889 - accuracy: 0.3750INFO:tensorflow:Assets written to: checkpoints\\assets\n",
      "6/6 [==============================] - 1s 107ms/step - loss: 1.0853 - accuracy: 0.5000 - val_loss: 1.0580 - val_accuracy: 0.5116\n",
      "Epoch 68/200\n",
      "1/6 [====>.........................] - ETA: 0s - loss: 1.2390 - accuracy: 0.3438INFO:tensorflow:Assets written to: checkpoints\\assets\n",
      "6/6 [==============================] - 1s 112ms/step - loss: 1.0821 - accuracy: 0.5059 - val_loss: 1.0545 - val_accuracy: 0.5116\n",
      "Epoch 69/200\n",
      "1/6 [====>.........................] - ETA: 0s - loss: 0.9879 - accuracy: 0.5938INFO:tensorflow:Assets written to: checkpoints\\assets\n",
      "6/6 [==============================] - 1s 110ms/step - loss: 1.0767 - accuracy: 0.5118 - val_loss: 1.0519 - val_accuracy: 0.5116\n",
      "Epoch 70/200\n",
      "1/6 [====>.........................] - ETA: 0s - loss: 0.9496 - accuracy: 0.5000INFO:tensorflow:Assets written to: checkpoints\\assets\n",
      "6/6 [==============================] - 1s 114ms/step - loss: 1.0735 - accuracy: 0.5176 - val_loss: 1.0519 - val_accuracy: 0.5116\n",
      "Epoch 71/200\n",
      "6/6 [==============================] - 0s 7ms/step - loss: 1.0702 - accuracy: 0.5176 - val_loss: 1.0525 - val_accuracy: 0.5116\n",
      "Epoch 72/200\n",
      "1/6 [====>.........................] - ETA: 0s - loss: 1.1233 - accuracy: 0.5000INFO:tensorflow:Assets written to: checkpoints\\assets\n",
      "6/6 [==============================] - 1s 113ms/step - loss: 1.0661 - accuracy: 0.5176 - val_loss: 1.0492 - val_accuracy: 0.5116\n",
      "Epoch 73/200\n",
      "1/6 [====>.........................] - ETA: 0s - loss: 1.0739 - accuracy: 0.4375INFO:tensorflow:Assets written to: checkpoints\\assets\n",
      "6/6 [==============================] - 0s 88ms/step - loss: 1.0626 - accuracy: 0.5118 - val_loss: 1.0445 - val_accuracy: 0.5116\n",
      "Epoch 74/200\n",
      "1/6 [====>.........................] - ETA: 0s - loss: 1.0409 - accuracy: 0.5625INFO:tensorflow:Assets written to: checkpoints\\assets\n",
      "6/6 [==============================] - 1s 144ms/step - loss: 1.0592 - accuracy: 0.5176 - val_loss: 1.0424 - val_accuracy: 0.5116\n",
      "Epoch 75/200\n",
      "1/6 [====>.........................] - ETA: 0s - loss: 1.2543 - accuracy: 0.4062INFO:tensorflow:Assets written to: checkpoints\\assets\n",
      "6/6 [==============================] - 1s 109ms/step - loss: 1.0559 - accuracy: 0.5118 - val_loss: 1.0387 - val_accuracy: 0.5116\n",
      "Epoch 76/200\n",
      "1/6 [====>.........................] - ETA: 0s - loss: 1.0905 - accuracy: 0.4375INFO:tensorflow:Assets written to: checkpoints\\assets\n",
      "6/6 [==============================] - 1s 104ms/step - loss: 1.0522 - accuracy: 0.5118 - val_loss: 1.0369 - val_accuracy: 0.5116\n",
      "Epoch 77/200\n",
      "1/6 [====>.........................] - ETA: 0s - loss: 1.3354 - accuracy: 0.4062INFO:tensorflow:Assets written to: checkpoints\\assets\n",
      "6/6 [==============================] - 1s 118ms/step - loss: 1.0492 - accuracy: 0.5118 - val_loss: 1.0363 - val_accuracy: 0.5116\n",
      "Epoch 78/200\n",
      "1/6 [====>.........................] - ETA: 0s - loss: 0.8771 - accuracy: 0.6250INFO:tensorflow:Assets written to: checkpoints\\assets\n",
      "6/6 [==============================] - 1s 111ms/step - loss: 1.0460 - accuracy: 0.5059 - val_loss: 1.0333 - val_accuracy: 0.5116\n",
      "Epoch 79/200\n",
      "6/6 [==============================] - 0s 6ms/step - loss: 1.0443 - accuracy: 0.5059 - val_loss: 1.0356 - val_accuracy: 0.5116\n",
      "Epoch 80/200\n",
      "1/6 [====>.........................] - ETA: 0s - loss: 1.1385 - accuracy: 0.3438INFO:tensorflow:Assets written to: checkpoints\\assets\n",
      "6/6 [==============================] - 1s 109ms/step - loss: 1.0407 - accuracy: 0.5176 - val_loss: 1.0326 - val_accuracy: 0.5116\n",
      "Epoch 81/200\n",
      "1/6 [====>.........................] - ETA: 0s - loss: 1.0023 - accuracy: 0.5312INFO:tensorflow:Assets written to: checkpoints\\assets\n",
      "6/6 [==============================] - 1s 104ms/step - loss: 1.0369 - accuracy: 0.5118 - val_loss: 1.0300 - val_accuracy: 0.5116\n",
      "Epoch 82/200\n",
      "1/6 [====>.........................] - ETA: 0s - loss: 0.9853 - accuracy: 0.5312INFO:tensorflow:Assets written to: checkpoints\\assets\n",
      "6/6 [==============================] - 1s 110ms/step - loss: 1.0334 - accuracy: 0.5059 - val_loss: 1.0286 - val_accuracy: 0.5116\n",
      "Epoch 83/200\n",
      "1/6 [====>.........................] - ETA: 0s - loss: 1.0691 - accuracy: 0.5312INFO:tensorflow:Assets written to: checkpoints\\assets\n",
      "6/6 [==============================] - 1s 112ms/step - loss: 1.0307 - accuracy: 0.5118 - val_loss: 1.0245 - val_accuracy: 0.5116\n",
      "Epoch 84/200\n",
      "1/6 [====>.........................] - ETA: 0s - loss: 1.2344 - accuracy: 0.3125INFO:tensorflow:Assets written to: checkpoints\\assets\n",
      "6/6 [==============================] - 1s 138ms/step - loss: 1.0275 - accuracy: 0.5118 - val_loss: 1.0233 - val_accuracy: 0.5116\n",
      "Epoch 85/200\n",
      "1/6 [====>.........................] - ETA: 0s - loss: 0.9650 - accuracy: 0.5000INFO:tensorflow:Assets written to: checkpoints\\assets\n",
      "6/6 [==============================] - 1s 113ms/step - loss: 1.0243 - accuracy: 0.5059 - val_loss: 1.0215 - val_accuracy: 0.5116\n",
      "Epoch 86/200\n",
      "6/6 [==============================] - 0s 6ms/step - loss: 1.0208 - accuracy: 0.5059 - val_loss: 1.0252 - val_accuracy: 0.5116\n",
      "Epoch 87/200\n",
      "6/6 [==============================] - 0s 5ms/step - loss: 1.0184 - accuracy: 0.5235 - val_loss: 1.0249 - val_accuracy: 0.5116\n",
      "Epoch 88/200\n",
      "6/6 [==============================] - 0s 6ms/step - loss: 1.0148 - accuracy: 0.5235 - val_loss: 1.0227 - val_accuracy: 0.5116\n",
      "Epoch 89/200\n",
      "1/6 [====>.........................] - ETA: 0s - loss: 1.0074 - accuracy: 0.5312INFO:tensorflow:Assets written to: checkpoints\\assets\n",
      "6/6 [==============================] - 1s 122ms/step - loss: 1.0116 - accuracy: 0.5176 - val_loss: 1.0199 - val_accuracy: 0.5116\n",
      "Epoch 90/200\n",
      "1/6 [====>.........................] - ETA: 0s - loss: 0.8368 - accuracy: 0.6250INFO:tensorflow:Assets written to: checkpoints\\assets\n",
      "6/6 [==============================] - 1s 104ms/step - loss: 1.0085 - accuracy: 0.5118 - val_loss: 1.0130 - val_accuracy: 0.5116\n",
      "Epoch 91/200\n",
      "1/6 [====>.........................] - ETA: 0s - loss: 1.2167 - accuracy: 0.4688INFO:tensorflow:Assets written to: checkpoints\\assets\n",
      "6/6 [==============================] - 0s 97ms/step - loss: 1.0052 - accuracy: 0.5176 - val_loss: 1.0086 - val_accuracy: 0.5116\n",
      "Epoch 92/200\n",
      "1/6 [====>.........................] - ETA: 0s - loss: 1.0747 - accuracy: 0.4688INFO:tensorflow:Assets written to: checkpoints\\assets\n",
      "6/6 [==============================] - 1s 119ms/step - loss: 1.0017 - accuracy: 0.5176 - val_loss: 1.0075 - val_accuracy: 0.5116\n",
      "Epoch 93/200\n",
      "6/6 [==============================] - 0s 6ms/step - loss: 0.9978 - accuracy: 0.5176 - val_loss: 1.0080 - val_accuracy: 0.5349\n",
      "Epoch 94/200\n",
      "1/6 [====>.........................] - ETA: 0s - loss: 1.0387 - accuracy: 0.6250INFO:tensorflow:Assets written to: checkpoints\\assets\n",
      "6/6 [==============================] - 1s 128ms/step - loss: 0.9936 - accuracy: 0.5294 - val_loss: 1.0047 - val_accuracy: 0.6047\n",
      "Epoch 95/200\n",
      "1/6 [====>.........................] - ETA: 0s - loss: 1.0119 - accuracy: 0.5938INFO:tensorflow:Assets written to: checkpoints\\assets\n",
      "6/6 [==============================] - 1s 111ms/step - loss: 0.9909 - accuracy: 0.5471 - val_loss: 1.0005 - val_accuracy: 0.6047\n",
      "Epoch 96/200\n",
      "1/6 [====>.........................] - ETA: 0s - loss: 1.0272 - accuracy: 0.4688INFO:tensorflow:Assets written to: checkpoints\\assets\n",
      "6/6 [==============================] - 1s 119ms/step - loss: 0.9872 - accuracy: 0.5471 - val_loss: 0.9979 - val_accuracy: 0.6047\n",
      "Epoch 97/200\n",
      "1/6 [====>.........................] - ETA: 0s - loss: 0.8439 - accuracy: 0.5938INFO:tensorflow:Assets written to: checkpoints\\assets\n",
      "6/6 [==============================] - 1s 145ms/step - loss: 0.9841 - accuracy: 0.5471 - val_loss: 0.9936 - val_accuracy: 0.6047\n",
      "Epoch 98/200\n",
      "1/6 [====>.........................] - ETA: 0s - loss: 1.0444 - accuracy: 0.5312INFO:tensorflow:Assets written to: checkpoints\\assets\n",
      "6/6 [==============================] - 1s 114ms/step - loss: 0.9807 - accuracy: 0.5588 - val_loss: 0.9908 - val_accuracy: 0.6047\n",
      "Epoch 99/200\n",
      "6/6 [==============================] - 0s 7ms/step - loss: 0.9777 - accuracy: 0.5471 - val_loss: 0.9909 - val_accuracy: 0.6047\n",
      "Epoch 100/200\n",
      "1/6 [====>.........................] - ETA: 0s - loss: 1.0735 - accuracy: 0.5312INFO:tensorflow:Assets written to: checkpoints\\assets\n",
      "6/6 [==============================] - 1s 120ms/step - loss: 0.9750 - accuracy: 0.5588 - val_loss: 0.9905 - val_accuracy: 0.6047\n",
      "Epoch 101/200\n",
      "1/6 [====>.........................] - ETA: 0s - loss: 0.9809 - accuracy: 0.5000INFO:tensorflow:Assets written to: checkpoints\\assets\n",
      "6/6 [==============================] - 1s 110ms/step - loss: 0.9718 - accuracy: 0.5471 - val_loss: 0.9884 - val_accuracy: 0.5814\n",
      "Epoch 102/200\n",
      "1/6 [====>.........................] - ETA: 0s - loss: 1.1716 - accuracy: 0.5000INFO:tensorflow:Assets written to: checkpoints\\assets\n",
      "6/6 [==============================] - 0s 99ms/step - loss: 0.9695 - accuracy: 0.5471 - val_loss: 0.9874 - val_accuracy: 0.6047\n",
      "Epoch 103/200\n",
      "1/6 [====>.........................] - ETA: 0s - loss: 0.7496 - accuracy: 0.6250INFO:tensorflow:Assets written to: checkpoints\\assets\n",
      "6/6 [==============================] - 1s 114ms/step - loss: 0.9671 - accuracy: 0.5471 - val_loss: 0.9859 - val_accuracy: 0.6047\n",
      "Epoch 104/200\n",
      "6/6 [==============================] - 0s 8ms/step - loss: 0.9638 - accuracy: 0.5588 - val_loss: 0.9906 - val_accuracy: 0.6047\n",
      "Epoch 105/200\n",
      "6/6 [==============================] - 0s 5ms/step - loss: 0.9606 - accuracy: 0.5706 - val_loss: 0.9894 - val_accuracy: 0.6047\n",
      "Epoch 106/200\n",
      "6/6 [==============================] - 0s 5ms/step - loss: 0.9585 - accuracy: 0.5706 - val_loss: 0.9906 - val_accuracy: 0.6047\n",
      "Epoch 107/200\n",
      "6/6 [==============================] - 0s 5ms/step - loss: 0.9568 - accuracy: 0.5647 - val_loss: 0.9919 - val_accuracy: 0.6047\n",
      "Epoch 108/200\n",
      "6/6 [==============================] - 0s 5ms/step - loss: 0.9544 - accuracy: 0.5588 - val_loss: 0.9889 - val_accuracy: 0.6047\n",
      "Epoch 109/200\n",
      "6/6 [==============================] - 0s 5ms/step - loss: 0.9514 - accuracy: 0.5765 - val_loss: 0.9888 - val_accuracy: 0.6047\n",
      "Epoch 110/200\n",
      "6/6 [==============================] - 0s 5ms/step - loss: 0.9494 - accuracy: 0.5765 - val_loss: 0.9876 - val_accuracy: 0.6047\n",
      "Epoch 111/200\n",
      "6/6 [==============================] - 0s 5ms/step - loss: 0.9474 - accuracy: 0.5647 - val_loss: 0.9861 - val_accuracy: 0.6047\n",
      "Epoch 112/200\n",
      "1/6 [====>.........................] - ETA: 0s - loss: 0.8665 - accuracy: 0.6250INFO:tensorflow:Assets written to: checkpoints\\assets\n",
      "6/6 [==============================] - 1s 111ms/step - loss: 0.9455 - accuracy: 0.5647 - val_loss: 0.9825 - val_accuracy: 0.6279\n",
      "Epoch 113/200\n",
      "1/6 [====>.........................] - ETA: 0s - loss: 0.8177 - accuracy: 0.6250INFO:tensorflow:Assets written to: checkpoints\\assets\n",
      "6/6 [==============================] - 1s 120ms/step - loss: 0.9439 - accuracy: 0.5647 - val_loss: 0.9808 - val_accuracy: 0.6279\n",
      "Epoch 114/200\n",
      "6/6 [==============================] - 0s 6ms/step - loss: 0.9421 - accuracy: 0.5706 - val_loss: 0.9822 - val_accuracy: 0.6279\n",
      "Epoch 115/200\n",
      "6/6 [==============================] - 0s 5ms/step - loss: 0.9409 - accuracy: 0.5824 - val_loss: 0.9811 - val_accuracy: 0.6744\n",
      "Epoch 116/200\n",
      "6/6 [==============================] - 0s 5ms/step - loss: 0.9388 - accuracy: 0.6059 - val_loss: 0.9851 - val_accuracy: 0.6977\n",
      "Epoch 117/200\n",
      "6/6 [==============================] - 0s 5ms/step - loss: 0.9362 - accuracy: 0.6059 - val_loss: 0.9845 - val_accuracy: 0.6279\n",
      "Epoch 118/200\n",
      "6/6 [==============================] - 0s 5ms/step - loss: 0.9346 - accuracy: 0.5765 - val_loss: 0.9836 - val_accuracy: 0.6047\n",
      "Epoch 119/200\n",
      "6/6 [==============================] - 0s 5ms/step - loss: 0.9351 - accuracy: 0.5706 - val_loss: 0.9823 - val_accuracy: 0.6047\n",
      "Epoch 120/200\n",
      "6/6 [==============================] - 0s 6ms/step - loss: 0.9317 - accuracy: 0.5765 - val_loss: 0.9838 - val_accuracy: 0.6279\n",
      "Epoch 121/200\n",
      "6/6 [==============================] - 0s 5ms/step - loss: 0.9289 - accuracy: 0.5706 - val_loss: 0.9819 - val_accuracy: 0.6279\n",
      "Epoch 122/200\n",
      "6/6 [==============================] - 0s 5ms/step - loss: 0.9277 - accuracy: 0.5765 - val_loss: 0.9833 - val_accuracy: 0.6279\n",
      "Epoch 123/200\n",
      "6/6 [==============================] - 0s 5ms/step - loss: 0.9258 - accuracy: 0.5706 - val_loss: 0.9867 - val_accuracy: 0.6279\n"
     ]
    }
   ],
   "source": [
    "\n",
    "# Fit the model\n",
    "non_norm_history = model_11.fit(X_train,\n",
    "                                one_hot_y_train,\n",
    "                                epochs=200,\n",
    "                                validation_data=(X_test, one_hot_y_test),\n",
    "                               callbacks=[model_checkpoint, # save only the best model during training\n",
    "                                                                   early_stopping,]\n",
    "                               ) # see how the model performs on the test set during training"
   ]
  },
  {
   "cell_type": "code",
   "execution_count": 185,
   "id": "5872a9bc",
   "metadata": {},
   "outputs": [],
   "source": [
    "# Plot the validation and training data separately\n",
    "def plot_loss_curves(history):\n",
    "  \"\"\"\n",
    "  Returns separate loss curves for training and validation metrics.\n",
    "  \"\"\" \n",
    "  loss = history.history['loss']\n",
    "  val_loss = history.history['val_loss']\n",
    "\n",
    "  accuracy = history.history['accuracy']\n",
    "  val_accuracy = history.history['val_accuracy']\n",
    "\n",
    "  epochs = range(len(history.history['loss']))\n",
    "\n",
    "  # Plot loss\n",
    "  plt.plot(epochs, loss, label='training_loss')\n",
    "  plt.plot(epochs, val_loss, label='val_loss')\n",
    "  plt.title('Loss')\n",
    "  plt.xlabel('Epochs')\n",
    "  plt.legend()\n",
    "\n",
    "  # Plot accuracy\n",
    "  plt.figure()\n",
    "  plt.plot(epochs, accuracy, label='training_accuracy')\n",
    "  plt.plot(epochs, val_accuracy, label='val_accuracy')\n",
    "  plt.title('Accuracy')\n",
    "  plt.xlabel('Epochs')\n",
    "  plt.legend();"
   ]
  },
  {
   "cell_type": "code",
   "execution_count": 186,
   "id": "417b6ef3",
   "metadata": {},
   "outputs": [
    {
     "data": {
      "image/png": "[encoded data removed]",
      "text/plain": [
       "<Figure size 432x288 with 1 Axes>"
      ]
     },
     "metadata": {
      "needs_background": "light"
     },
     "output_type": "display_data"
    },
    {
     "data": {
      "image/png": "[encoded data removed]",
      "text/plain": [
       "<Figure size 432x288 with 1 Axes>"
      ]
     },
     "metadata": {
      "needs_background": "light"
     },
     "output_type": "display_data"
    }
   ],
   "source": [
    "plot_loss_curves(non_norm_history)"
   ]
  },
  {
   "cell_type": "code",
   "execution_count": 286,
   "id": "97a67241",
   "metadata": {},
   "outputs": [
    {
     "name": "stdout",
     "output_type": "stream",
     "text": [
      "Parameters currently in use:\n",
      "\n",
      "{'bootstrap': True, 'ccp_alpha': 0.0, 'criterion': 'mse', 'max_depth': None, 'max_features': 'auto', 'max_leaf_nodes': None, 'max_samples': None, 'min_impurity_decrease': 0.0, 'min_impurity_split': None, 'min_samples_leaf': 1, 'min_samples_split': 2, 'min_weight_fraction_leaf': 0.0, 'n_estimators': 100, 'n_jobs': None, 'oob_score': False, 'random_state': 42, 'verbose': 0, 'warm_start': False}\n"
     ]
    }
   ],
   "source": [
    "from sklearn.ensemble import RandomForestRegressor\n",
    "rf = RandomForestRegressor(random_state = 42)\n",
    "from pprint import pprint# Look at parameters used by our current forest\n",
    "print('Parameters currently in use:\\n')\n",
    "print(rf.get_params())"
   ]
  },
  {
   "cell_type": "code",
   "execution_count": 308,
   "id": "28046396",
   "metadata": {},
   "outputs": [
    {
     "name": "stdout",
     "output_type": "stream",
     "text": [
      "{'n_estimators': [5, 10, 15, 20, 25, 30, 35, 40, 45, 50, 55, 60, 65, 70, 75, 80, 85, 90, 95, 100, 105, 110, 115, 120, 125, 130, 135, 140, 145, 150, 155, 160, 165, 170, 175, 180, 185, 190, 195, 200, 205, 210, 215, 220, 225, 230, 235, 240, 245, 250, 255, 260, 265, 270, 275, 280, 285, 290, 295, 300, 305, 310, 315, 320, 325, 330, 335, 340, 345, 350, 355, 360, 365, 370, 375, 380, 385, 390, 395, 400, 405, 410, 415, 420, 425, 430, 435, 440, 445, 450, 455, 460, 465, 470, 475, 480, 485, 490, 495], 'max_features': ['auto', 'sqrt'], 'max_depth': [10, 20, 30, 40, 50, 60, 70, 80, 90, 100, 110, None], 'min_samples_split': [2, 5, 10], 'min_samples_leaf': [1, 2, 4], 'bootstrap': [True, False]}\n"
     ]
    }
   ],
   "source": [
    "from sklearn.model_selection import RandomizedSearchCV# Number of trees in random forest\n",
    "#n_estimators = [int(x) for x in np.linspace(start = 5, stop = 500, num = 20)]\n",
    "n_estimators=np.arange(5,500,5).tolist()\n",
    "# Number of features to consider at every split\n",
    "max_features = ['auto', 'sqrt']\n",
    "# Maximum number of levels in tree\n",
    "max_depth = [int(x) for x in np.linspace(10, 110, num = 11)]\n",
    "max_depth.append(None)\n",
    "# Minimum number of samples required to split a node\n",
    "min_samples_split = [2, 5, 10]\n",
    "# Minimum number of samples required at each leaf node\n",
    "min_samples_leaf = [1, 2, 4]\n",
    "# Method of selecting samples for training each tree\n",
    "bootstrap = [True, False]# Create the random grid\n",
    "random_grid = {'n_estimators': n_estimators,\n",
    "               'max_features': max_features,\n",
    "               'max_depth': max_depth,\n",
    "               'min_samples_split': min_samples_split,\n",
    "               'min_samples_leaf': min_samples_leaf,\n",
    "               'bootstrap': bootstrap}\n",
    "print(random_grid)"
   ]
  },
  {
   "cell_type": "code",
   "execution_count": 309,
   "id": "8a3028b1",
   "metadata": {},
   "outputs": [
    {
     "name": "stdout",
     "output_type": "stream",
     "text": [
      "Fitting 3 folds for each of 100 candidates, totalling 300 fits\n"
     ]
    },
    {
     "data": {
      "text/plain": [
       "RandomizedSearchCV(cv=3, estimator=RandomForestRegressor(), n_iter=100,\n",
       "                   n_jobs=-1,\n",
       "                   param_distributions={'bootstrap': [True, False],\n",
       "                                        'max_depth': [10, 20, 30, 40, 50, 60,\n",
       "                                                      70, 80, 90, 100, 110,\n",
       "                                                      None],\n",
       "                                        'max_features': ['auto', 'sqrt'],\n",
       "                                        'min_samples_leaf': [1, 2, 4],\n",
       "                                        'min_samples_split': [2, 5, 10],\n",
       "                                        'n_estimators': [5, 10, 15, 20, 25, 30,\n",
       "                                                         35, 40, 45, 50, 55, 60,\n",
       "                                                         65, 70, 75, 80, 85, 90,\n",
       "                                                         95, 100, 105, 110, 115,\n",
       "                                                         120, 125, 130, 135,\n",
       "                                                         140, 145, 150, ...]},\n",
       "                   random_state=42, verbose=2)"
      ]
     },
     "execution_count": 309,
     "metadata": {},
     "output_type": "execute_result"
    }
   ],
   "source": [
    "# Use the random grid to search for best hyperparameters\n",
    "# First create the base model to tune\n",
    "rf = RandomForestRegressor()\n",
    "# Random search of parameters, using 3 fold cross validation, \n",
    "# search across 100 different combinations, and use all available cores\n",
    "rf_random = RandomizedSearchCV(estimator = rf, param_distributions = random_grid, n_iter = 100, cv = 3, verbose=2, random_state=42, n_jobs = -1)# Fit the random search model\n",
    "rf_random.fit(X_train, y_train)"
   ]
  },
  {
   "cell_type": "code",
   "execution_count": 310,
   "id": "06905b23",
   "metadata": {},
   "outputs": [
    {
     "data": {
      "text/plain": [
       "{'n_estimators': 135,\n",
       " 'min_samples_split': 5,\n",
       " 'min_samples_leaf': 1,\n",
       " 'max_features': 'sqrt',\n",
       " 'max_depth': 10,\n",
       " 'bootstrap': True}"
      ]
     },
     "execution_count": 310,
     "metadata": {},
     "output_type": "execute_result"
    }
   ],
   "source": [
    "rf_random.best_params_"
   ]
  },
  {
   "cell_type": "code",
   "execution_count": null,
   "id": "4fd8294f",
   "metadata": {},
   "outputs": [],
   "source": [
    "\n",
    "\n",
    "# cv = StratifiedKFold(n_splits=5, random_state=123, shuffle=True)\n",
    "# results = pd.DataFrame(columns=['training_score', 'test_score'])\n",
    "# fprs, tprs, scores = [], [], []\n",
    "    \n",
    "# for (train, test), i in zip(cv.split(X, y), range(5)):\n",
    "#     clf.fit(X.iloc[train], y.iloc[train])\n",
    "#     _, _, auc_score_train = compute_roc_auc(train)\n",
    "#     fpr, tpr, auc_score = compute_roc_auc(test)\n",
    "#     scores.append((auc_score_train, auc_score))\n",
    "#     fprs.append(fpr)\n",
    "#     tprs.append(tpr)\n",
    "\n",
    "# plot_roc_curve(fprs, tprs);\n",
    "# pd.DataFrame(scores, columns=['AUC Train', 'AUC Test'])\n",
    "\n"
   ]
  }
 ],
 "metadata": {
  "kernelspec": {
   "display_name": "Python 3",
   "language": "python",
   "name": "python3"
  },
  "language_info": {
   "codemirror_mode": {
    "name": "ipython",
    "version": 3
   },
   "file_extension": ".py",
   "mimetype": "text/x-python",
   "name": "python",
   "nbconvert_exporter": "python",
   "pygments_lexer": "ipython3",
   "version": "3.8.8"
  }
 },
 "nbformat": 4,
 "nbformat_minor": 5
}
